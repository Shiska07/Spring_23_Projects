{
 "cells": [
  {
   "cell_type": "markdown",
   "id": "f04db7b7",
   "metadata": {},
   "source": [
    "Name: Shiska Raut <br>\n",
    "ID:   1001526329"
   ]
  },
  {
   "cell_type": "code",
   "execution_count": 1,
   "id": "50af3e55",
   "metadata": {},
   "outputs": [],
   "source": [
    "# import libraries\n",
    "import numpy as np\n",
    "import pandas as pd\n",
    "import matplotlib.pyplot as plt\n",
    "import graphviz\n",
    "%matplotlib inline"
   ]
  },
  {
   "cell_type": "code",
   "execution_count": 2,
   "id": "9eb94cec",
   "metadata": {},
   "outputs": [
    {
     "name": "stdout",
     "output_type": "stream",
     "text": [
      "<class 'pandas.core.frame.DataFrame'>\n",
      "RangeIndex: 497 entries, 0 to 496\n",
      "Data columns (total 29 columns):\n",
      " #   Column  Non-Null Count  Dtype  \n",
      "---  ------  --------------  -----  \n",
      " 0   Player  497 non-null    object \n",
      " 1   Pos     497 non-null    object \n",
      " 2   Age     497 non-null    int64  \n",
      " 3   Tm      497 non-null    object \n",
      " 4   G       497 non-null    int64  \n",
      " 5   GS      497 non-null    int64  \n",
      " 6   MP      497 non-null    float64\n",
      " 7   FG      497 non-null    float64\n",
      " 8   FGA     497 non-null    float64\n",
      " 9   FG%     497 non-null    float64\n",
      " 10  3P      497 non-null    float64\n",
      " 11  3PA     497 non-null    float64\n",
      " 12  3P%     497 non-null    float64\n",
      " 13  2P      497 non-null    float64\n",
      " 14  2PA     497 non-null    float64\n",
      " 15  2P%     497 non-null    float64\n",
      " 16  eFG%    497 non-null    float64\n",
      " 17  FT      497 non-null    float64\n",
      " 18  FTA     497 non-null    float64\n",
      " 19  FT%     497 non-null    float64\n",
      " 20  ORB     497 non-null    float64\n",
      " 21  DRB     497 non-null    float64\n",
      " 22  TRB     497 non-null    float64\n",
      " 23  AST     497 non-null    float64\n",
      " 24  STL     497 non-null    float64\n",
      " 25  BLK     497 non-null    float64\n",
      " 26  TOV     497 non-null    float64\n",
      " 27  PF      497 non-null    float64\n",
      " 28  PTS     497 non-null    float64\n",
      "dtypes: float64(23), int64(3), object(3)\n",
      "memory usage: 112.7+ KB\n"
     ]
    }
   ],
   "source": [
    "# read data\n",
    "path = 'nba2021.csv'\n",
    "\n",
    "df = pd.read_csv(path)\n",
    "\n",
    "df.info()"
   ]
  },
  {
   "cell_type": "code",
   "execution_count": 3,
   "id": "b4e8ca1f",
   "metadata": {},
   "outputs": [
    {
     "data": {
      "text/html": [
       "<div>\n",
       "<style scoped>\n",
       "    .dataframe tbody tr th:only-of-type {\n",
       "        vertical-align: middle;\n",
       "    }\n",
       "\n",
       "    .dataframe tbody tr th {\n",
       "        vertical-align: top;\n",
       "    }\n",
       "\n",
       "    .dataframe thead th {\n",
       "        text-align: right;\n",
       "    }\n",
       "</style>\n",
       "<table border=\"1\" class=\"dataframe\">\n",
       "  <thead>\n",
       "    <tr style=\"text-align: right;\">\n",
       "      <th></th>\n",
       "      <th>Player</th>\n",
       "      <th>Pos</th>\n",
       "      <th>Age</th>\n",
       "      <th>Tm</th>\n",
       "      <th>G</th>\n",
       "      <th>GS</th>\n",
       "      <th>MP</th>\n",
       "      <th>FG</th>\n",
       "      <th>FGA</th>\n",
       "      <th>FG%</th>\n",
       "      <th>...</th>\n",
       "      <th>FT%</th>\n",
       "      <th>ORB</th>\n",
       "      <th>DRB</th>\n",
       "      <th>TRB</th>\n",
       "      <th>AST</th>\n",
       "      <th>STL</th>\n",
       "      <th>BLK</th>\n",
       "      <th>TOV</th>\n",
       "      <th>PF</th>\n",
       "      <th>PTS</th>\n",
       "    </tr>\n",
       "  </thead>\n",
       "  <tbody>\n",
       "    <tr>\n",
       "      <th>0</th>\n",
       "      <td>Precious Achiuwa</td>\n",
       "      <td>PF</td>\n",
       "      <td>21</td>\n",
       "      <td>MIA</td>\n",
       "      <td>28</td>\n",
       "      <td>2</td>\n",
       "      <td>14.6</td>\n",
       "      <td>2.6</td>\n",
       "      <td>4.4</td>\n",
       "      <td>0.590</td>\n",
       "      <td>...</td>\n",
       "      <td>0.561</td>\n",
       "      <td>1.3</td>\n",
       "      <td>2.7</td>\n",
       "      <td>4.0</td>\n",
       "      <td>0.6</td>\n",
       "      <td>0.4</td>\n",
       "      <td>0.5</td>\n",
       "      <td>1.0</td>\n",
       "      <td>1.9</td>\n",
       "      <td>6.5</td>\n",
       "    </tr>\n",
       "    <tr>\n",
       "      <th>1</th>\n",
       "      <td>Jaylen Adams</td>\n",
       "      <td>PG</td>\n",
       "      <td>24</td>\n",
       "      <td>MIL</td>\n",
       "      <td>6</td>\n",
       "      <td>0</td>\n",
       "      <td>2.8</td>\n",
       "      <td>0.2</td>\n",
       "      <td>1.3</td>\n",
       "      <td>0.125</td>\n",
       "      <td>...</td>\n",
       "      <td>0.000</td>\n",
       "      <td>0.0</td>\n",
       "      <td>0.5</td>\n",
       "      <td>0.5</td>\n",
       "      <td>0.3</td>\n",
       "      <td>0.0</td>\n",
       "      <td>0.0</td>\n",
       "      <td>0.0</td>\n",
       "      <td>0.2</td>\n",
       "      <td>0.3</td>\n",
       "    </tr>\n",
       "    <tr>\n",
       "      <th>2</th>\n",
       "      <td>Steven Adams</td>\n",
       "      <td>C</td>\n",
       "      <td>27</td>\n",
       "      <td>NOP</td>\n",
       "      <td>27</td>\n",
       "      <td>27</td>\n",
       "      <td>28.1</td>\n",
       "      <td>3.5</td>\n",
       "      <td>5.8</td>\n",
       "      <td>0.603</td>\n",
       "      <td>...</td>\n",
       "      <td>0.468</td>\n",
       "      <td>4.3</td>\n",
       "      <td>4.6</td>\n",
       "      <td>8.9</td>\n",
       "      <td>2.1</td>\n",
       "      <td>1.0</td>\n",
       "      <td>0.6</td>\n",
       "      <td>1.7</td>\n",
       "      <td>1.9</td>\n",
       "      <td>8.0</td>\n",
       "    </tr>\n",
       "    <tr>\n",
       "      <th>3</th>\n",
       "      <td>Bam Adebayo</td>\n",
       "      <td>C</td>\n",
       "      <td>23</td>\n",
       "      <td>MIA</td>\n",
       "      <td>26</td>\n",
       "      <td>26</td>\n",
       "      <td>33.6</td>\n",
       "      <td>7.4</td>\n",
       "      <td>12.9</td>\n",
       "      <td>0.573</td>\n",
       "      <td>...</td>\n",
       "      <td>0.841</td>\n",
       "      <td>1.9</td>\n",
       "      <td>7.3</td>\n",
       "      <td>9.2</td>\n",
       "      <td>5.3</td>\n",
       "      <td>1.0</td>\n",
       "      <td>1.0</td>\n",
       "      <td>3.0</td>\n",
       "      <td>2.6</td>\n",
       "      <td>19.9</td>\n",
       "    </tr>\n",
       "    <tr>\n",
       "      <th>4</th>\n",
       "      <td>LaMarcus Aldridge</td>\n",
       "      <td>C</td>\n",
       "      <td>35</td>\n",
       "      <td>SAS</td>\n",
       "      <td>18</td>\n",
       "      <td>18</td>\n",
       "      <td>26.7</td>\n",
       "      <td>5.9</td>\n",
       "      <td>12.5</td>\n",
       "      <td>0.476</td>\n",
       "      <td>...</td>\n",
       "      <td>0.762</td>\n",
       "      <td>0.8</td>\n",
       "      <td>3.5</td>\n",
       "      <td>4.3</td>\n",
       "      <td>1.9</td>\n",
       "      <td>0.4</td>\n",
       "      <td>0.9</td>\n",
       "      <td>0.9</td>\n",
       "      <td>1.5</td>\n",
       "      <td>14.1</td>\n",
       "    </tr>\n",
       "  </tbody>\n",
       "</table>\n",
       "<p>5 rows × 29 columns</p>\n",
       "</div>"
      ],
      "text/plain": [
       "              Player Pos  Age   Tm   G  GS    MP   FG   FGA    FG%  ...  \\\n",
       "0   Precious Achiuwa  PF   21  MIA  28   2  14.6  2.6   4.4  0.590  ...   \n",
       "1       Jaylen Adams  PG   24  MIL   6   0   2.8  0.2   1.3  0.125  ...   \n",
       "2       Steven Adams   C   27  NOP  27  27  28.1  3.5   5.8  0.603  ...   \n",
       "3        Bam Adebayo   C   23  MIA  26  26  33.6  7.4  12.9  0.573  ...   \n",
       "4  LaMarcus Aldridge   C   35  SAS  18  18  26.7  5.9  12.5  0.476  ...   \n",
       "\n",
       "     FT%  ORB  DRB  TRB  AST  STL  BLK  TOV   PF   PTS  \n",
       "0  0.561  1.3  2.7  4.0  0.6  0.4  0.5  1.0  1.9   6.5  \n",
       "1  0.000  0.0  0.5  0.5  0.3  0.0  0.0  0.0  0.2   0.3  \n",
       "2  0.468  4.3  4.6  8.9  2.1  1.0  0.6  1.7  1.9   8.0  \n",
       "3  0.841  1.9  7.3  9.2  5.3  1.0  1.0  3.0  2.6  19.9  \n",
       "4  0.762  0.8  3.5  4.3  1.9  0.4  0.9  0.9  1.5  14.1  \n",
       "\n",
       "[5 rows x 29 columns]"
      ]
     },
     "execution_count": 3,
     "metadata": {},
     "output_type": "execute_result"
    }
   ],
   "source": [
    "df.head()"
   ]
  },
  {
   "cell_type": "markdown",
   "id": "43926994",
   "metadata": {},
   "source": [
    "### Drop labels that were found to be not too relevant in 'Data_Analysis_and_Model_Selection' notebook"
   ]
  },
  {
   "cell_type": "code",
   "execution_count": 4,
   "id": "dfec0dca",
   "metadata": {},
   "outputs": [],
   "source": [
    "df.drop(['Player', 'Age', 'Tm', 'FG', 'FG%', '3P', '3P%', '2P',\n",
    "         '2P%', 'FT', 'FT%', 'TRB', '2PA', 'FTA', 'G', 'GS', 'TOV', 'PF', 'MP'], axis = 1, inplace = True)"
   ]
  },
  {
   "cell_type": "code",
   "execution_count": 5,
   "id": "348d1ef3",
   "metadata": {},
   "outputs": [
    {
     "data": {
      "text/html": [
       "<div>\n",
       "<style scoped>\n",
       "    .dataframe tbody tr th:only-of-type {\n",
       "        vertical-align: middle;\n",
       "    }\n",
       "\n",
       "    .dataframe tbody tr th {\n",
       "        vertical-align: top;\n",
       "    }\n",
       "\n",
       "    .dataframe thead th {\n",
       "        text-align: right;\n",
       "    }\n",
       "</style>\n",
       "<table border=\"1\" class=\"dataframe\">\n",
       "  <thead>\n",
       "    <tr style=\"text-align: right;\">\n",
       "      <th></th>\n",
       "      <th>Pos</th>\n",
       "      <th>FGA</th>\n",
       "      <th>3PA</th>\n",
       "      <th>eFG%</th>\n",
       "      <th>ORB</th>\n",
       "      <th>DRB</th>\n",
       "      <th>AST</th>\n",
       "      <th>STL</th>\n",
       "      <th>BLK</th>\n",
       "      <th>PTS</th>\n",
       "    </tr>\n",
       "  </thead>\n",
       "  <tbody>\n",
       "    <tr>\n",
       "      <th>0</th>\n",
       "      <td>PF</td>\n",
       "      <td>4.4</td>\n",
       "      <td>0.0</td>\n",
       "      <td>0.590</td>\n",
       "      <td>1.3</td>\n",
       "      <td>2.7</td>\n",
       "      <td>0.6</td>\n",
       "      <td>0.4</td>\n",
       "      <td>0.5</td>\n",
       "      <td>6.5</td>\n",
       "    </tr>\n",
       "    <tr>\n",
       "      <th>1</th>\n",
       "      <td>PG</td>\n",
       "      <td>1.3</td>\n",
       "      <td>0.3</td>\n",
       "      <td>0.125</td>\n",
       "      <td>0.0</td>\n",
       "      <td>0.5</td>\n",
       "      <td>0.3</td>\n",
       "      <td>0.0</td>\n",
       "      <td>0.0</td>\n",
       "      <td>0.3</td>\n",
       "    </tr>\n",
       "    <tr>\n",
       "      <th>2</th>\n",
       "      <td>C</td>\n",
       "      <td>5.8</td>\n",
       "      <td>0.0</td>\n",
       "      <td>0.603</td>\n",
       "      <td>4.3</td>\n",
       "      <td>4.6</td>\n",
       "      <td>2.1</td>\n",
       "      <td>1.0</td>\n",
       "      <td>0.6</td>\n",
       "      <td>8.0</td>\n",
       "    </tr>\n",
       "    <tr>\n",
       "      <th>3</th>\n",
       "      <td>C</td>\n",
       "      <td>12.9</td>\n",
       "      <td>0.2</td>\n",
       "      <td>0.576</td>\n",
       "      <td>1.9</td>\n",
       "      <td>7.3</td>\n",
       "      <td>5.3</td>\n",
       "      <td>1.0</td>\n",
       "      <td>1.0</td>\n",
       "      <td>19.9</td>\n",
       "    </tr>\n",
       "    <tr>\n",
       "      <th>4</th>\n",
       "      <td>C</td>\n",
       "      <td>12.5</td>\n",
       "      <td>3.7</td>\n",
       "      <td>0.529</td>\n",
       "      <td>0.8</td>\n",
       "      <td>3.5</td>\n",
       "      <td>1.9</td>\n",
       "      <td>0.4</td>\n",
       "      <td>0.9</td>\n",
       "      <td>14.1</td>\n",
       "    </tr>\n",
       "    <tr>\n",
       "      <th>5</th>\n",
       "      <td>SG</td>\n",
       "      <td>1.0</td>\n",
       "      <td>0.3</td>\n",
       "      <td>0.000</td>\n",
       "      <td>0.0</td>\n",
       "      <td>0.3</td>\n",
       "      <td>0.3</td>\n",
       "      <td>0.0</td>\n",
       "      <td>0.0</td>\n",
       "      <td>0.0</td>\n",
       "    </tr>\n",
       "    <tr>\n",
       "      <th>6</th>\n",
       "      <td>SG</td>\n",
       "      <td>8.2</td>\n",
       "      <td>3.8</td>\n",
       "      <td>0.473</td>\n",
       "      <td>0.2</td>\n",
       "      <td>2.4</td>\n",
       "      <td>2.0</td>\n",
       "      <td>1.1</td>\n",
       "      <td>0.3</td>\n",
       "      <td>8.8</td>\n",
       "    </tr>\n",
       "    <tr>\n",
       "      <th>7</th>\n",
       "      <td>SG</td>\n",
       "      <td>7.4</td>\n",
       "      <td>5.3</td>\n",
       "      <td>0.586</td>\n",
       "      <td>0.4</td>\n",
       "      <td>2.5</td>\n",
       "      <td>2.1</td>\n",
       "      <td>1.0</td>\n",
       "      <td>0.2</td>\n",
       "      <td>10.4</td>\n",
       "    </tr>\n",
       "    <tr>\n",
       "      <th>8</th>\n",
       "      <td>C</td>\n",
       "      <td>6.8</td>\n",
       "      <td>0.1</td>\n",
       "      <td>0.645</td>\n",
       "      <td>2.9</td>\n",
       "      <td>6.1</td>\n",
       "      <td>1.6</td>\n",
       "      <td>0.5</td>\n",
       "      <td>1.6</td>\n",
       "      <td>12.3</td>\n",
       "    </tr>\n",
       "    <tr>\n",
       "      <th>9</th>\n",
       "      <td>C</td>\n",
       "      <td>5.4</td>\n",
       "      <td>0.0</td>\n",
       "      <td>0.677</td>\n",
       "      <td>3.2</td>\n",
       "      <td>7.3</td>\n",
       "      <td>1.7</td>\n",
       "      <td>0.6</td>\n",
       "      <td>1.6</td>\n",
       "      <td>11.2</td>\n",
       "    </tr>\n",
       "  </tbody>\n",
       "</table>\n",
       "</div>"
      ],
      "text/plain": [
       "  Pos   FGA  3PA   eFG%  ORB  DRB  AST  STL  BLK   PTS\n",
       "0  PF   4.4  0.0  0.590  1.3  2.7  0.6  0.4  0.5   6.5\n",
       "1  PG   1.3  0.3  0.125  0.0  0.5  0.3  0.0  0.0   0.3\n",
       "2   C   5.8  0.0  0.603  4.3  4.6  2.1  1.0  0.6   8.0\n",
       "3   C  12.9  0.2  0.576  1.9  7.3  5.3  1.0  1.0  19.9\n",
       "4   C  12.5  3.7  0.529  0.8  3.5  1.9  0.4  0.9  14.1\n",
       "5  SG   1.0  0.3  0.000  0.0  0.3  0.3  0.0  0.0   0.0\n",
       "6  SG   8.2  3.8  0.473  0.2  2.4  2.0  1.1  0.3   8.8\n",
       "7  SG   7.4  5.3  0.586  0.4  2.5  2.1  1.0  0.2  10.4\n",
       "8   C   6.8  0.1  0.645  2.9  6.1  1.6  0.5  1.6  12.3\n",
       "9   C   5.4  0.0  0.677  3.2  7.3  1.7  0.6  1.6  11.2"
      ]
     },
     "execution_count": 5,
     "metadata": {},
     "output_type": "execute_result"
    }
   ],
   "source": [
    "df.head(10)"
   ]
  },
  {
   "cell_type": "markdown",
   "id": "a1957eca",
   "metadata": {},
   "source": [
    "### Get encoded labels and split data"
   ]
  },
  {
   "cell_type": "code",
   "execution_count": 6,
   "id": "cc3a88d5",
   "metadata": {},
   "outputs": [],
   "source": [
    "from sklearn.preprocessing import LabelEncoder\n",
    "from sklearn.model_selection import train_test_split"
   ]
  },
  {
   "cell_type": "code",
   "execution_count": 7,
   "id": "0e7c78cd",
   "metadata": {},
   "outputs": [],
   "source": [
    "# initialize label encoder and transform labels\n",
    "le = LabelEncoder()\n",
    "transformed_labels = pd.Series(le.fit_transform(df['Pos'].tolist()), name = \"Position\")"
   ]
  },
  {
   "cell_type": "code",
   "execution_count": 8,
   "id": "79ed77ef",
   "metadata": {},
   "outputs": [],
   "source": [
    "# add encoded labels as a new column and drop previous position column\n",
    "df[\"Position\"] = transformed_labels\n",
    "df.drop(['Pos'], axis = 1, inplace = True)"
   ]
  },
  {
   "cell_type": "code",
   "execution_count": 9,
   "id": "a3fad6f4",
   "metadata": {},
   "outputs": [],
   "source": [
    "X = df.drop(['Position'], axis = 1)\n",
    "y = df['Position']    "
   ]
  },
  {
   "cell_type": "code",
   "execution_count": 10,
   "id": "ab95d2ff",
   "metadata": {},
   "outputs": [],
   "source": [
    "# train test split\n",
    "X_train, X_test, y_train, y_test = train_test_split(X, y, test_size = 0.25, stratify = y)"
   ]
  },
  {
   "cell_type": "code",
   "execution_count": 11,
   "id": "3e76feb2",
   "metadata": {},
   "outputs": [
    {
     "name": "stdout",
     "output_type": "stream",
     "text": [
      "<class 'pandas.core.frame.DataFrame'>\n",
      "Int64Index: 372 entries, 143 to 139\n",
      "Data columns (total 9 columns):\n",
      " #   Column  Non-Null Count  Dtype  \n",
      "---  ------  --------------  -----  \n",
      " 0   FGA     372 non-null    float64\n",
      " 1   3PA     372 non-null    float64\n",
      " 2   eFG%    372 non-null    float64\n",
      " 3   ORB     372 non-null    float64\n",
      " 4   DRB     372 non-null    float64\n",
      " 5   AST     372 non-null    float64\n",
      " 6   STL     372 non-null    float64\n",
      " 7   BLK     372 non-null    float64\n",
      " 8   PTS     372 non-null    float64\n",
      "dtypes: float64(9)\n",
      "memory usage: 29.1 KB\n"
     ]
    }
   ],
   "source": [
    "X_train.info()"
   ]
  },
  {
   "cell_type": "markdown",
   "id": "cb0ee4f1",
   "metadata": {},
   "source": [
    "### Logistic Regression"
   ]
  },
  {
   "cell_type": "code",
   "execution_count": 12,
   "id": "275f4d83",
   "metadata": {},
   "outputs": [],
   "source": [
    "from sklearn.linear_model import LogisticRegression"
   ]
  },
  {
   "cell_type": "code",
   "execution_count": 13,
   "id": "a5f0dfc5",
   "metadata": {},
   "outputs": [],
   "source": [
    "# import scaler\n",
    "from sklearn.preprocessing import StandardScaler, MinMaxScaler"
   ]
  },
  {
   "cell_type": "code",
   "execution_count": 14,
   "id": "41e29672",
   "metadata": {},
   "outputs": [],
   "source": [
    "mc = MinMaxScaler()\n",
    "X_train_norm = mc.fit_transform(X_train)\n",
    "X_test_norm = mc.transform(X_test)"
   ]
  },
  {
   "cell_type": "code",
   "execution_count": 15,
   "id": "0b5d3a84",
   "metadata": {},
   "outputs": [],
   "source": [
    "# model with C = 2 and max_iter = 500\n",
    "final_model = LogisticRegression(C = 2, max_iter = 200)\n",
    "final_model.fit(X_train_norm, y_train)\n",
    "\n",
    "# get predictions on test data\n",
    "y_pred = final_model.predict(X_test_norm)"
   ]
  },
  {
   "cell_type": "markdown",
   "id": "45e8c706",
   "metadata": {},
   "source": [
    "### Model Accuracy"
   ]
  },
  {
   "cell_type": "code",
   "execution_count": 18,
   "id": "6a214ee2",
   "metadata": {},
   "outputs": [
    {
     "name": "stdout",
     "output_type": "stream",
     "text": [
      "Total accuracy for test set is 0.57 percent.\n",
      "Class accuracy is:\n",
      "               precision    recall  f1-score   support\n",
      "\n",
      "           0       0.83      0.65      0.73        23\n",
      "           1       0.44      0.62      0.52        26\n",
      "           2       0.65      0.46      0.54        24\n",
      "           3       0.40      0.10      0.15        21\n",
      "           4       0.55      0.87      0.67        31\n",
      "\n",
      "    accuracy                           0.57       125\n",
      "   macro avg       0.58      0.54      0.52       125\n",
      "weighted avg       0.57      0.57      0.54       125\n",
      "\n"
     ]
    }
   ],
   "source": [
    "from sklearn.metrics import accuracy_score, classification_report\n",
    "\n",
    "print(f'Total accuracy for test set is {accuracy_score(y_test, y_pred):0.2f} percent.')\n",
    "print(f'Class accuracy is:\\n {classification_report(y_test, y_pred)}')"
   ]
  },
  {
   "cell_type": "markdown",
   "id": "d226f3a0",
   "metadata": {},
   "source": [
    "### Confusion Matrix"
   ]
  },
  {
   "cell_type": "code",
   "execution_count": 19,
   "id": "10e6747b",
   "metadata": {},
   "outputs": [
    {
     "name": "stdout",
     "output_type": "stream",
     "text": [
      "Test Confusion matrix:\n",
      "Predicted   0   1   2  3   4  All\n",
      "True                             \n",
      "0          15   8   0  0   0   23\n",
      "1           3  16   1  2   4   26\n",
      "2           0   2  11  0  11   24\n",
      "3           0   9   3  2   7   21\n",
      "4           0   1   2  1  27   31\n",
      "All        18  36  17  5  49  125\n"
     ]
    }
   ],
   "source": [
    "print(\"Test Confusion matrix:\")\n",
    "print(pd.crosstab(y_test, y_pred, rownames=['True'], colnames=['Predicted'], margins=True))"
   ]
  },
  {
   "cell_type": "code",
   "execution_count": 20,
   "id": "2f21f9e8",
   "metadata": {},
   "outputs": [
    {
     "data": {
      "text/plain": [
       "array(['C', 'PF', 'PG', 'SF', 'SG'], dtype='<U2')"
      ]
     },
     "execution_count": 20,
     "metadata": {},
     "output_type": "execute_result"
    }
   ],
   "source": [
    "le.inverse_transform([0, 1, 2, 3, 4])"
   ]
  },
  {
   "cell_type": "markdown",
   "id": "c5ff559e",
   "metadata": {},
   "source": [
    "### 10-Fold Cross Validation"
   ]
  },
  {
   "cell_type": "code",
   "execution_count": 21,
   "id": "988f1aad",
   "metadata": {},
   "outputs": [],
   "source": [
    "from sklearn.model_selection import cross_val_score"
   ]
  },
  {
   "cell_type": "code",
   "execution_count": 22,
   "id": "e86f2793",
   "metadata": {},
   "outputs": [],
   "source": [
    "# standardize the whole data\n",
    "mc = MinMaxScaler()\n",
    "X_trans = mc.fit_transform(X)"
   ]
  },
  {
   "cell_type": "code",
   "execution_count": 23,
   "id": "e865396d",
   "metadata": {},
   "outputs": [],
   "source": [
    "# initialize model for cross validation\n",
    "model = LogisticRegression(C = 2, max_iter = 500)"
   ]
  },
  {
   "cell_type": "code",
   "execution_count": 24,
   "id": "34affc5f",
   "metadata": {},
   "outputs": [],
   "source": [
    "# get cross validation scores\n",
    "cv_scores = cross_val_score(model, X_trans, y, cv = 10)"
   ]
  },
  {
   "cell_type": "markdown",
   "id": "29122660",
   "metadata": {},
   "source": [
    "### Accuracy scores for each fold"
   ]
  },
  {
   "cell_type": "code",
   "execution_count": 25,
   "id": "a6c57f58",
   "metadata": {},
   "outputs": [
    {
     "name": "stdout",
     "output_type": "stream",
     "text": [
      "Accuracy scores for 10-Fold CV are: \n",
      "1: 0.560\n",
      "2: 0.440\n",
      "3: 0.540\n",
      "4: 0.520\n",
      "5: 0.580\n",
      "6: 0.500\n",
      "7: 0.500\n",
      "8: 0.551\n",
      "9: 0.592\n",
      "10: 0.490\n"
     ]
    }
   ],
   "source": [
    "# print scores\n",
    "print('Accuracy scores for 10-Fold CV are: ')\n",
    "for i in range(len(cv_scores)):\n",
    "    print(f'{i+1}: {cv_scores[i]:0.3f}')"
   ]
  },
  {
   "cell_type": "code",
   "execution_count": 26,
   "id": "7651d449",
   "metadata": {},
   "outputs": [
    {
     "name": "stdout",
     "output_type": "stream",
     "text": [
      "The average score for cross-validation is: 0.5272653061224489\n"
     ]
    }
   ],
   "source": [
    "print(f'The average score for cross-validation is: {cv_scores.mean()}')"
   ]
  },
  {
   "cell_type": "code",
   "execution_count": null,
   "id": "c3646fd3",
   "metadata": {},
   "outputs": [],
   "source": []
  }
 ],
 "metadata": {
  "kernelspec": {
   "display_name": "Python [conda env:sklearn]",
   "language": "python",
   "name": "conda-env-sklearn-py"
  },
  "language_info": {
   "codemirror_mode": {
    "name": "ipython",
    "version": 3
   },
   "file_extension": ".py",
   "mimetype": "text/x-python",
   "name": "python",
   "nbconvert_exporter": "python",
   "pygments_lexer": "ipython3",
   "version": "3.10.10"
  }
 },
 "nbformat": 4,
 "nbformat_minor": 5
}
