{
 "cells": [
  {
   "cell_type": "markdown",
   "id": "f04db7b7",
   "metadata": {},
   "source": [
    "Name: Shiska Raut <br>\n",
    "ID:   1001526329"
   ]
  },
  {
   "cell_type": "code",
   "execution_count": 30,
   "id": "50af3e55",
   "metadata": {},
   "outputs": [],
   "source": [
    "# import libraries\n",
    "import numpy as np\n",
    "import pandas as pd\n",
    "import matplotlib.pyplot as plt\n",
    "import graphviz\n",
    "%matplotlib inline"
   ]
  },
  {
   "cell_type": "code",
   "execution_count": 31,
   "id": "9eb94cec",
   "metadata": {},
   "outputs": [
    {
     "name": "stdout",
     "output_type": "stream",
     "text": [
      "<class 'pandas.core.frame.DataFrame'>\n",
      "RangeIndex: 497 entries, 0 to 496\n",
      "Data columns (total 29 columns):\n",
      " #   Column  Non-Null Count  Dtype  \n",
      "---  ------  --------------  -----  \n",
      " 0   Player  497 non-null    object \n",
      " 1   Pos     497 non-null    object \n",
      " 2   Age     497 non-null    int64  \n",
      " 3   Tm      497 non-null    object \n",
      " 4   G       497 non-null    int64  \n",
      " 5   GS      497 non-null    int64  \n",
      " 6   MP      497 non-null    float64\n",
      " 7   FG      497 non-null    float64\n",
      " 8   FGA     497 non-null    float64\n",
      " 9   FG%     497 non-null    float64\n",
      " 10  3P      497 non-null    float64\n",
      " 11  3PA     497 non-null    float64\n",
      " 12  3P%     497 non-null    float64\n",
      " 13  2P      497 non-null    float64\n",
      " 14  2PA     497 non-null    float64\n",
      " 15  2P%     497 non-null    float64\n",
      " 16  eFG%    497 non-null    float64\n",
      " 17  FT      497 non-null    float64\n",
      " 18  FTA     497 non-null    float64\n",
      " 19  FT%     497 non-null    float64\n",
      " 20  ORB     497 non-null    float64\n",
      " 21  DRB     497 non-null    float64\n",
      " 22  TRB     497 non-null    float64\n",
      " 23  AST     497 non-null    float64\n",
      " 24  STL     497 non-null    float64\n",
      " 25  BLK     497 non-null    float64\n",
      " 26  TOV     497 non-null    float64\n",
      " 27  PF      497 non-null    float64\n",
      " 28  PTS     497 non-null    float64\n",
      "dtypes: float64(23), int64(3), object(3)\n",
      "memory usage: 112.7+ KB\n"
     ]
    }
   ],
   "source": [
    "# read data\n",
    "path = 'nba2021.csv'\n",
    "\n",
    "df = pd.read_csv(path)\n",
    "\n",
    "df.info()"
   ]
  },
  {
   "cell_type": "code",
   "execution_count": 32,
   "id": "b4e8ca1f",
   "metadata": {},
   "outputs": [
    {
     "data": {
      "text/html": [
       "<div>\n",
       "<style scoped>\n",
       "    .dataframe tbody tr th:only-of-type {\n",
       "        vertical-align: middle;\n",
       "    }\n",
       "\n",
       "    .dataframe tbody tr th {\n",
       "        vertical-align: top;\n",
       "    }\n",
       "\n",
       "    .dataframe thead th {\n",
       "        text-align: right;\n",
       "    }\n",
       "</style>\n",
       "<table border=\"1\" class=\"dataframe\">\n",
       "  <thead>\n",
       "    <tr style=\"text-align: right;\">\n",
       "      <th></th>\n",
       "      <th>Player</th>\n",
       "      <th>Pos</th>\n",
       "      <th>Age</th>\n",
       "      <th>Tm</th>\n",
       "      <th>G</th>\n",
       "      <th>GS</th>\n",
       "      <th>MP</th>\n",
       "      <th>FG</th>\n",
       "      <th>FGA</th>\n",
       "      <th>FG%</th>\n",
       "      <th>...</th>\n",
       "      <th>FT%</th>\n",
       "      <th>ORB</th>\n",
       "      <th>DRB</th>\n",
       "      <th>TRB</th>\n",
       "      <th>AST</th>\n",
       "      <th>STL</th>\n",
       "      <th>BLK</th>\n",
       "      <th>TOV</th>\n",
       "      <th>PF</th>\n",
       "      <th>PTS</th>\n",
       "    </tr>\n",
       "  </thead>\n",
       "  <tbody>\n",
       "    <tr>\n",
       "      <th>0</th>\n",
       "      <td>Precious Achiuwa</td>\n",
       "      <td>PF</td>\n",
       "      <td>21</td>\n",
       "      <td>MIA</td>\n",
       "      <td>28</td>\n",
       "      <td>2</td>\n",
       "      <td>14.6</td>\n",
       "      <td>2.6</td>\n",
       "      <td>4.4</td>\n",
       "      <td>0.590</td>\n",
       "      <td>...</td>\n",
       "      <td>0.561</td>\n",
       "      <td>1.3</td>\n",
       "      <td>2.7</td>\n",
       "      <td>4.0</td>\n",
       "      <td>0.6</td>\n",
       "      <td>0.4</td>\n",
       "      <td>0.5</td>\n",
       "      <td>1.0</td>\n",
       "      <td>1.9</td>\n",
       "      <td>6.5</td>\n",
       "    </tr>\n",
       "    <tr>\n",
       "      <th>1</th>\n",
       "      <td>Jaylen Adams</td>\n",
       "      <td>PG</td>\n",
       "      <td>24</td>\n",
       "      <td>MIL</td>\n",
       "      <td>6</td>\n",
       "      <td>0</td>\n",
       "      <td>2.8</td>\n",
       "      <td>0.2</td>\n",
       "      <td>1.3</td>\n",
       "      <td>0.125</td>\n",
       "      <td>...</td>\n",
       "      <td>0.000</td>\n",
       "      <td>0.0</td>\n",
       "      <td>0.5</td>\n",
       "      <td>0.5</td>\n",
       "      <td>0.3</td>\n",
       "      <td>0.0</td>\n",
       "      <td>0.0</td>\n",
       "      <td>0.0</td>\n",
       "      <td>0.2</td>\n",
       "      <td>0.3</td>\n",
       "    </tr>\n",
       "    <tr>\n",
       "      <th>2</th>\n",
       "      <td>Steven Adams</td>\n",
       "      <td>C</td>\n",
       "      <td>27</td>\n",
       "      <td>NOP</td>\n",
       "      <td>27</td>\n",
       "      <td>27</td>\n",
       "      <td>28.1</td>\n",
       "      <td>3.5</td>\n",
       "      <td>5.8</td>\n",
       "      <td>0.603</td>\n",
       "      <td>...</td>\n",
       "      <td>0.468</td>\n",
       "      <td>4.3</td>\n",
       "      <td>4.6</td>\n",
       "      <td>8.9</td>\n",
       "      <td>2.1</td>\n",
       "      <td>1.0</td>\n",
       "      <td>0.6</td>\n",
       "      <td>1.7</td>\n",
       "      <td>1.9</td>\n",
       "      <td>8.0</td>\n",
       "    </tr>\n",
       "    <tr>\n",
       "      <th>3</th>\n",
       "      <td>Bam Adebayo</td>\n",
       "      <td>C</td>\n",
       "      <td>23</td>\n",
       "      <td>MIA</td>\n",
       "      <td>26</td>\n",
       "      <td>26</td>\n",
       "      <td>33.6</td>\n",
       "      <td>7.4</td>\n",
       "      <td>12.9</td>\n",
       "      <td>0.573</td>\n",
       "      <td>...</td>\n",
       "      <td>0.841</td>\n",
       "      <td>1.9</td>\n",
       "      <td>7.3</td>\n",
       "      <td>9.2</td>\n",
       "      <td>5.3</td>\n",
       "      <td>1.0</td>\n",
       "      <td>1.0</td>\n",
       "      <td>3.0</td>\n",
       "      <td>2.6</td>\n",
       "      <td>19.9</td>\n",
       "    </tr>\n",
       "    <tr>\n",
       "      <th>4</th>\n",
       "      <td>LaMarcus Aldridge</td>\n",
       "      <td>C</td>\n",
       "      <td>35</td>\n",
       "      <td>SAS</td>\n",
       "      <td>18</td>\n",
       "      <td>18</td>\n",
       "      <td>26.7</td>\n",
       "      <td>5.9</td>\n",
       "      <td>12.5</td>\n",
       "      <td>0.476</td>\n",
       "      <td>...</td>\n",
       "      <td>0.762</td>\n",
       "      <td>0.8</td>\n",
       "      <td>3.5</td>\n",
       "      <td>4.3</td>\n",
       "      <td>1.9</td>\n",
       "      <td>0.4</td>\n",
       "      <td>0.9</td>\n",
       "      <td>0.9</td>\n",
       "      <td>1.5</td>\n",
       "      <td>14.1</td>\n",
       "    </tr>\n",
       "  </tbody>\n",
       "</table>\n",
       "<p>5 rows × 29 columns</p>\n",
       "</div>"
      ],
      "text/plain": [
       "              Player Pos  Age   Tm   G  GS    MP   FG   FGA    FG%  ...  \\\n",
       "0   Precious Achiuwa  PF   21  MIA  28   2  14.6  2.6   4.4  0.590  ...   \n",
       "1       Jaylen Adams  PG   24  MIL   6   0   2.8  0.2   1.3  0.125  ...   \n",
       "2       Steven Adams   C   27  NOP  27  27  28.1  3.5   5.8  0.603  ...   \n",
       "3        Bam Adebayo   C   23  MIA  26  26  33.6  7.4  12.9  0.573  ...   \n",
       "4  LaMarcus Aldridge   C   35  SAS  18  18  26.7  5.9  12.5  0.476  ...   \n",
       "\n",
       "     FT%  ORB  DRB  TRB  AST  STL  BLK  TOV   PF   PTS  \n",
       "0  0.561  1.3  2.7  4.0  0.6  0.4  0.5  1.0  1.9   6.5  \n",
       "1  0.000  0.0  0.5  0.5  0.3  0.0  0.0  0.0  0.2   0.3  \n",
       "2  0.468  4.3  4.6  8.9  2.1  1.0  0.6  1.7  1.9   8.0  \n",
       "3  0.841  1.9  7.3  9.2  5.3  1.0  1.0  3.0  2.6  19.9  \n",
       "4  0.762  0.8  3.5  4.3  1.9  0.4  0.9  0.9  1.5  14.1  \n",
       "\n",
       "[5 rows x 29 columns]"
      ]
     },
     "execution_count": 32,
     "metadata": {},
     "output_type": "execute_result"
    }
   ],
   "source": [
    "df.head()"
   ]
  },
  {
   "cell_type": "markdown",
   "id": "43926994",
   "metadata": {},
   "source": [
    "Since there are a lot of attributes, not all attributes may be important for prediction position. For example, attributes like player name, Age and Team may not contribute towards making a good prediction and actually end up making the model unnecessarily complex. For those reasons, they will be dropped. In addition, 'TRB' is a sum of 'ORB' and 'DRB', attributes like 'FG%' can be obtained bt FG/FGA; therefore, they will also be dropped."
   ]
  },
  {
   "cell_type": "code",
   "execution_count": 33,
   "id": "dfec0dca",
   "metadata": {},
   "outputs": [
    {
     "data": {
      "text/html": [
       "<div>\n",
       "<style scoped>\n",
       "    .dataframe tbody tr th:only-of-type {\n",
       "        vertical-align: middle;\n",
       "    }\n",
       "\n",
       "    .dataframe tbody tr th {\n",
       "        vertical-align: top;\n",
       "    }\n",
       "\n",
       "    .dataframe thead th {\n",
       "        text-align: right;\n",
       "    }\n",
       "</style>\n",
       "<table border=\"1\" class=\"dataframe\">\n",
       "  <thead>\n",
       "    <tr style=\"text-align: right;\">\n",
       "      <th></th>\n",
       "      <th>Pos</th>\n",
       "      <th>G</th>\n",
       "      <th>GS</th>\n",
       "      <th>MP</th>\n",
       "      <th>3P%</th>\n",
       "      <th>2P%</th>\n",
       "      <th>eFG%</th>\n",
       "      <th>FT%</th>\n",
       "      <th>TRB</th>\n",
       "      <th>AST</th>\n",
       "      <th>STL</th>\n",
       "      <th>BLK</th>\n",
       "      <th>TOV</th>\n",
       "      <th>PF</th>\n",
       "      <th>PTS</th>\n",
       "    </tr>\n",
       "  </thead>\n",
       "  <tbody>\n",
       "    <tr>\n",
       "      <th>0</th>\n",
       "      <td>PF</td>\n",
       "      <td>28</td>\n",
       "      <td>2</td>\n",
       "      <td>14.6</td>\n",
       "      <td>0.000</td>\n",
       "      <td>0.590</td>\n",
       "      <td>0.590</td>\n",
       "      <td>0.561</td>\n",
       "      <td>4.0</td>\n",
       "      <td>0.6</td>\n",
       "      <td>0.4</td>\n",
       "      <td>0.5</td>\n",
       "      <td>1.0</td>\n",
       "      <td>1.9</td>\n",
       "      <td>6.5</td>\n",
       "    </tr>\n",
       "    <tr>\n",
       "      <th>1</th>\n",
       "      <td>PG</td>\n",
       "      <td>6</td>\n",
       "      <td>0</td>\n",
       "      <td>2.8</td>\n",
       "      <td>0.000</td>\n",
       "      <td>0.167</td>\n",
       "      <td>0.125</td>\n",
       "      <td>0.000</td>\n",
       "      <td>0.5</td>\n",
       "      <td>0.3</td>\n",
       "      <td>0.0</td>\n",
       "      <td>0.0</td>\n",
       "      <td>0.0</td>\n",
       "      <td>0.2</td>\n",
       "      <td>0.3</td>\n",
       "    </tr>\n",
       "    <tr>\n",
       "      <th>2</th>\n",
       "      <td>C</td>\n",
       "      <td>27</td>\n",
       "      <td>27</td>\n",
       "      <td>28.1</td>\n",
       "      <td>0.000</td>\n",
       "      <td>0.606</td>\n",
       "      <td>0.603</td>\n",
       "      <td>0.468</td>\n",
       "      <td>8.9</td>\n",
       "      <td>2.1</td>\n",
       "      <td>1.0</td>\n",
       "      <td>0.6</td>\n",
       "      <td>1.7</td>\n",
       "      <td>1.9</td>\n",
       "      <td>8.0</td>\n",
       "    </tr>\n",
       "    <tr>\n",
       "      <th>3</th>\n",
       "      <td>C</td>\n",
       "      <td>26</td>\n",
       "      <td>26</td>\n",
       "      <td>33.6</td>\n",
       "      <td>0.400</td>\n",
       "      <td>0.576</td>\n",
       "      <td>0.576</td>\n",
       "      <td>0.841</td>\n",
       "      <td>9.2</td>\n",
       "      <td>5.3</td>\n",
       "      <td>1.0</td>\n",
       "      <td>1.0</td>\n",
       "      <td>3.0</td>\n",
       "      <td>2.6</td>\n",
       "      <td>19.9</td>\n",
       "    </tr>\n",
       "    <tr>\n",
       "      <th>4</th>\n",
       "      <td>C</td>\n",
       "      <td>18</td>\n",
       "      <td>18</td>\n",
       "      <td>26.7</td>\n",
       "      <td>0.358</td>\n",
       "      <td>0.525</td>\n",
       "      <td>0.529</td>\n",
       "      <td>0.762</td>\n",
       "      <td>4.3</td>\n",
       "      <td>1.9</td>\n",
       "      <td>0.4</td>\n",
       "      <td>0.9</td>\n",
       "      <td>0.9</td>\n",
       "      <td>1.5</td>\n",
       "      <td>14.1</td>\n",
       "    </tr>\n",
       "  </tbody>\n",
       "</table>\n",
       "</div>"
      ],
      "text/plain": [
       "  Pos   G  GS    MP    3P%    2P%   eFG%    FT%  TRB  AST  STL  BLK  TOV   PF  \\\n",
       "0  PF  28   2  14.6  0.000  0.590  0.590  0.561  4.0  0.6  0.4  0.5  1.0  1.9   \n",
       "1  PG   6   0   2.8  0.000  0.167  0.125  0.000  0.5  0.3  0.0  0.0  0.0  0.2   \n",
       "2   C  27  27  28.1  0.000  0.606  0.603  0.468  8.9  2.1  1.0  0.6  1.7  1.9   \n",
       "3   C  26  26  33.6  0.400  0.576  0.576  0.841  9.2  5.3  1.0  1.0  3.0  2.6   \n",
       "4   C  18  18  26.7  0.358  0.525  0.529  0.762  4.3  1.9  0.4  0.9  0.9  1.5   \n",
       "\n",
       "    PTS  \n",
       "0   6.5  \n",
       "1   0.3  \n",
       "2   8.0  \n",
       "3  19.9  \n",
       "4  14.1  "
      ]
     },
     "execution_count": 33,
     "metadata": {},
     "output_type": "execute_result"
    }
   ],
   "source": [
    "# df.drop(['Player', 'Age', 'Tm', 'TRB', 'FG%', '3P%', '2P%', 'FT%' ], axis = 1, inplace = True)\n",
    "# df.drop(['Player', 'Age', 'Tm', 'TRB', 'FG', 'FGA', '3P', '3PA', '2P', '2PA', 'FT', 'FTA'], axis = 1, inplace = True)\n",
    "df.drop(['Player', 'Age', 'Tm', 'ORB', 'DRB', 'FG', 'FGA', 'FG%', '3P', '3PA', '2P', '2PA', 'FT', 'FTA'], axis = 1, inplace = True)\n",
    "\n",
    "df.head()"
   ]
  },
  {
   "cell_type": "markdown",
   "id": "a1957eca",
   "metadata": {},
   "source": [
    "### Get encoded labels and split data"
   ]
  },
  {
   "cell_type": "code",
   "execution_count": 34,
   "id": "cc3a88d5",
   "metadata": {},
   "outputs": [],
   "source": [
    "from sklearn.preprocessing import LabelEncoder\n",
    "from sklearn.model_selection import train_test_split"
   ]
  },
  {
   "cell_type": "code",
   "execution_count": 35,
   "id": "cc97357c",
   "metadata": {},
   "outputs": [
    {
     "data": {
      "text/plain": [
       "497"
      ]
     },
     "execution_count": 35,
     "metadata": {},
     "output_type": "execute_result"
    }
   ],
   "source": [
    "len(df['Pos'].tolist())"
   ]
  },
  {
   "cell_type": "code",
   "execution_count": 36,
   "id": "0e7c78cd",
   "metadata": {},
   "outputs": [],
   "source": [
    "# initialize label encoder and transform labels\n",
    "le = LabelEncoder()\n",
    "transformed_labels = pd.Series(le.fit_transform(df['Pos'].tolist()), name = \"Position\")"
   ]
  },
  {
   "cell_type": "code",
   "execution_count": 37,
   "id": "79ed77ef",
   "metadata": {},
   "outputs": [],
   "source": [
    "# add encoded labels as a new column and drop previous position column\n",
    "df[\"Position\"] = transformed_labels\n",
    "df.drop(['Pos'], axis = 1, inplace = True)"
   ]
  },
  {
   "cell_type": "code",
   "execution_count": 38,
   "id": "ab95d2ff",
   "metadata": {},
   "outputs": [],
   "source": [
    "# train test split\n",
    "X_train, X_test, y_train, y_test = train_test_split(df.drop(['Position'], axis = 1),\n",
    "                                                    df['Position'], test_size = 0.25)"
   ]
  },
  {
   "cell_type": "markdown",
   "id": "7e47667e",
   "metadata": {},
   "source": [
    "### Model Selection\n",
    "\n",
    "As our data has a lot of attributes, using KNN would require standardization and distance predictions may get expensive. On the other hand, linear SVM would be much faster but require the classes to be separated by a linear descision boundary. Although descision trees are prone to overfitting, it can be avoided by using a tree of a fixed depth."
   ]
  },
  {
   "cell_type": "markdown",
   "id": "db4b8f20",
   "metadata": {},
   "source": [
    "#### Descision Tree"
   ]
  },
  {
   "cell_type": "code",
   "execution_count": 39,
   "id": "8dab0774",
   "metadata": {},
   "outputs": [],
   "source": [
    "from sklearn.tree import DecisionTreeClassifier"
   ]
  },
  {
   "cell_type": "code",
   "execution_count": 40,
   "id": "724c7e59",
   "metadata": {},
   "outputs": [],
   "source": [
    "# create models with various depths\n",
    "dtrees_list = []\n",
    "for d in range(3, 20):\n",
    "    dtrees_list.append(DecisionTreeClassifier(max_depth = d))\n",
    "    \n",
    "# train all trees\n",
    "for dtree in dtrees_list:\n",
    "    dtree.fit(X_train, y_train)"
   ]
  },
  {
   "cell_type": "code",
   "execution_count": 41,
   "id": "988b3292",
   "metadata": {},
   "outputs": [],
   "source": [
    "# get training and test accuracy for all trees\n",
    "tr_acc = []\n",
    "test_acc = []\n",
    "\n",
    "for dtree in dtrees_list:\n",
    "    tr_acc.append(dtree.score(X_train, y_train))\n",
    "    test_acc.append(dtree.score(X_test, y_test))"
   ]
  },
  {
   "cell_type": "markdown",
   "id": "a1ba8eeb",
   "metadata": {},
   "source": [
    "#### Plot training vs test accuracy for various depths"
   ]
  },
  {
   "cell_type": "code",
   "execution_count": 42,
   "id": "cd368b92",
   "metadata": {},
   "outputs": [
    {
     "data": {
      "text/plain": [
       "<matplotlib.legend.Legend at 0x28709f442e0>"
      ]
     },
     "execution_count": 42,
     "metadata": {},
     "output_type": "execute_result"
    },
    {
     "data": {
      "image/png": "[encoded data removed]",
      "text/plain": [
       "<Figure size 800x600 with 1 Axes>"
      ]
     },
     "metadata": {},
     "output_type": "display_data"
    }
   ],
   "source": [
    "plt.figure(figsize = (8, 6))\n",
    "plt.plot(tr_acc, color = \"blue\")\n",
    "plt.plot(test_acc, color = \"green\")\n",
    "plt.grid()\n",
    "plt.title('Training vs Test Accuracy at various depths')\n",
    "plt.xlabel('depth - 1')\n",
    "plt.ylabel('Accuracy')\n",
    "plt.legend(['Training Accuracy', 'Test Accuracy'])"
   ]
  },
  {
   "cell_type": "markdown",
   "id": "0f7ac804",
   "metadata": {},
   "source": [
    "#### SVM"
   ]
  },
  {
   "cell_type": "code",
   "execution_count": 43,
   "id": "9a2b9c57",
   "metadata": {},
   "outputs": [],
   "source": [
    "from sklearn.svm import LinearSVC\n",
    "from sklearn.svm import SVC"
   ]
  },
  {
   "cell_type": "code",
   "execution_count": 44,
   "id": "24298fbc",
   "metadata": {},
   "outputs": [],
   "source": [
    "# create models with various depths\n",
    "svm_list = []\n",
    "\n",
    "for C in range(1, 50, 2):\n",
    "    svm_list.append(SVC(C = C, kernel = 'linear'))\n",
    "    \n",
    "# train all trees\n",
    "for svm_model in svm_list:\n",
    "    svm_model.fit(X_train, y_train)"
   ]
  },
  {
   "cell_type": "code",
   "execution_count": 45,
   "id": "380f2b5e",
   "metadata": {},
   "outputs": [],
   "source": [
    "# get training and test accuracy for all trees\n",
    "tr_acc = []\n",
    "test_acc = []\n",
    "\n",
    "for svm_model in svm_list:\n",
    "    tr_acc.append(svm_model.score(X_train, y_train))\n",
    "    test_acc.append(svm_model.score(X_test, y_test))"
   ]
  },
  {
   "cell_type": "code",
   "execution_count": 46,
   "id": "25a76a5b",
   "metadata": {},
   "outputs": [
    {
     "data": {
      "text/plain": [
       "<matplotlib.legend.Legend at 0x2870bb82f50>"
      ]
     },
     "execution_count": 46,
     "metadata": {},
     "output_type": "execute_result"
    },
    {
     "data": {
      "image/png": "[encoded data removed]",
      "text/plain": [
       "<Figure size 800x600 with 1 Axes>"
      ]
     },
     "metadata": {},
     "output_type": "display_data"
    }
   ],
   "source": [
    "plt.figure(figsize = (8, 6))\n",
    "plt.plot(tr_acc, color = \"blue\")\n",
    "plt.plot(test_acc, color = \"green\")\n",
    "plt.grid()\n",
    "plt.title('Training vs Test Accuracy at various depths')\n",
    "plt.xlabel('Regularization Parameter (C)')\n",
    "plt.ylabel('Accuracy')\n",
    "plt.legend(['Training Accuracy', 'Test Accuracy'])"
   ]
  },
  {
   "cell_type": "markdown",
   "id": "31a3f003",
   "metadata": {},
   "source": [
    "#### Gaussian NB"
   ]
  },
  {
   "cell_type": "code",
   "execution_count": 47,
   "id": "24f18f4a",
   "metadata": {},
   "outputs": [],
   "source": [
    "from sklearn.naive_bayes import GaussianNB"
   ]
  },
  {
   "cell_type": "code",
   "execution_count": 48,
   "id": "f55d9954",
   "metadata": {},
   "outputs": [
    {
     "name": "stdout",
     "output_type": "stream",
     "text": [
      "Training accuracy: 0.449\n",
      "Test accuracy: 0.328\n"
     ]
    }
   ],
   "source": [
    "# create model and fit data\n",
    "nb_model = GaussianNB().fit(X_train, y_train)\n",
    "\n",
    "# get accuracy values\n",
    "tr_acc = nb_model.score(X_train, y_train)\n",
    "test_acc = nb_model.score(X_test, y_test)\n",
    "\n",
    "print(f'Training accuracy: {tr_acc:0.3f}')\n",
    "print(f'Test accuracy: {test_acc:0.3f}')"
   ]
  },
  {
   "cell_type": "markdown",
   "id": "9d929ea2",
   "metadata": {},
   "source": [
    "#### KNN"
   ]
  },
  {
   "cell_type": "code",
   "execution_count": 49,
   "id": "094f5802",
   "metadata": {},
   "outputs": [],
   "source": [
    "from sklearn.neighbors import KNeighborsClassifier"
   ]
  },
  {
   "cell_type": "code",
   "execution_count": 50,
   "id": "e9a54bda",
   "metadata": {},
   "outputs": [],
   "source": [
    "knn_list = []\n",
    "\n",
    "for k in range(1, 20):\n",
    "    knn_list.append(KNeighborsClassifier(n_neighbors=k))\n"
   ]
  },
  {
   "cell_type": "code",
   "execution_count": 51,
   "id": "254adaf7",
   "metadata": {},
   "outputs": [],
   "source": [
    "# import scaler\n",
    "from sklearn.preprocessing import StandardScaler"
   ]
  },
  {
   "cell_type": "code",
   "execution_count": 52,
   "id": "1bfb597d",
   "metadata": {},
   "outputs": [],
   "source": [
    "sc = StandardScaler()\n",
    "X_train = sc.fit_transform(X_train)\n",
    "X_test = sc.transform(X_test)"
   ]
  },
  {
   "cell_type": "code",
   "execution_count": 53,
   "id": "c64b2a5b",
   "metadata": {},
   "outputs": [],
   "source": [
    "# train all trees\n",
    "for knn_model in knn_list:\n",
    "    knn_model.fit(X_train, y_train)"
   ]
  },
  {
   "cell_type": "code",
   "execution_count": 54,
   "id": "f5d0f3c3",
   "metadata": {},
   "outputs": [],
   "source": [
    "# get training and test accuracy for all trees\n",
    "tr_acc = []\n",
    "test_acc = []\n",
    "\n",
    "for knn_model in knn_list:\n",
    "    tr_acc.append(knn_model.score(X_train, y_train))\n",
    "    test_acc.append(knn_model.score(X_test, y_test))"
   ]
  },
  {
   "cell_type": "code",
   "execution_count": 55,
   "id": "d6506c4a",
   "metadata": {},
   "outputs": [
    {
     "data": {
      "text/plain": [
       "<matplotlib.legend.Legend at 0x2870bc2ff70>"
      ]
     },
     "execution_count": 55,
     "metadata": {},
     "output_type": "execute_result"
    },
    {
     "data": {
      "image/png": "[encoded data removed]",
      "text/plain": [
       "<Figure size 800x600 with 1 Axes>"
      ]
     },
     "metadata": {},
     "output_type": "display_data"
    }
   ],
   "source": [
    "plt.figure(figsize = (8, 6))\n",
    "plt.plot(tr_acc, color = \"blue\")\n",
    "plt.plot(test_acc, color = \"green\")\n",
    "plt.grid()\n",
    "plt.title('Training vs Test Accuracy at various depths')\n",
    "plt.xlabel('n_neighbors')\n",
    "plt.ylabel('Accuracy')\n",
    "plt.legend(['Training Accuracy', 'Test Accuracy'])"
   ]
  },
  {
   "cell_type": "code",
   "execution_count": null,
   "id": "b060e657",
   "metadata": {},
   "outputs": [],
   "source": []
  }
 ],
 "metadata": {
  "kernelspec": {
   "display_name": "Python [conda env:sklearn]",
   "language": "python",
   "name": "conda-env-sklearn-py"
  },
  "language_info": {
   "codemirror_mode": {
    "name": "ipython",
    "version": 3
   },
   "file_extension": ".py",
   "mimetype": "text/x-python",
   "name": "python",
   "nbconvert_exporter": "python",
   "pygments_lexer": "ipython3",
   "version": "3.10.10"
  }
 },
 "nbformat": 4,
 "nbformat_minor": 5
}
