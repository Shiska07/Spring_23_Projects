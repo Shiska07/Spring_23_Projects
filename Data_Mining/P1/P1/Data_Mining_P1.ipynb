{
 "cells": [
  {
   "cell_type": "markdown",
   "metadata": {},
   "source": [
    "Name: Shiska Raut<br>\n",
    "ID: 1001526329"
   ]
  },
  {
   "cell_type": "code",
   "execution_count": 16,
   "metadata": {},
   "outputs": [],
   "source": [
    "# import libraries\n",
    "import math"
   ]
  },
  {
   "cell_type": "code",
   "execution_count": 17,
   "metadata": {},
   "outputs": [],
   "source": [
    "# load files\n",
    "import os\n",
    "\n",
    "# create a dict to store all docs, filename is the key\n",
    "filenames = []\n",
    "docs = []\n",
    "\n",
    "# read and store files\n",
    "corpusroot = './US_Inaugural_Addresses'\n",
    "for filename in os.listdir(corpusroot):\n",
    "    if filename.startswith('0') or filename.startswith('1'):\n",
    "        file = open(os.path.join(corpusroot, filename), \"r\", encoding='windows-1252')\n",
    "        filenames.append(filename)\n",
    "        doc = file.read()\n",
    "        file.close() \n",
    "        doc = doc.lower()\n",
    "        docs.append(doc)"
   ]
  },
  {
   "cell_type": "markdown",
   "metadata": {},
   "source": [
    "### Get Search Query"
   ]
  },
  {
   "cell_type": "code",
   "execution_count": 18,
   "metadata": {},
   "outputs": [],
   "source": [
    "# query = str(input('Type search query:'))\n",
    "query = 'pleasing people and institutions'"
   ]
  },
  {
   "cell_type": "code",
   "execution_count": 23,
   "metadata": {},
   "outputs": [],
   "source": [
    "# create vocabulary by joining all documents + query\n",
    "import nltk\n",
    "from nltk.tokenize import RegexpTokenizer\n",
    "from nltk.corpus import stopwords\n",
    "from nltk.stem.porter import PorterStemmer\n",
    "\n",
    "# returns a list of tokens after performing tokenization, stopword removal and stemming\n",
    "def get_tokens(qstring):\n",
    "    \n",
    "    # tokenize vocab string on spaces, punctuation, etc.\n",
    "    tokenizer = RegexpTokenizer(r'[a-zA-Z]+')\n",
    "    tokens = tokenizer.tokenize(qstring)\n",
    "    \n",
    "    # remove stopwords\n",
    "    tokens_stp = [word for word in tokens if word not in stopwords.words('english')]\n",
    "    \n",
    "    # perform stemming\n",
    "    stemmer = PorterStemmer()\n",
    "    tokens_stp_stm = [stemmer.stem(token) for token in tokens_stp]\n",
    "    \n",
    "    return tokens_stp_stm\n",
    "\n",
    "\n",
    "# creates a vocabulary list using collection and search query\n",
    "def get_vocab(collection, query):\n",
    "    vocab_str = ''.join(collection)\n",
    "    vocab_str = vocab_str + query\n",
    "    \n",
    "    # tokenize vocab string\n",
    "    return get_tokens(vocab_str)\n",
    "\n",
    "# create vocabulary list\n",
    "vocab_list = get_vocab(docs, query)\n",
    "print(f'The vocabulary list consists of {len(vocab_list)} items.\\n')"
   ]
  },
  {
   "cell_type": "code",
   "execution_count": 24,
   "metadata": {},
   "outputs": [],
   "source": [
    "# returns tf vector for a given document/query string\n",
    "def tf_count_vector(string):\n",
    "    # create tokens for each document\n",
    "    str_tokens = get_tokens(string)\n",
    "        \n",
    "    # stores tf values for a the given string\n",
    "    str_tf = []\n",
    "    for token in vocab_list:\n",
    "        count = str_tokens.count(token)\n",
    "        str_tf.append(count)\n",
    "\n",
    "    return str_tf"
   ]
  },
  {
   "cell_type": "code",
   "execution_count": 30,
   "metadata": {},
   "outputs": [
    {
     "data": {
      "text/plain": [
       "1008"
      ]
     },
     "execution_count": 30,
     "metadata": {},
     "output_type": "execute_result"
    }
   ],
   "source": []
  },
  {
   "cell_type": "code",
   "execution_count": null,
   "metadata": {},
   "outputs": [],
   "source": [
    "# returns inverse document frequency(idf) of a token \n",
    "# using the entire vocabulary and collection\n",
    "def getidf(token):\n",
    "    pass\n",
    "\n",
    "# returns the tf-tdf weight of a specific token w.r.t a specific document\n",
    "def getweight(filename, token):\n",
    "    pass\n",
    "\n",
    "# returns the name and score of the highest matching document\n",
    "def query(qstring):\n",
    "    pass"
   ]
  }
 ],
 "metadata": {
  "kernelspec": {
   "display_name": "Python 3",
   "language": "python",
   "name": "python3"
  },
  "language_info": {
   "codemirror_mode": {
    "name": "ipython",
    "version": 3
   },
   "file_extension": ".py",
   "mimetype": "text/x-python",
   "name": "python",
   "nbconvert_exporter": "python",
   "pygments_lexer": "ipython3",
   "version": "3.7.9"
  }
 },
 "nbformat": 4,
 "nbformat_minor": 4
}
