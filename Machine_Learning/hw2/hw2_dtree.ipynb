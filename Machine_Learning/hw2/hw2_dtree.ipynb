{
 "cells": [
  {
   "cell_type": "markdown",
   "id": "14296701",
   "metadata": {},
   "source": [
    "Name: Shiska Raut <br>\n",
    "ID:   1001526329"
   ]
  },
  {
   "cell_type": "code",
   "execution_count": 118,
   "id": "3d9d206b",
   "metadata": {},
   "outputs": [],
   "source": [
    "import numpy as np\n",
    "import matplotlib.pyplot as plt\n",
    "import pandas as pd\n",
    "import math\n",
    "%matplotlib inline"
   ]
  },
  {
   "cell_type": "markdown",
   "id": "264a758f",
   "metadata": {},
   "source": [
    "## Read training/evaluation data\n",
    "\n",
    "**Argument(s):** \n",
    "1) filename: name of a .txt file with each line containing training/evaluation features(x) and label(y) in the following format:\n",
    "((x1, x2, .....xn), y) <br>\n",
    "2) dtype_x : datatype of features <br>\n",
    "3) dtype_y: datatype of label <br>\n",
    "\n",
    "**Return(s):** 'X, Y' where X is a numpy array of feature vectors and Y is the target label vector.\n",
    "Note: <br>\n",
    "Each column in the array(s) epresents a single datapoint. <br>"
   ]
  },
  {
   "cell_type": "code",
   "execution_count": 119,
   "id": "38f77132",
   "metadata": {},
   "outputs": [],
   "source": [
    "def get_X_Y_arrays(filename, dtype_x, dtype_y):\n",
    "    try:\n",
    "        f = open(filename, 'r')\n",
    "    except OSError:\n",
    "        print(f'{filename} could not be opened.\\n')\n",
    "        sys.exit()\n",
    "\n",
    "    # initialize list to store feature and labels for training data\n",
    "    features = []\n",
    "    labels = []\n",
    "\n",
    "    with f:\n",
    "        line = f.readline()\n",
    "        while line != '':\n",
    "            # strip newline and outer parenthesis\n",
    "            line = line.strip('\\n')\n",
    "            line = line.strip('( )')\n",
    "\n",
    "            # extrace label and append to labels list\n",
    "            single_label = line.split('), ')[-1]\n",
    "            labels.append(single_label)\n",
    "\n",
    "            # extrace features and append to features list\n",
    "            feat = line.split('), ')[0].split(', ')\n",
    "            features.append(feat)\n",
    "\n",
    "            # read next line\n",
    "            line = f.readline()\n",
    "\n",
    "        # create dataframe of features and append labels\n",
    "        X = np.array(features, dtype=dtype_x, ndmin=2)\n",
    "\n",
    "        # convert labels list to array\n",
    "        Y = np.array(labels, dtype=dtype_y)\n",
    "\n",
    "        return X, Y"
   ]
  },
  {
   "cell_type": "markdown",
   "id": "f3b5a825",
   "metadata": {},
   "source": [
    "### Helper Functions"
   ]
  },
  {
   "cell_type": "code",
   "execution_count": 120,
   "id": "b0b192ac",
   "metadata": {},
   "outputs": [],
   "source": [
    "# splits data into training and test set\n",
    "# first 6 datapoints become the test datapoints\n",
    "def split_data(X, Y):\n",
    "\n",
    "    X_test = X[0:6, :]\n",
    "    Y_test = Y[0:6]\n",
    "\n",
    "    X_train = np.delete(X, np.s_[0:6], axis = 0)\n",
    "    Y_train = np.delete(Y, np.s_[0:6])\n",
    "\n",
    "    return X_train, Y_train, X_test, Y_test\n",
    "\n",
    "# given an array of categorical values, returns encoded index\n",
    "def get_encoded_Y(Y):\n",
    "    \n",
    "    # get number of samples\n",
    "    n_samp = Y.shape[0]\n",
    "    \n",
    "    # get all unique labels\n",
    "    uniq_labels = set(Y.tolist())\n",
    "    \n",
    "    # create dictionary to store encodings\n",
    "    encoding_dict = {}\n",
    "    for i, label in enumerate(uniq_labels):\n",
    "        encoding_dict[label] = i\n",
    "    \n",
    "    # get number of labels\n",
    "    n_labels = len(uniq_labels)\n",
    "    \n",
    "    # create encoded arr\n",
    "    encoded_arr = np.zeros(n_samp, dtype = np.int16)\n",
    "    for i in range(n_samp):\n",
    "        encoded_arr[i] = encoding_dict[Y[i]]\n",
    "        \n",
    "    # reverse dictionary for decoding\n",
    "    inv_encoding_dict = {v: k for k, v in encoding_dict.items()}\n",
    "        \n",
    "    return encoded_arr, inv_encoding_dict"
   ]
  },
  {
   "cell_type": "markdown",
   "id": "a1206dd5",
   "metadata": {},
   "source": [
    "### Provide Filename"
   ]
  },
  {
   "cell_type": "code",
   "execution_count": 121,
   "id": "75a68f29",
   "metadata": {},
   "outputs": [],
   "source": [
    "fname = '2_data.txt'\n",
    "\n",
    "# read data \n",
    "X, Y = get_X_Y_arrays(fname, float, str)\n",
    "\n",
    "# get encoded Y\n",
    "encoded_Y, decoding_dict = get_encoded_Y(Y)\n",
    "\n",
    "# split data into training and test\n",
    "X_train, Y_train, X_test, Y_test = split_data(X, encoded_Y)\n",
    "\n",
    "# create dataframe\n",
    "df_train = pd.DataFrame(np.concatenate((X_train, Y_train.reshape(X_train.shape[0], 1)), axis = 1),\n",
    "                  columns = ['height', 'diameter', 'weight', 'hue', 'labels'], dtype = np.float32)\n",
    "\n",
    "df_test = pd.DataFrame(np.concatenate((X_test, Y_test.reshape(X_test.shape[0], 1)), axis = 1),\n",
    "                  columns = ['height', 'diameter', 'weight', 'hue', 'labels'], dtype = np.float32)"
   ]
  },
  {
   "cell_type": "code",
   "execution_count": 122,
   "id": "5f26fe7e",
   "metadata": {},
   "outputs": [
    {
     "data": {
      "text/html": [
       "<div>\n",
       "<style scoped>\n",
       "    .dataframe tbody tr th:only-of-type {\n",
       "        vertical-align: middle;\n",
       "    }\n",
       "\n",
       "    .dataframe tbody tr th {\n",
       "        vertical-align: top;\n",
       "    }\n",
       "\n",
       "    .dataframe thead th {\n",
       "        text-align: right;\n",
       "    }\n",
       "</style>\n",
       "<table border=\"1\" class=\"dataframe\">\n",
       "  <thead>\n",
       "    <tr style=\"text-align: right;\">\n",
       "      <th></th>\n",
       "      <th>height</th>\n",
       "      <th>diameter</th>\n",
       "      <th>weight</th>\n",
       "      <th>hue</th>\n",
       "      <th>labels</th>\n",
       "    </tr>\n",
       "  </thead>\n",
       "  <tbody>\n",
       "    <tr>\n",
       "      <th>0</th>\n",
       "      <td>0.050000</td>\n",
       "      <td>0.067191</td>\n",
       "      <td>0.108086</td>\n",
       "      <td>3.612651</td>\n",
       "      <td>1.0</td>\n",
       "    </tr>\n",
       "    <tr>\n",
       "      <th>1</th>\n",
       "      <td>0.097218</td>\n",
       "      <td>0.134276</td>\n",
       "      <td>0.530302</td>\n",
       "      <td>3.581389</td>\n",
       "      <td>1.0</td>\n",
       "    </tr>\n",
       "    <tr>\n",
       "      <th>2</th>\n",
       "      <td>0.082333</td>\n",
       "      <td>0.052483</td>\n",
       "      <td>0.207009</td>\n",
       "      <td>4.268849</td>\n",
       "      <td>1.0</td>\n",
       "    </tr>\n",
       "    <tr>\n",
       "      <th>3</th>\n",
       "      <td>0.053522</td>\n",
       "      <td>0.030000</td>\n",
       "      <td>0.100000</td>\n",
       "      <td>3.402305</td>\n",
       "      <td>1.0</td>\n",
       "    </tr>\n",
       "    <tr>\n",
       "      <th>4</th>\n",
       "      <td>0.092504</td>\n",
       "      <td>0.068184</td>\n",
       "      <td>0.422383</td>\n",
       "      <td>2.651294</td>\n",
       "      <td>2.0</td>\n",
       "    </tr>\n",
       "    <tr>\n",
       "      <th>5</th>\n",
       "      <td>0.142357</td>\n",
       "      <td>0.139163</td>\n",
       "      <td>0.471437</td>\n",
       "      <td>4.120488</td>\n",
       "      <td>0.0</td>\n",
       "    </tr>\n",
       "    <tr>\n",
       "      <th>6</th>\n",
       "      <td>0.076536</td>\n",
       "      <td>0.085016</td>\n",
       "      <td>0.263367</td>\n",
       "      <td>3.441823</td>\n",
       "      <td>1.0</td>\n",
       "    </tr>\n",
       "    <tr>\n",
       "      <th>7</th>\n",
       "      <td>0.168621</td>\n",
       "      <td>0.150000</td>\n",
       "      <td>0.597853</td>\n",
       "      <td>4.768459</td>\n",
       "      <td>0.0</td>\n",
       "    </tr>\n",
       "    <tr>\n",
       "      <th>8</th>\n",
       "      <td>0.162522</td>\n",
       "      <td>0.150000</td>\n",
       "      <td>0.582545</td>\n",
       "      <td>3.557087</td>\n",
       "      <td>0.0</td>\n",
       "    </tr>\n",
       "    <tr>\n",
       "      <th>9</th>\n",
       "      <td>0.078976</td>\n",
       "      <td>0.049397</td>\n",
       "      <td>0.151682</td>\n",
       "      <td>3.824761</td>\n",
       "      <td>1.0</td>\n",
       "    </tr>\n",
       "  </tbody>\n",
       "</table>\n",
       "</div>"
      ],
      "text/plain": [
       "     height  diameter    weight       hue  labels\n",
       "0  0.050000  0.067191  0.108086  3.612651     1.0\n",
       "1  0.097218  0.134276  0.530302  3.581389     1.0\n",
       "2  0.082333  0.052483  0.207009  4.268849     1.0\n",
       "3  0.053522  0.030000  0.100000  3.402305     1.0\n",
       "4  0.092504  0.068184  0.422383  2.651294     2.0\n",
       "5  0.142357  0.139163  0.471437  4.120488     0.0\n",
       "6  0.076536  0.085016  0.263367  3.441823     1.0\n",
       "7  0.168621  0.150000  0.597853  4.768459     0.0\n",
       "8  0.162522  0.150000  0.582545  3.557087     0.0\n",
       "9  0.078976  0.049397  0.151682  3.824761     1.0"
      ]
     },
     "execution_count": 122,
     "metadata": {},
     "output_type": "execute_result"
    }
   ],
   "source": [
    "# view training data\n",
    "df_train.head(10)"
   ]
  },
  {
   "cell_type": "code",
   "execution_count": 123,
   "id": "a0912bb4",
   "metadata": {},
   "outputs": [
    {
     "data": {
      "text/html": [
       "<div>\n",
       "<style scoped>\n",
       "    .dataframe tbody tr th:only-of-type {\n",
       "        vertical-align: middle;\n",
       "    }\n",
       "\n",
       "    .dataframe tbody tr th {\n",
       "        vertical-align: top;\n",
       "    }\n",
       "\n",
       "    .dataframe thead th {\n",
       "        text-align: right;\n",
       "    }\n",
       "</style>\n",
       "<table border=\"1\" class=\"dataframe\">\n",
       "  <thead>\n",
       "    <tr style=\"text-align: right;\">\n",
       "      <th></th>\n",
       "      <th>height</th>\n",
       "      <th>diameter</th>\n",
       "      <th>weight</th>\n",
       "      <th>hue</th>\n",
       "      <th>labels</th>\n",
       "    </tr>\n",
       "  </thead>\n",
       "  <tbody>\n",
       "    <tr>\n",
       "      <th>0</th>\n",
       "      <td>0.103335</td>\n",
       "      <td>0.079225</td>\n",
       "      <td>0.187839</td>\n",
       "      <td>2.786577</td>\n",
       "      <td>0.0</td>\n",
       "    </tr>\n",
       "    <tr>\n",
       "      <th>1</th>\n",
       "      <td>0.185991</td>\n",
       "      <td>0.142774</td>\n",
       "      <td>0.608519</td>\n",
       "      <td>5.647819</td>\n",
       "      <td>0.0</td>\n",
       "    </tr>\n",
       "    <tr>\n",
       "      <th>2</th>\n",
       "      <td>0.066903</td>\n",
       "      <td>0.045010</td>\n",
       "      <td>0.118447</td>\n",
       "      <td>2.780018</td>\n",
       "      <td>1.0</td>\n",
       "    </tr>\n",
       "    <tr>\n",
       "      <th>3</th>\n",
       "      <td>0.128990</td>\n",
       "      <td>0.150000</td>\n",
       "      <td>0.433086</td>\n",
       "      <td>3.139230</td>\n",
       "      <td>0.0</td>\n",
       "    </tr>\n",
       "    <tr>\n",
       "      <th>4</th>\n",
       "      <td>0.050000</td>\n",
       "      <td>0.076688</td>\n",
       "      <td>0.178602</td>\n",
       "      <td>3.865847</td>\n",
       "      <td>1.0</td>\n",
       "    </tr>\n",
       "    <tr>\n",
       "      <th>5</th>\n",
       "      <td>0.134085</td>\n",
       "      <td>0.084665</td>\n",
       "      <td>0.271117</td>\n",
       "      <td>3.604623</td>\n",
       "      <td>0.0</td>\n",
       "    </tr>\n",
       "  </tbody>\n",
       "</table>\n",
       "</div>"
      ],
      "text/plain": [
       "     height  diameter    weight       hue  labels\n",
       "0  0.103335  0.079225  0.187839  2.786577     0.0\n",
       "1  0.185991  0.142774  0.608519  5.647819     0.0\n",
       "2  0.066903  0.045010  0.118447  2.780018     1.0\n",
       "3  0.128990  0.150000  0.433086  3.139230     0.0\n",
       "4  0.050000  0.076688  0.178602  3.865847     1.0\n",
       "5  0.134085  0.084665  0.271117  3.604623     0.0"
      ]
     },
     "execution_count": 123,
     "metadata": {},
     "output_type": "execute_result"
    }
   ],
   "source": [
    "df_test"
   ]
  },
  {
   "cell_type": "code",
   "execution_count": 124,
   "id": "e91db60d",
   "metadata": {},
   "outputs": [
    {
     "data": {
      "text/plain": [
       "88"
      ]
     },
     "execution_count": 124,
     "metadata": {},
     "output_type": "execute_result"
    }
   ],
   "source": [
    "df_train[df_train['height'] < 0.15]['height'].count()"
   ]
  },
  {
   "cell_type": "code",
   "execution_count": 125,
   "id": "a0c893b9",
   "metadata": {},
   "outputs": [
    {
     "data": {
      "text/plain": [
       "0.0"
      ]
     },
     "execution_count": 125,
     "metadata": {},
     "output_type": "execute_result"
    }
   ],
   "source": [
    "df_train['labels'].mode()[0]"
   ]
  },
  {
   "cell_type": "code",
   "execution_count": 126,
   "id": "a2f5fdf6",
   "metadata": {},
   "outputs": [
    {
     "data": {
      "text/plain": [
       "['height', 'diameter', 'weight', 'hue']"
      ]
     },
     "execution_count": 126,
     "metadata": {},
     "output_type": "execute_result"
    }
   ],
   "source": [
    "list(df_train.columns[:-1])"
   ]
  },
  {
   "cell_type": "code",
   "execution_count": 127,
   "id": "a0ae7b30",
   "metadata": {},
   "outputs": [],
   "source": [
    "fname_small = '2_a_train.txt'\n",
    "\n",
    "# read data \n",
    "X, Y = get_X_Y_arrays(fname_small, float, str)\n",
    "\n",
    "# create dataframe\n",
    "df_small = pd.DataFrame(np.concatenate((X, Y.reshape(X.shape[0], 1)), axis = 1),\n",
    "                  columns = ['height', 'diameter', 'weight', 'hue', 'labels'])\n"
   ]
  },
  {
   "cell_type": "code",
   "execution_count": 129,
   "id": "a88dc47c",
   "metadata": {},
   "outputs": [
    {
     "ename": "TypeError",
     "evalue": "'<=' not supported between instances of 'str' and 'float'",
     "output_type": "error",
     "traceback": [
      "\u001b[1;31m---------------------------------------------------------------------------\u001b[0m",
      "\u001b[1;31mTypeError\u001b[0m                                 Traceback (most recent call last)",
      "Cell \u001b[1;32mIn[129], line 1\u001b[0m\n\u001b[1;32m----> 1\u001b[0m df_small\u001b[38;5;241m.\u001b[39msort_values(\u001b[38;5;124m'\u001b[39m\u001b[38;5;124mheight\u001b[39m\u001b[38;5;124m'\u001b[39m, ascending \u001b[38;5;241m=\u001b[39m \u001b[38;5;28;01mTrue\u001b[39;00m, ignore_index \u001b[38;5;241m=\u001b[39m \u001b[38;5;28;01mTrue\u001b[39;00m)[\u001b[43mdf_small\u001b[49m\u001b[43m[\u001b[49m\u001b[38;5;124;43m'\u001b[39;49m\u001b[38;5;124;43mheight\u001b[39;49m\u001b[38;5;124;43m'\u001b[39;49m\u001b[43m]\u001b[49m\u001b[43m \u001b[49m\u001b[38;5;241;43m<\u001b[39;49m\u001b[38;5;241;43m=\u001b[39;49m\u001b[43m \u001b[49m\u001b[38;5;241;43m0.1\u001b[39;49m]\n",
      "File \u001b[1;32m~\\anaconda3\\envs\\sklearn\\lib\\site-packages\\pandas\\core\\ops\\common.py:72\u001b[0m, in \u001b[0;36m_unpack_zerodim_and_defer.<locals>.new_method\u001b[1;34m(self, other)\u001b[0m\n\u001b[0;32m     68\u001b[0m             \u001b[38;5;28;01mreturn\u001b[39;00m \u001b[38;5;28mNotImplemented\u001b[39m\n\u001b[0;32m     70\u001b[0m other \u001b[38;5;241m=\u001b[39m item_from_zerodim(other)\n\u001b[1;32m---> 72\u001b[0m \u001b[38;5;28;01mreturn\u001b[39;00m \u001b[43mmethod\u001b[49m\u001b[43m(\u001b[49m\u001b[38;5;28;43mself\u001b[39;49m\u001b[43m,\u001b[49m\u001b[43m \u001b[49m\u001b[43mother\u001b[49m\u001b[43m)\u001b[49m\n",
      "File \u001b[1;32m~\\anaconda3\\envs\\sklearn\\lib\\site-packages\\pandas\\core\\arraylike.py:54\u001b[0m, in \u001b[0;36mOpsMixin.__le__\u001b[1;34m(self, other)\u001b[0m\n\u001b[0;32m     52\u001b[0m \u001b[38;5;129m@unpack_zerodim_and_defer\u001b[39m(\u001b[38;5;124m\"\u001b[39m\u001b[38;5;124m__le__\u001b[39m\u001b[38;5;124m\"\u001b[39m)\n\u001b[0;32m     53\u001b[0m \u001b[38;5;28;01mdef\u001b[39;00m \u001b[38;5;21m__le__\u001b[39m(\u001b[38;5;28mself\u001b[39m, other):\n\u001b[1;32m---> 54\u001b[0m     \u001b[38;5;28;01mreturn\u001b[39;00m \u001b[38;5;28;43mself\u001b[39;49m\u001b[38;5;241;43m.\u001b[39;49m\u001b[43m_cmp_method\u001b[49m\u001b[43m(\u001b[49m\u001b[43mother\u001b[49m\u001b[43m,\u001b[49m\u001b[43m \u001b[49m\u001b[43moperator\u001b[49m\u001b[38;5;241;43m.\u001b[39;49m\u001b[43mle\u001b[49m\u001b[43m)\u001b[49m\n",
      "File \u001b[1;32m~\\anaconda3\\envs\\sklearn\\lib\\site-packages\\pandas\\core\\series.py:6243\u001b[0m, in \u001b[0;36mSeries._cmp_method\u001b[1;34m(self, other, op)\u001b[0m\n\u001b[0;32m   6240\u001b[0m rvalues \u001b[38;5;241m=\u001b[39m extract_array(other, extract_numpy\u001b[38;5;241m=\u001b[39m\u001b[38;5;28;01mTrue\u001b[39;00m, extract_range\u001b[38;5;241m=\u001b[39m\u001b[38;5;28;01mTrue\u001b[39;00m)\n\u001b[0;32m   6242\u001b[0m \u001b[38;5;28;01mwith\u001b[39;00m np\u001b[38;5;241m.\u001b[39merrstate(\u001b[38;5;28mall\u001b[39m\u001b[38;5;241m=\u001b[39m\u001b[38;5;124m\"\u001b[39m\u001b[38;5;124mignore\u001b[39m\u001b[38;5;124m\"\u001b[39m):\n\u001b[1;32m-> 6243\u001b[0m     res_values \u001b[38;5;241m=\u001b[39m \u001b[43mops\u001b[49m\u001b[38;5;241;43m.\u001b[39;49m\u001b[43mcomparison_op\u001b[49m\u001b[43m(\u001b[49m\u001b[43mlvalues\u001b[49m\u001b[43m,\u001b[49m\u001b[43m \u001b[49m\u001b[43mrvalues\u001b[49m\u001b[43m,\u001b[49m\u001b[43m \u001b[49m\u001b[43mop\u001b[49m\u001b[43m)\u001b[49m\n\u001b[0;32m   6245\u001b[0m \u001b[38;5;28;01mreturn\u001b[39;00m \u001b[38;5;28mself\u001b[39m\u001b[38;5;241m.\u001b[39m_construct_result(res_values, name\u001b[38;5;241m=\u001b[39mres_name)\n",
      "File \u001b[1;32m~\\anaconda3\\envs\\sklearn\\lib\\site-packages\\pandas\\core\\ops\\array_ops.py:287\u001b[0m, in \u001b[0;36mcomparison_op\u001b[1;34m(left, right, op)\u001b[0m\n\u001b[0;32m    284\u001b[0m     \u001b[38;5;28;01mreturn\u001b[39;00m invalid_comparison(lvalues, rvalues, op)\n\u001b[0;32m    286\u001b[0m \u001b[38;5;28;01melif\u001b[39;00m is_object_dtype(lvalues\u001b[38;5;241m.\u001b[39mdtype) \u001b[38;5;129;01mor\u001b[39;00m \u001b[38;5;28misinstance\u001b[39m(rvalues, \u001b[38;5;28mstr\u001b[39m):\n\u001b[1;32m--> 287\u001b[0m     res_values \u001b[38;5;241m=\u001b[39m \u001b[43mcomp_method_OBJECT_ARRAY\u001b[49m\u001b[43m(\u001b[49m\u001b[43mop\u001b[49m\u001b[43m,\u001b[49m\u001b[43m \u001b[49m\u001b[43mlvalues\u001b[49m\u001b[43m,\u001b[49m\u001b[43m \u001b[49m\u001b[43mrvalues\u001b[49m\u001b[43m)\u001b[49m\n\u001b[0;32m    289\u001b[0m \u001b[38;5;28;01melse\u001b[39;00m:\n\u001b[0;32m    290\u001b[0m     res_values \u001b[38;5;241m=\u001b[39m _na_arithmetic_op(lvalues, rvalues, op, is_cmp\u001b[38;5;241m=\u001b[39m\u001b[38;5;28;01mTrue\u001b[39;00m)\n",
      "File \u001b[1;32m~\\anaconda3\\envs\\sklearn\\lib\\site-packages\\pandas\\core\\ops\\array_ops.py:75\u001b[0m, in \u001b[0;36mcomp_method_OBJECT_ARRAY\u001b[1;34m(op, x, y)\u001b[0m\n\u001b[0;32m     73\u001b[0m     result \u001b[38;5;241m=\u001b[39m libops\u001b[38;5;241m.\u001b[39mvec_compare(x\u001b[38;5;241m.\u001b[39mravel(), y\u001b[38;5;241m.\u001b[39mravel(), op)\n\u001b[0;32m     74\u001b[0m \u001b[38;5;28;01melse\u001b[39;00m:\n\u001b[1;32m---> 75\u001b[0m     result \u001b[38;5;241m=\u001b[39m \u001b[43mlibops\u001b[49m\u001b[38;5;241;43m.\u001b[39;49m\u001b[43mscalar_compare\u001b[49m\u001b[43m(\u001b[49m\u001b[43mx\u001b[49m\u001b[38;5;241;43m.\u001b[39;49m\u001b[43mravel\u001b[49m\u001b[43m(\u001b[49m\u001b[43m)\u001b[49m\u001b[43m,\u001b[49m\u001b[43m \u001b[49m\u001b[43my\u001b[49m\u001b[43m,\u001b[49m\u001b[43m \u001b[49m\u001b[43mop\u001b[49m\u001b[43m)\u001b[49m\n\u001b[0;32m     76\u001b[0m \u001b[38;5;28;01mreturn\u001b[39;00m result\u001b[38;5;241m.\u001b[39mreshape(x\u001b[38;5;241m.\u001b[39mshape)\n",
      "File \u001b[1;32m~\\anaconda3\\envs\\sklearn\\lib\\site-packages\\pandas\\_libs\\ops.pyx:107\u001b[0m, in \u001b[0;36mpandas._libs.ops.scalar_compare\u001b[1;34m()\u001b[0m\n",
      "\u001b[1;31mTypeError\u001b[0m: '<=' not supported between instances of 'str' and 'float'"
     ]
    }
   ],
   "source": [
    "df_small.sort_values('height', ascending = True, ignore_index = True)[df_small['height'] <= 0.1]"
   ]
  },
  {
   "cell_type": "code",
   "execution_count": 83,
   "id": "b6ff3acd",
   "metadata": {},
   "outputs": [
    {
     "name": "stdout",
     "output_type": "stream",
     "text": [
      "All thresholds for \"height\" are:\n",
      "\n",
      " T1: 0.07330346559893901\n",
      " T2: 0.086461750222544\n",
      " T3: 0.09858549301838049\n",
      " T4: 0.11294496166415\n",
      " T5: 0.13982581241078\n"
     ]
    }
   ],
   "source": [
    "# calculates thresholds \n",
    "height_ser = df_small.sort_values('height', ascending = True,\n",
    "                                  ignore_index = True)['height'].astype('float')\n",
    "print('All thresholds for \"height\" are:\\n')\n",
    "for i in range(5):\n",
    "    print(f'T{i+1}: {(height_ser[i] + height_ser[i+1])/2}')"
   ]
  },
  {
   "cell_type": "code",
   "execution_count": 56,
   "id": "110906e6",
   "metadata": {},
   "outputs": [
    {
     "data": {
      "text/html": [
       "<div>\n",
       "<style scoped>\n",
       "    .dataframe tbody tr th:only-of-type {\n",
       "        vertical-align: middle;\n",
       "    }\n",
       "\n",
       "    .dataframe tbody tr th {\n",
       "        vertical-align: top;\n",
       "    }\n",
       "\n",
       "    .dataframe thead th {\n",
       "        text-align: right;\n",
       "    }\n",
       "</style>\n",
       "<table border=\"1\" class=\"dataframe\">\n",
       "  <thead>\n",
       "    <tr style=\"text-align: right;\">\n",
       "      <th></th>\n",
       "      <th>height</th>\n",
       "      <th>diameter</th>\n",
       "      <th>weight</th>\n",
       "      <th>hue</th>\n",
       "      <th>labels</th>\n",
       "    </tr>\n",
       "  </thead>\n",
       "  <tbody>\n",
       "    <tr>\n",
       "      <th>2</th>\n",
       "      <td>0.085536050586897</td>\n",
       "      <td>0.03</td>\n",
       "      <td>0.11915260588651</td>\n",
       "      <td>2.2104287108141</td>\n",
       "      <td>Metal</td>\n",
       "    </tr>\n",
       "    <tr>\n",
       "      <th>3</th>\n",
       "      <td>0.061070880610981</td>\n",
       "      <td>0.056668572017189</td>\n",
       "      <td>0.24657746013871</td>\n",
       "      <td>4.1755360255283</td>\n",
       "      <td>Ceramic</td>\n",
       "    </tr>\n",
       "    <tr>\n",
       "      <th>0</th>\n",
       "      <td>0.087387449858191</td>\n",
       "      <td>0.060081931648431</td>\n",
       "      <td>0.31979451078728</td>\n",
       "      <td>2.8496262373309</td>\n",
       "      <td>Ceramic</td>\n",
       "    </tr>\n",
       "    <tr>\n",
       "      <th>1</th>\n",
       "      <td>0.10978353617857</td>\n",
       "      <td>0.091370057029853</td>\n",
       "      <td>0.47387481406305</td>\n",
       "      <td>3.6590249754078</td>\n",
       "      <td>Metal</td>\n",
       "    </tr>\n",
       "    <tr>\n",
       "      <th>5</th>\n",
       "      <td>0.11610638714973</td>\n",
       "      <td>0.097522332486657</td>\n",
       "      <td>0.24036446449462</td>\n",
       "      <td>3.4677618371783</td>\n",
       "      <td>Plastic</td>\n",
       "    </tr>\n",
       "    <tr>\n",
       "      <th>4</th>\n",
       "      <td>0.16354523767183</td>\n",
       "      <td>0.12624593368025</td>\n",
       "      <td>0.44889932007996</td>\n",
       "      <td>3.4711554454503</td>\n",
       "      <td>Plastic</td>\n",
       "    </tr>\n",
       "  </tbody>\n",
       "</table>\n",
       "</div>"
      ],
      "text/plain": [
       "              height           diameter            weight              hue  \\\n",
       "2  0.085536050586897               0.03  0.11915260588651  2.2104287108141   \n",
       "3  0.061070880610981  0.056668572017189  0.24657746013871  4.1755360255283   \n",
       "0  0.087387449858191  0.060081931648431  0.31979451078728  2.8496262373309   \n",
       "1   0.10978353617857  0.091370057029853  0.47387481406305  3.6590249754078   \n",
       "5   0.11610638714973  0.097522332486657  0.24036446449462  3.4677618371783   \n",
       "4   0.16354523767183   0.12624593368025  0.44889932007996  3.4711554454503   \n",
       "\n",
       "    labels  \n",
       "2    Metal  \n",
       "3  Ceramic  \n",
       "0  Ceramic  \n",
       "1    Metal  \n",
       "5  Plastic  \n",
       "4  Plastic  "
      ]
     },
     "execution_count": 56,
     "metadata": {},
     "output_type": "execute_result"
    }
   ],
   "source": [
    "df_small.sort_values('diameter')"
   ]
  },
  {
   "cell_type": "code",
   "execution_count": 78,
   "id": "8ecddf23",
   "metadata": {},
   "outputs": [
    {
     "name": "stdout",
     "output_type": "stream",
     "text": [
      "All thresholds for \"diameter\" are:\n",
      "\n",
      "0.0433342860085945\n",
      "0.058375251832810005\n",
      "0.075725994339142\n",
      "0.094446194758255\n",
      "0.11188413308345349\n"
     ]
    }
   ],
   "source": [
    "# calculates thresholds \n",
    "diameter_ser = df_small.sort_values('diameter', ascending = True,\n",
    "                                  ignore_index = True)['diameter'].astype('float')\n",
    "print('All thresholds for \"diameter\" are:\\n')\n",
    "for i in range(5):\n",
    "    print(f'T{i+1}: {(diameter_ser[i] + diameter_ser[i+1])/2}')"
   ]
  },
  {
   "cell_type": "code",
   "execution_count": 57,
   "id": "d94e4a83",
   "metadata": {},
   "outputs": [
    {
     "data": {
      "text/html": [
       "<div>\n",
       "<style scoped>\n",
       "    .dataframe tbody tr th:only-of-type {\n",
       "        vertical-align: middle;\n",
       "    }\n",
       "\n",
       "    .dataframe tbody tr th {\n",
       "        vertical-align: top;\n",
       "    }\n",
       "\n",
       "    .dataframe thead th {\n",
       "        text-align: right;\n",
       "    }\n",
       "</style>\n",
       "<table border=\"1\" class=\"dataframe\">\n",
       "  <thead>\n",
       "    <tr style=\"text-align: right;\">\n",
       "      <th></th>\n",
       "      <th>height</th>\n",
       "      <th>diameter</th>\n",
       "      <th>weight</th>\n",
       "      <th>hue</th>\n",
       "      <th>labels</th>\n",
       "    </tr>\n",
       "  </thead>\n",
       "  <tbody>\n",
       "    <tr>\n",
       "      <th>2</th>\n",
       "      <td>0.085536050586897</td>\n",
       "      <td>0.03</td>\n",
       "      <td>0.11915260588651</td>\n",
       "      <td>2.2104287108141</td>\n",
       "      <td>Metal</td>\n",
       "    </tr>\n",
       "    <tr>\n",
       "      <th>5</th>\n",
       "      <td>0.11610638714973</td>\n",
       "      <td>0.097522332486657</td>\n",
       "      <td>0.24036446449462</td>\n",
       "      <td>3.4677618371783</td>\n",
       "      <td>Plastic</td>\n",
       "    </tr>\n",
       "    <tr>\n",
       "      <th>3</th>\n",
       "      <td>0.061070880610981</td>\n",
       "      <td>0.056668572017189</td>\n",
       "      <td>0.24657746013871</td>\n",
       "      <td>4.1755360255283</td>\n",
       "      <td>Ceramic</td>\n",
       "    </tr>\n",
       "    <tr>\n",
       "      <th>0</th>\n",
       "      <td>0.087387449858191</td>\n",
       "      <td>0.060081931648431</td>\n",
       "      <td>0.31979451078728</td>\n",
       "      <td>2.8496262373309</td>\n",
       "      <td>Ceramic</td>\n",
       "    </tr>\n",
       "    <tr>\n",
       "      <th>4</th>\n",
       "      <td>0.16354523767183</td>\n",
       "      <td>0.12624593368025</td>\n",
       "      <td>0.44889932007996</td>\n",
       "      <td>3.4711554454503</td>\n",
       "      <td>Plastic</td>\n",
       "    </tr>\n",
       "    <tr>\n",
       "      <th>1</th>\n",
       "      <td>0.10978353617857</td>\n",
       "      <td>0.091370057029853</td>\n",
       "      <td>0.47387481406305</td>\n",
       "      <td>3.6590249754078</td>\n",
       "      <td>Metal</td>\n",
       "    </tr>\n",
       "  </tbody>\n",
       "</table>\n",
       "</div>"
      ],
      "text/plain": [
       "              height           diameter            weight              hue  \\\n",
       "2  0.085536050586897               0.03  0.11915260588651  2.2104287108141   \n",
       "5   0.11610638714973  0.097522332486657  0.24036446449462  3.4677618371783   \n",
       "3  0.061070880610981  0.056668572017189  0.24657746013871  4.1755360255283   \n",
       "0  0.087387449858191  0.060081931648431  0.31979451078728  2.8496262373309   \n",
       "4   0.16354523767183   0.12624593368025  0.44889932007996  3.4711554454503   \n",
       "1   0.10978353617857  0.091370057029853  0.47387481406305  3.6590249754078   \n",
       "\n",
       "    labels  \n",
       "2    Metal  \n",
       "5  Plastic  \n",
       "3  Ceramic  \n",
       "0  Ceramic  \n",
       "4  Plastic  \n",
       "1    Metal  "
      ]
     },
     "execution_count": 57,
     "metadata": {},
     "output_type": "execute_result"
    }
   ],
   "source": [
    "df_small.sort_values('weight')"
   ]
  },
  {
   "cell_type": "code",
   "execution_count": 79,
   "id": "eba173ce",
   "metadata": {},
   "outputs": [
    {
     "name": "stdout",
     "output_type": "stream",
     "text": [
      "All thresholds for weight\" are:\n",
      "\n",
      "0.179758535190565\n",
      "0.24347096231666499\n",
      "0.283185985462995\n",
      "0.38434691543362\n",
      "0.461387067071505\n"
     ]
    }
   ],
   "source": [
    "# calculates thresholds \n",
    "weight_ser = df_small.sort_values('weight', ascending = True,\n",
    "                                  ignore_index = True)['weight'].astype('float')\n",
    "print('All thresholds for weight\" are:\\n')\n",
    "for i in range(5):\n",
    "    print(f'T{i+1}: {(weight_ser[i] + weight_ser[i+1])/2}')"
   ]
  },
  {
   "cell_type": "code",
   "execution_count": 80,
   "id": "4e16388b",
   "metadata": {},
   "outputs": [
    {
     "data": {
      "text/html": [
       "<div>\n",
       "<style scoped>\n",
       "    .dataframe tbody tr th:only-of-type {\n",
       "        vertical-align: middle;\n",
       "    }\n",
       "\n",
       "    .dataframe tbody tr th {\n",
       "        vertical-align: top;\n",
       "    }\n",
       "\n",
       "    .dataframe thead th {\n",
       "        text-align: right;\n",
       "    }\n",
       "</style>\n",
       "<table border=\"1\" class=\"dataframe\">\n",
       "  <thead>\n",
       "    <tr style=\"text-align: right;\">\n",
       "      <th></th>\n",
       "      <th>height</th>\n",
       "      <th>diameter</th>\n",
       "      <th>weight</th>\n",
       "      <th>hue</th>\n",
       "      <th>labels</th>\n",
       "    </tr>\n",
       "  </thead>\n",
       "  <tbody>\n",
       "    <tr>\n",
       "      <th>2</th>\n",
       "      <td>0.085536050586897</td>\n",
       "      <td>0.03</td>\n",
       "      <td>0.11915260588651</td>\n",
       "      <td>2.2104287108141</td>\n",
       "      <td>Metal</td>\n",
       "    </tr>\n",
       "    <tr>\n",
       "      <th>0</th>\n",
       "      <td>0.087387449858191</td>\n",
       "      <td>0.060081931648431</td>\n",
       "      <td>0.31979451078728</td>\n",
       "      <td>2.8496262373309</td>\n",
       "      <td>Ceramic</td>\n",
       "    </tr>\n",
       "    <tr>\n",
       "      <th>5</th>\n",
       "      <td>0.11610638714973</td>\n",
       "      <td>0.097522332486657</td>\n",
       "      <td>0.24036446449462</td>\n",
       "      <td>3.4677618371783</td>\n",
       "      <td>Plastic</td>\n",
       "    </tr>\n",
       "    <tr>\n",
       "      <th>4</th>\n",
       "      <td>0.16354523767183</td>\n",
       "      <td>0.12624593368025</td>\n",
       "      <td>0.44889932007996</td>\n",
       "      <td>3.4711554454503</td>\n",
       "      <td>Plastic</td>\n",
       "    </tr>\n",
       "    <tr>\n",
       "      <th>1</th>\n",
       "      <td>0.10978353617857</td>\n",
       "      <td>0.091370057029853</td>\n",
       "      <td>0.47387481406305</td>\n",
       "      <td>3.6590249754078</td>\n",
       "      <td>Metal</td>\n",
       "    </tr>\n",
       "    <tr>\n",
       "      <th>3</th>\n",
       "      <td>0.061070880610981</td>\n",
       "      <td>0.056668572017189</td>\n",
       "      <td>0.24657746013871</td>\n",
       "      <td>4.1755360255283</td>\n",
       "      <td>Ceramic</td>\n",
       "    </tr>\n",
       "  </tbody>\n",
       "</table>\n",
       "</div>"
      ],
      "text/plain": [
       "              height           diameter            weight              hue  \\\n",
       "2  0.085536050586897               0.03  0.11915260588651  2.2104287108141   \n",
       "0  0.087387449858191  0.060081931648431  0.31979451078728  2.8496262373309   \n",
       "5   0.11610638714973  0.097522332486657  0.24036446449462  3.4677618371783   \n",
       "4   0.16354523767183   0.12624593368025  0.44889932007996  3.4711554454503   \n",
       "1   0.10978353617857  0.091370057029853  0.47387481406305  3.6590249754078   \n",
       "3  0.061070880610981  0.056668572017189  0.24657746013871  4.1755360255283   \n",
       "\n",
       "    labels  \n",
       "2    Metal  \n",
       "0  Ceramic  \n",
       "5  Plastic  \n",
       "4  Plastic  \n",
       "1    Metal  \n",
       "3  Ceramic  "
      ]
     },
     "execution_count": 80,
     "metadata": {},
     "output_type": "execute_result"
    }
   ],
   "source": [
    "df_small.sort_values('hue')"
   ]
  },
  {
   "cell_type": "code",
   "execution_count": 81,
   "id": "9b086e4b",
   "metadata": {},
   "outputs": [
    {
     "name": "stdout",
     "output_type": "stream",
     "text": [
      "All thresholds for \"hue\" are:\n",
      "\n",
      "2.5300274740725\n",
      "3.1586940372546\n",
      "3.4694586413143\n",
      "3.56509021042905\n",
      "3.91728050046805\n"
     ]
    }
   ],
   "source": [
    "# calculates thresholds \n",
    "hue_ser = df_small.sort_values('hue', ascending = True,\n",
    "                                  ignore_index = True)['hue'].astype('float')\n",
    "print('All thresholds for \"hue\" are:\\n')\n",
    "for i in range(5):\n",
    "    print(f'T{i+1}: {(hue_ser[i] + hue_ser[i+1])/2}')"
   ]
  },
  {
   "cell_type": "code",
   "execution_count": 84,
   "id": "a0ea8a5d",
   "metadata": {},
   "outputs": [],
   "source": [
    "arr = np.array([1,2,2])"
   ]
  },
  {
   "cell_type": "code",
   "execution_count": 86,
   "id": "2b6e491e",
   "metadata": {},
   "outputs": [
    {
     "data": {
      "text/plain": [
       "1.5219280948873621"
      ]
     },
     "execution_count": 86,
     "metadata": {},
     "output_type": "execute_result"
    }
   ],
   "source": [
    "-(1/5)*math.log(1/5, 2)-(2/5)*math.log(2/5, 2)-(2/5)*math.log(2/5, 2)"
   ]
  },
  {
   "cell_type": "code",
   "execution_count": 87,
   "id": "ba076d27",
   "metadata": {},
   "outputs": [
    {
     "data": {
      "text/plain": [
       "-1.5849625007211563"
      ]
     },
     "execution_count": 87,
     "metadata": {},
     "output_type": "execute_result"
    }
   ],
   "source": [
    "math.log(1/3, 2)"
   ]
  },
  {
   "cell_type": "code",
   "execution_count": 88,
   "id": "8b50b3e9",
   "metadata": {},
   "outputs": [
    {
     "data": {
      "text/html": [
       "<div>\n",
       "<style scoped>\n",
       "    .dataframe tbody tr th:only-of-type {\n",
       "        vertical-align: middle;\n",
       "    }\n",
       "\n",
       "    .dataframe tbody tr th {\n",
       "        vertical-align: top;\n",
       "    }\n",
       "\n",
       "    .dataframe thead th {\n",
       "        text-align: right;\n",
       "    }\n",
       "</style>\n",
       "<table border=\"1\" class=\"dataframe\">\n",
       "  <thead>\n",
       "    <tr style=\"text-align: right;\">\n",
       "      <th></th>\n",
       "      <th>height</th>\n",
       "      <th>diameter</th>\n",
       "      <th>weight</th>\n",
       "      <th>hue</th>\n",
       "      <th>labels</th>\n",
       "    </tr>\n",
       "  </thead>\n",
       "  <tbody>\n",
       "    <tr>\n",
       "      <th>3</th>\n",
       "      <td>0.061070880610981</td>\n",
       "      <td>0.056668572017189</td>\n",
       "      <td>0.24657746013871</td>\n",
       "      <td>4.1755360255283</td>\n",
       "      <td>Ceramic</td>\n",
       "    </tr>\n",
       "    <tr>\n",
       "      <th>2</th>\n",
       "      <td>0.085536050586897</td>\n",
       "      <td>0.03</td>\n",
       "      <td>0.11915260588651</td>\n",
       "      <td>2.2104287108141</td>\n",
       "      <td>Metal</td>\n",
       "    </tr>\n",
       "    <tr>\n",
       "      <th>0</th>\n",
       "      <td>0.087387449858191</td>\n",
       "      <td>0.060081931648431</td>\n",
       "      <td>0.31979451078728</td>\n",
       "      <td>2.8496262373309</td>\n",
       "      <td>Ceramic</td>\n",
       "    </tr>\n",
       "    <tr>\n",
       "      <th>1</th>\n",
       "      <td>0.10978353617857</td>\n",
       "      <td>0.091370057029853</td>\n",
       "      <td>0.47387481406305</td>\n",
       "      <td>3.6590249754078</td>\n",
       "      <td>Metal</td>\n",
       "    </tr>\n",
       "  </tbody>\n",
       "</table>\n",
       "</div>"
      ],
      "text/plain": [
       "              height           diameter            weight              hue  \\\n",
       "3  0.061070880610981  0.056668572017189  0.24657746013871  4.1755360255283   \n",
       "2  0.085536050586897               0.03  0.11915260588651  2.2104287108141   \n",
       "0  0.087387449858191  0.060081931648431  0.31979451078728  2.8496262373309   \n",
       "1   0.10978353617857  0.091370057029853  0.47387481406305  3.6590249754078   \n",
       "\n",
       "    labels  \n",
       "3  Ceramic  \n",
       "2    Metal  \n",
       "0  Ceramic  \n",
       "1    Metal  "
      ]
     },
     "execution_count": 88,
     "metadata": {},
     "output_type": "execute_result"
    }
   ],
   "source": [
    "df_node1 = df_small.sort_values('height', ascending = True).head(4)\n",
    "df_node1"
   ]
  },
  {
   "cell_type": "code",
   "execution_count": 90,
   "id": "271186ae",
   "metadata": {},
   "outputs": [
    {
     "name": "stdout",
     "output_type": "stream",
     "text": [
      "All thresholds for \"height\" are:\n",
      "\n",
      "T1: 0.07330346559893901\n",
      "T2: 0.086461750222544\n",
      "T3: 0.09858549301838049\n"
     ]
    }
   ],
   "source": [
    "# calculates thresholds \n",
    "height_ser = df_node1.sort_values('height', ascending = True,\n",
    "                                  ignore_index = True)['height'].astype('float')\n",
    "print('All thresholds for \"height\" are:\\n')\n",
    "for i in range(3):\n",
    "    print(f'T{i+1}: {(height_ser[i] + height_ser[i+1])/2}')"
   ]
  },
  {
   "cell_type": "code",
   "execution_count": 91,
   "id": "03760d90",
   "metadata": {},
   "outputs": [
    {
     "data": {
      "text/html": [
       "<div>\n",
       "<style scoped>\n",
       "    .dataframe tbody tr th:only-of-type {\n",
       "        vertical-align: middle;\n",
       "    }\n",
       "\n",
       "    .dataframe tbody tr th {\n",
       "        vertical-align: top;\n",
       "    }\n",
       "\n",
       "    .dataframe thead th {\n",
       "        text-align: right;\n",
       "    }\n",
       "</style>\n",
       "<table border=\"1\" class=\"dataframe\">\n",
       "  <thead>\n",
       "    <tr style=\"text-align: right;\">\n",
       "      <th></th>\n",
       "      <th>height</th>\n",
       "      <th>diameter</th>\n",
       "      <th>weight</th>\n",
       "      <th>hue</th>\n",
       "      <th>labels</th>\n",
       "    </tr>\n",
       "  </thead>\n",
       "  <tbody>\n",
       "    <tr>\n",
       "      <th>2</th>\n",
       "      <td>0.085536050586897</td>\n",
       "      <td>0.03</td>\n",
       "      <td>0.11915260588651</td>\n",
       "      <td>2.2104287108141</td>\n",
       "      <td>Metal</td>\n",
       "    </tr>\n",
       "    <tr>\n",
       "      <th>3</th>\n",
       "      <td>0.061070880610981</td>\n",
       "      <td>0.056668572017189</td>\n",
       "      <td>0.24657746013871</td>\n",
       "      <td>4.1755360255283</td>\n",
       "      <td>Ceramic</td>\n",
       "    </tr>\n",
       "    <tr>\n",
       "      <th>0</th>\n",
       "      <td>0.087387449858191</td>\n",
       "      <td>0.060081931648431</td>\n",
       "      <td>0.31979451078728</td>\n",
       "      <td>2.8496262373309</td>\n",
       "      <td>Ceramic</td>\n",
       "    </tr>\n",
       "    <tr>\n",
       "      <th>1</th>\n",
       "      <td>0.10978353617857</td>\n",
       "      <td>0.091370057029853</td>\n",
       "      <td>0.47387481406305</td>\n",
       "      <td>3.6590249754078</td>\n",
       "      <td>Metal</td>\n",
       "    </tr>\n",
       "  </tbody>\n",
       "</table>\n",
       "</div>"
      ],
      "text/plain": [
       "              height           diameter            weight              hue  \\\n",
       "2  0.085536050586897               0.03  0.11915260588651  2.2104287108141   \n",
       "3  0.061070880610981  0.056668572017189  0.24657746013871  4.1755360255283   \n",
       "0  0.087387449858191  0.060081931648431  0.31979451078728  2.8496262373309   \n",
       "1   0.10978353617857  0.091370057029853  0.47387481406305  3.6590249754078   \n",
       "\n",
       "    labels  \n",
       "2    Metal  \n",
       "3  Ceramic  \n",
       "0  Ceramic  \n",
       "1    Metal  "
      ]
     },
     "execution_count": 91,
     "metadata": {},
     "output_type": "execute_result"
    }
   ],
   "source": [
    "df_node1.sort_values('diameter', ascending = True)"
   ]
  },
  {
   "cell_type": "code",
   "execution_count": 93,
   "id": "110afd0e",
   "metadata": {},
   "outputs": [
    {
     "name": "stdout",
     "output_type": "stream",
     "text": [
      "All thresholds for \"diameter\" are:\n",
      "\n",
      "T1: 0.0433342860085945\n",
      "T2: 0.058375251832810005\n",
      "T3: 0.075725994339142\n"
     ]
    }
   ],
   "source": [
    "# calculates thresholds \n",
    "diameter_ser = df_node1.sort_values('diameter', ascending = True,\n",
    "                                  ignore_index = True)['diameter'].astype('float')\n",
    "print('All thresholds for \"diameter\" are:\\n')\n",
    "for i in range(3):\n",
    "    print(f'T{i+1}: {(diameter_ser[i] + diameter_ser[i+1])/2}')"
   ]
  },
  {
   "cell_type": "code",
   "execution_count": 94,
   "id": "4538de81",
   "metadata": {},
   "outputs": [
    {
     "data": {
      "text/html": [
       "<div>\n",
       "<style scoped>\n",
       "    .dataframe tbody tr th:only-of-type {\n",
       "        vertical-align: middle;\n",
       "    }\n",
       "\n",
       "    .dataframe tbody tr th {\n",
       "        vertical-align: top;\n",
       "    }\n",
       "\n",
       "    .dataframe thead th {\n",
       "        text-align: right;\n",
       "    }\n",
       "</style>\n",
       "<table border=\"1\" class=\"dataframe\">\n",
       "  <thead>\n",
       "    <tr style=\"text-align: right;\">\n",
       "      <th></th>\n",
       "      <th>height</th>\n",
       "      <th>diameter</th>\n",
       "      <th>weight</th>\n",
       "      <th>hue</th>\n",
       "      <th>labels</th>\n",
       "    </tr>\n",
       "  </thead>\n",
       "  <tbody>\n",
       "    <tr>\n",
       "      <th>2</th>\n",
       "      <td>0.085536050586897</td>\n",
       "      <td>0.03</td>\n",
       "      <td>0.11915260588651</td>\n",
       "      <td>2.2104287108141</td>\n",
       "      <td>Metal</td>\n",
       "    </tr>\n",
       "    <tr>\n",
       "      <th>3</th>\n",
       "      <td>0.061070880610981</td>\n",
       "      <td>0.056668572017189</td>\n",
       "      <td>0.24657746013871</td>\n",
       "      <td>4.1755360255283</td>\n",
       "      <td>Ceramic</td>\n",
       "    </tr>\n",
       "    <tr>\n",
       "      <th>0</th>\n",
       "      <td>0.087387449858191</td>\n",
       "      <td>0.060081931648431</td>\n",
       "      <td>0.31979451078728</td>\n",
       "      <td>2.8496262373309</td>\n",
       "      <td>Ceramic</td>\n",
       "    </tr>\n",
       "    <tr>\n",
       "      <th>1</th>\n",
       "      <td>0.10978353617857</td>\n",
       "      <td>0.091370057029853</td>\n",
       "      <td>0.47387481406305</td>\n",
       "      <td>3.6590249754078</td>\n",
       "      <td>Metal</td>\n",
       "    </tr>\n",
       "  </tbody>\n",
       "</table>\n",
       "</div>"
      ],
      "text/plain": [
       "              height           diameter            weight              hue  \\\n",
       "2  0.085536050586897               0.03  0.11915260588651  2.2104287108141   \n",
       "3  0.061070880610981  0.056668572017189  0.24657746013871  4.1755360255283   \n",
       "0  0.087387449858191  0.060081931648431  0.31979451078728  2.8496262373309   \n",
       "1   0.10978353617857  0.091370057029853  0.47387481406305  3.6590249754078   \n",
       "\n",
       "    labels  \n",
       "2    Metal  \n",
       "3  Ceramic  \n",
       "0  Ceramic  \n",
       "1    Metal  "
      ]
     },
     "execution_count": 94,
     "metadata": {},
     "output_type": "execute_result"
    }
   ],
   "source": [
    "df_node1.sort_values('weight', ascending = True)"
   ]
  },
  {
   "cell_type": "code",
   "execution_count": 97,
   "id": "30e61e7f",
   "metadata": {},
   "outputs": [
    {
     "name": "stdout",
     "output_type": "stream",
     "text": [
      "All thresholds for \"weight\" are:\n",
      "\n",
      "T1: 0.18286503301260998\n",
      "T2: 0.283185985462995\n",
      "T3: 0.39683466242516496\n"
     ]
    }
   ],
   "source": [
    "# calculates thresholds \n",
    "weight_ser = df_node1.sort_values('weight', ascending = True,\n",
    "                                  ignore_index = True)['weight'].astype('float')\n",
    "print('All thresholds for \"weight\" are:\\n')\n",
    "for i in range(3):\n",
    "    print(f'T{i+1}: {(weight_ser[i] + weight_ser[i+1])/2}')"
   ]
  },
  {
   "cell_type": "code",
   "execution_count": null,
   "id": "2bbc99cc",
   "metadata": {},
   "outputs": [],
   "source": []
  }
 ],
 "metadata": {
  "kernelspec": {
   "display_name": "Python [conda env:sklearn]",
   "language": "python",
   "name": "conda-env-sklearn-py"
  },
  "language_info": {
   "codemirror_mode": {
    "name": "ipython",
    "version": 3
   },
   "file_extension": ".py",
   "mimetype": "text/x-python",
   "name": "python",
   "nbconvert_exporter": "python",
   "pygments_lexer": "ipython3",
   "version": "3.10.10"
  }
 },
 "nbformat": 4,
 "nbformat_minor": 5
}
