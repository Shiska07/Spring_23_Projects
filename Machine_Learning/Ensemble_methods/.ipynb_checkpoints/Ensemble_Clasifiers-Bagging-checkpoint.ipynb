{
 "cells": [
  {
   "cell_type": "code",
   "execution_count": 140,
   "metadata": {},
   "outputs": [],
   "source": [
    "import numpy as np\n",
    "import sys\n",
    "import matplotlib.pyplot as plt\n",
    "%matplotlib inline"
   ]
  },
  {
   "cell_type": "markdown",
   "metadata": {},
   "source": [
    "## Read training/evaluation data\n",
    "\n",
    "**Argument(s):** \n",
    "1) filename: name of a .txt file with each line containing training/evaluation features(x) and label(y) in the following format:\n",
    "((x1, x2, .....xn), y) <br>\n",
    "2) dtype_x : datatype of features <br>\n",
    "3) dtype_y: datatype of label <br>\n",
    "\n",
    "**Return(s):** 'X, Y' where X is a numpy array of feature vectors and Y is the target label vector.\n",
    "Note: Each column in the array(s) epresents a single datapoint."
   ]
  },
  {
   "cell_type": "code",
   "execution_count": 141,
   "metadata": {},
   "outputs": [],
   "source": [
    "def get_X_Y_arrays(filename, dtype_x, dtype_y):\n",
    "    try:\n",
    "        f = open(filename, 'r')\n",
    "    except OSError:\n",
    "        print(f'{filename} could not be opened.\\n')\n",
    "        sys.exit()\n",
    "        \n",
    "    # initialize list to store feature and labels for training data\n",
    "    features = []             \n",
    "    labels = []\n",
    "    \n",
    "    with f:\n",
    "        line = f.readline()\n",
    "        while line != '':\n",
    "            # strip newline and outer parenthesis\n",
    "            line = line.strip('\\n')\n",
    "            line = line.strip('( )')\n",
    "            \n",
    "            # extrace label and append to labels list\n",
    "            single_label = line.split('), ')[-1]\n",
    "            labels.append(single_label)\n",
    "            \n",
    "            # extrace features and append to features list\n",
    "            feat = line.split('), ')[0].split(', ')\n",
    "            features.append(feat)\n",
    "            \n",
    "            # read next line\n",
    "            line = f.readline()\n",
    "        \n",
    "        # create dataframe of features and append labels\n",
    "        X = np.array(features, dtype = dtype_x, ndmin = 2)\n",
    "        \n",
    "        # convert labels list to array\n",
    "        Y = np.array(labels, dtype = dtype_y, ndmin = 2)\n",
    "        \n",
    "        return X.transpose(), Y"
   ]
  },
  {
   "cell_type": "markdown",
   "metadata": {},
   "source": [
    "### Softmax Regression"
   ]
  },
  {
   "cell_type": "markdown",
   "metadata": {},
   "source": [
    "#### Helper Functions"
   ]
  },
  {
   "cell_type": "markdown",
   "metadata": {},
   "source": [
    "#### one_hot_encoder(arr) : return encoded_arr, label_idx_dict\n",
    "**arr:** <br>\n",
    "[['Ceramic' 'Metal' 'Metal' 'Metal' 'Ceramic' 'Plastic' 'Plastic'\n",
    "  'Plastic' 'Plastic' 'Plastic' 'Plastic' 'Ceramic']]<br>  \n",
    "**encoded_arr:** <br>\n",
    "[[0 1 1 1 0 0 0 0 0 0 0 0]<br>\n",
    " [0 0 0 0 0 1 1 1 1 1 1 0]<br>\n",
    " [1 0 0 0 1 0 0 0 0 0 0 1]] <br>\n",
    "**encoding_dict:** <br>\n",
    "{'Metal': 0, 'Plastic': 1, 'Ceramic': 2}<br>\n",
    "**decoding_dict:** <br>\n",
    "{0:'Metal', 1:'Plastic', 2:'Ceramic'}"
   ]
  },
  {
   "cell_type": "code",
   "execution_count": 142,
   "metadata": {},
   "outputs": [],
   "source": [
    "# given an array of attribute values for a categocial attribute,\n",
    "# preforms one-hot-encoding and returns resulting binary array\n",
    "def one_hot_encoder(arr):\n",
    "    \n",
    "    __, n_samples = arr.shape\n",
    "\n",
    "    # get unique labels\n",
    "    uniq_labels = set(arr[0, :].tolist())\n",
    "\n",
    "    # get number of total attribute values\n",
    "    n_labels = len(uniq_labels)\n",
    "\n",
    "    # create an array of size n_labels*n_samples to store encoded values\n",
    "    encoded_arr = np.zeros((n_labels, n_samples), dtype=int)\n",
    "\n",
    "    # create dictionary to store row indev of each attribute value\n",
    "    encoding_dict = {}\n",
    "    for i, v in enumerate(uniq_labels):\n",
    "        encoding_dict[v] = i\n",
    "\n",
    "    # fill encoded_arr using attribute index dictionary and input arr\n",
    "    for i in range(n_samples):\n",
    "        # get index to encode as 1\n",
    "        idx = encoding_dict[arr[0, i]]\n",
    "        encoded_arr[idx, i] = 1\n",
    "\n",
    "    # get inverse of the dictionary\n",
    "    decoding_dict = {v: k for k, v in encoding_dict.items()}\n",
    "\n",
    "    return encoded_arr, encoding_dict, decoding_dict\n",
    "\n",
    "\n",
    "# given a one-hot encoded array and a decoding_dict returns decoded array\n",
    "def get_decoded_arr(arr, decoding_dict):\n",
    "\n",
    "    # get number of samples\n",
    "    n_samples = arr.shape[1]\n",
    "\n",
    "    arr_decoded = np.zeros((1, n_samples), dtype = object)\n",
    "\n",
    "    for i in range(n_samples):\n",
    "        arr_decoded[:, i] = decoding_dict[np.argmax(arr[:, i])]\n",
    "\n",
    "    return arr_decoded\n",
    "\n",
    "\n",
    "# given an array of labels and encoding dict returns encoded array\n",
    "def get_encoded_arr(arr, encoding_dict):\n",
    "\n",
    "    # get number of classes and number of samples\n",
    "    n_class = len(encoding_dict.keys())\n",
    "    n_samples = arr.shape[1]\n",
    "\n",
    "    encoded_arr = np.zeros((n_class, n_samples), dtype = int)\n",
    "\n",
    "    for i in range(n_samples):\n",
    "\n",
    "        idx = encoding_dict[arr[:, i][0]]\n",
    "        encoded_arr[idx, i] = int(1)\n",
    "\n",
    "    return encoded_arr\n",
    "\n",
    "# adds bias as the first row to a dataset\n",
    "def add_bias(X):\n",
    "    \n",
    "    n_feat, n_samples = X.shape\n",
    "    X_b = np.ones((n_feat+1, n_samples), dtype = float)\n",
    "    X_b[1::,:] = X\n",
    "    \n",
    "    return X_b\n",
    "\n",
    "\n",
    "# plots a line graph \n",
    "def plot_train_vs_test_acc(train, test, x, title, xlab, ylab):\n",
    "    \n",
    "    fig = plt.figure(figsize = (10, 6))\n",
    "    plt.plot(x, train, color = 'blue')\n",
    "    plt.plot(x, test, color = 'green')\n",
    "    \n",
    "    # add title and labels\n",
    "    plt.title(title, fontdict = {'fontsize': 14})\n",
    "    plt.xlabel(xlab, fontdict = {'fontsize': 12})\n",
    "    plt.ylabel(ylab, fontdict = {'fontsize': 12})\n",
    "    plt.xlim(0, max(x) + 5)\n",
    "    plt.legend(['training acc', 'test, acc'])\n",
    "    plt.grid()\n",
    "\n",
    "    \n",
    "# compares two arrays and returns class accuracy\n",
    "# Y_pred.shape == Y.shape = ndim, n_samples \n",
    "# Y_pred.dtype = Y.dtype + string object\n",
    "def get_class_acc(Y_pred, Y):\n",
    "    \n",
    "    # create a dict to store class accuracy\n",
    "    class_acc = {}\n",
    "    \n",
    "    # get all unique classes\n",
    "    classes = set(Y[0,:].tolist())\n",
    "    \n",
    "    # get number of samples\n",
    "    n_samples = Y_pred.shape[1]\n",
    "    \n",
    "    # calculate total occurence and accurate predictions for each class\n",
    "    for c in classes:\n",
    "        \n",
    "        total = 0\n",
    "        acc_vals = 0\n",
    "        \n",
    "        for i in range(n_samples):\n",
    "            if Y[:,i] == c:\n",
    "                total = total + 1\n",
    "                if Y[:,i] == Y_pred[:,i]:\n",
    "                    acc_vals = acc_vals + 1\n",
    "                \n",
    "        class_acc[c] = acc_vals/total\n",
    "        \n",
    "    return class_acc\n",
    "\n",
    "\n",
    "# compares two arrays and returns overall accuracy\n",
    "# Y_pred.shape == Y.shape = ndim, n_samples \n",
    "# Y_pred.dtype = Y.dtype + string object\n",
    "def get_acc(Y_pred, Y):\n",
    "    \n",
    "    n_samples = Y_pred.shape[1]\n",
    "    \n",
    "    # reutrn overall accuracy\n",
    "    return (np.sum(Y == Y_pred))/n_samples\n"
   ]
  },
  {
   "cell_type": "markdown",
   "metadata": {},
   "source": [
    "### Functions for Training and Prediction"
   ]
  },
  {
   "cell_type": "code",
   "execution_count": 143,
   "metadata": {},
   "outputs": [],
   "source": [
    "# given a vector of parobaility values, returns label with max probability for a single sample\n",
    "def get_sample_prediction_label(sfmax_net, decoding_dict):\n",
    "    \n",
    "    # return label with max probability value\n",
    "    return decoding_dict[int(np.argmax(sfmax_net, axis = 0))]\n",
    "\n",
    "\n",
    "# uses softmax function and parameter matrix to get probability values\n",
    "# for multiclass classification\n",
    "def get_sample_prediction_values(x_sample, model_params):\n",
    "    \n",
    "    # calculate linear net value\n",
    "    net = np.dot(model_params, x_sample)\n",
    "    \n",
    "    # calculate exponential value for rach class\n",
    "    exp_net = np.exp(net, dtype = float)\n",
    "    \n",
    "    # calculate softmax value for each class\n",
    "    sfmax_net = exp_net/np.sum(exp_net, axis = 0, dtype = float)\n",
    "    \n",
    "    return sfmax_net\n",
    "\n",
    "\n",
    "# gets predictions for an entire test dataset\n",
    "def get_predictions(X_test, model_params, decoding_dict):\n",
    "\n",
    "    # initialize list to store predictions\n",
    "    Y_pred = []\n",
    "\n",
    "    # get number of test samples\n",
    "    n_feat, n_samples = X_test.shape\n",
    "\n",
    "    for i in range(n_samples):\n",
    "    \n",
    "        x_sample = X_test[:,i].reshape(n_feat, 1)\n",
    "        y_pred_values = get_sample_prediction_values(X_test[:,i], model_params)\n",
    "        y_pred_label = get_sample_prediction_label(y_pred_values, decoding_dict)\n",
    "        Y_pred.append(y_pred_label)\n",
    "\n",
    "    # convert labels list to numpy array\n",
    "    Y_pred = np.array(Y_pred, dtype = str, ndmin = 2)\n",
    "\n",
    "    return Y_pred  \n",
    "\n",
    "\n",
    "# training with batch gradient descent\n",
    "def train_softmax_regressor_batch(X_train, Y_train, alpha, epochs):\n",
    "    \n",
    "    # get number of features and samples\n",
    "    n_feat, n_samples = X_train.shape\n",
    "    \n",
    "    # get no of classes/labels\n",
    "    n_class, __ = Y_train.shape\n",
    "\n",
    "    # get paramater matrix\n",
    "    model_params = np.random.uniform(-0.01, 0.01, size = (n_class, n_feat))\n",
    "\n",
    "    # initialize list to store net change in parameter values\n",
    "    epoch_change_model_params = []\n",
    "    \n",
    "    for i in range(epochs):\n",
    "\n",
    "        # initialize gradient vector for each epoch\n",
    "        gradient_mtx = np.zeros((n_class, n_feat), dtype = float)\n",
    "\n",
    "        for j in range(n_samples):\n",
    "            \n",
    "            # pick a sample \n",
    "            x_sample = X_train[:,j].reshape(n_feat,1)\n",
    "            y_sample = Y_train[:,j].reshape(n_class, 1)\n",
    "            \n",
    "            # get prediction value\n",
    "            y_pred = get_sample_prediction_values(x_sample, model_params)\n",
    "\n",
    "            # calculate gradient matrix\n",
    "            sample_gradient = np.dot((y_sample - y_pred), x_sample.transpose())\n",
    "            gradient_mtx = gradient_mtx + sample_gradient\n",
    "            \n",
    "        # adjust parameter values using batch gradient descent \n",
    "        updated_params = model_params + (alpha*gradient_mtx)\n",
    "        \n",
    "        # get the net change in parameters\n",
    "        net_change = np.sum(np.abs(model_params - updated_params))\n",
    "        epoch_change_model_params.append(net_change)\n",
    "            \n",
    "        # set updated parameters as new parameters  \n",
    "        model_params = updated_params.copy()\n",
    "        \n",
    "    # return final parameter matrix\n",
    "    return model_params, epoch_change_model_params\n"
   ]
  },
  {
   "cell_type": "markdown",
   "metadata": {},
   "source": [
    "### Provide Filename:\n",
    "1) Training/evaluation file: name of a .txt file with each line containing training/evaluation features(x) and label(y) in the following format:\n",
    "((x1, x2, .....xn), y)"
   ]
  },
  {
   "cell_type": "code",
   "execution_count": 144,
   "metadata": {},
   "outputs": [],
   "source": [
    "fname = 'data.txt'\n",
    "\n",
    "X, Y = get_X_Y_arrays(fname, float, str)"
   ]
  },
  {
   "cell_type": "markdown",
   "metadata": {},
   "source": [
    "### Plot class distribution of training data provided in assignment"
   ]
  },
  {
   "cell_type": "code",
   "execution_count": 145,
   "metadata": {},
   "outputs": [
    {
     "data": {
      "image/png": "[encoded data removed]",
      "text/plain": [
       "<Figure size 600x400 with 1 Axes>"
      ]
     },
     "metadata": {},
     "output_type": "display_data"
    }
   ],
   "source": [
    "plt.figure(figsize = (6, 4))\n",
    "plt.title(f'Class label distribution for \"{fname}\"')\n",
    "plt.ylabel('No. of datapoints')\n",
    "plt.hist(Y.squeeze())\n",
    "plt.grid()"
   ]
  },
  {
   "cell_type": "code",
   "execution_count": 146,
   "metadata": {},
   "outputs": [],
   "source": [
    "# add bias to X training data\n",
    "X_b = add_bias(X)\n",
    "\n",
    "# get encoded values for Y_train\n",
    "Y_encoded, encoding_dict, decoding_dict = one_hot_encoder(Y)"
   ]
  },
  {
   "cell_type": "markdown",
   "metadata": {},
   "source": [
    "### Split data into training and test set"
   ]
  },
  {
   "cell_type": "code",
   "execution_count": 147,
   "metadata": {},
   "outputs": [],
   "source": [
    "def split_data(X, Y, n_test_samples):\n",
    "\n",
    "    X_test = X[:, 0:n_test_samples]\n",
    "    Y_test = Y[:, 0:n_test_samples]\n",
    "\n",
    "    X_train = np.delete(X, np.s_[0:n_test_samples], axis = 1)\n",
    "    Y_train = np.delete(Y, np.s_[0:n_test_samples], axis = 1)\n",
    "\n",
    "    return X_train, Y_train, X_test, Y_test"
   ]
  },
  {
   "cell_type": "code",
   "execution_count": 148,
   "metadata": {},
   "outputs": [],
   "source": [
    "# split data into training and test set\n",
    "X_train, Y_train, X_test, Y_test = split_data(X_b, Y_encoded, 15)"
   ]
  },
  {
   "cell_type": "markdown",
   "metadata": {},
   "source": [
    "### 1) a\n",
    "### Bagging "
   ]
  },
  {
   "cell_type": "code",
   "execution_count": 166,
   "metadata": {},
   "outputs": [],
   "source": [
    "# creates a list of 'n' dataset arrays created via random sampling with replacement \n",
    "def get_bootstrapped_datasets(X, Y, n):\n",
    "    \n",
    "    # initialze list to store datasets\n",
    "    X_list = []\n",
    "    Y_list = []\n",
    "    \n",
    "    # get number of samples\n",
    "    n_samples = X.shape[1]\n",
    "    \n",
    "    for i in range(n):\n",
    "        \n",
    "        # create array of same size as the original dataset\n",
    "        X_new = np.zeros((X.shape))\n",
    "        Y_new = np.zeros((Y.shape))\n",
    "        \n",
    "        for j in range(n_samples):\n",
    "            \n",
    "            # randomply pick an index\n",
    "            idx = np.random.randint(0, n_samples)\n",
    "            \n",
    "            X_new[:, j] = X[:, idx]\n",
    "            Y_new[:, j] = Y[:, idx]\n",
    "            \n",
    "        X_list.append(X_new)\n",
    "        Y_list.append(Y_new)\n",
    "    \n",
    "    return X_list, Y_list\n",
    "\n",
    "\n",
    "# trains n_classifiers on bootstrapped training data and returns model paramaters\n",
    "# and training accuracy values\n",
    "def train_classifiers(X_train, Y_train, n_classifiers, epochs, alpha, decoding_dict):\n",
    "    \n",
    "    # create datasets\n",
    "    datasets_X, datasets_Y = get_bootstrapped_datasets(X_train, Y_train, n_classifiers)\n",
    "    \n",
    "    # create list to store model_parameters and training accuracy\n",
    "    model_params_list = []\n",
    "    \n",
    "    for i in range(n_classifiers):\n",
    "        \n",
    "        # train model and get predictions\n",
    "        model_params, __ = train_softmax_regressor_batch(datasets_X[i], datasets_Y[i], alpha, epochs)\n",
    "        \n",
    "        # get prediction on training data\n",
    "        Y_train_pred = get_predictions(datasets_X[i], model_params, decoding_dict)\n",
    "        \n",
    "        # decode labels\n",
    "        Y_train_labels = get_decoded_arr(datasets_Y[i], decoding_dict)\n",
    "        \n",
    "        # append model parameters\n",
    "        model_params_list.append(model_params)\n",
    "        \n",
    "    # return parameters for all models and training accuracy values\n",
    "    return model_params_list\n",
    "\n",
    "\n",
    "# returns final prediction based on n_classifiers as lebels\n",
    "# and overall test accuracy\n",
    "def get_ensemble_prediction(X, Y, model_params_list, n_classifiers, decoding_list):\n",
    "    \n",
    "    n_samples = X.shape[1]\n",
    "    \n",
    "    # initialize lists to store all predictions and test accuracy values\n",
    "    predictions_arr = np.zeros((n_classifiers, n_samples), dtype = object)\n",
    "    \n",
    "    # get decoded arr\n",
    "    Y_labels = get_decoded_arr(Y, decoding_dict)\n",
    "    \n",
    "    # get predictions for all classifiers\n",
    "    for i in range(n_classifiers):\n",
    "        \n",
    "        Y_pred = get_predictions(X, model_params_list[i], decoding_dict)\n",
    "        predictions_arr[i, :] = Y_pred\n",
    "    \n",
    "    # create array to store final prediction\n",
    "    final_predictions = np.zeros((Y_labels.shape), dtype = object)\n",
    "    \n",
    "    # since all classifers get equal voting weight,\n",
    "    # the most frequent class along a column will be the final prediction\n",
    "    for i in range(n_samples):\n",
    "        \n",
    "        predictions_i = predictions_arr[:, i]\n",
    "        \n",
    "        # get count of each label\n",
    "        values, counts = np.unique(predictions_i, return_counts=True)\n",
    "\n",
    "        # index of label with the highest count\n",
    "        mode_idx = np.argmax(counts)\n",
    "\n",
    "        # label with the highest count\n",
    "        mode = values[mode_idx]\n",
    "        \n",
    "        final_predictions[:, i] = mode\n",
    "    \n",
    "    # predictions returned as labels\n",
    "    return final_predictions"
   ]
  },
  {
   "cell_type": "markdown",
   "metadata": {},
   "source": [
    "### 1 b)\n",
    "###  Single Classifier\n",
    "\n",
    "Train single softmax regression classifier on the original train and test data."
   ]
  },
  {
   "cell_type": "code",
   "execution_count": 167,
   "metadata": {},
   "outputs": [],
   "source": [
    "# set epochs and alpha\n",
    "epochs = 1500\n",
    "alpha = 0.001\n",
    "\n",
    "# train model and get predictions\n",
    "model_params, epoch_change_model_params = train_softmax_regressor_batch(X_train, Y_train, alpha, epochs)\n",
    "\n",
    "Y_train_pred = get_predictions(X_train, model_params, decoding_dict)\n",
    "Y_test_pred = get_predictions(X_test, model_params, decoding_dict)"
   ]
  },
  {
   "cell_type": "markdown",
   "metadata": {},
   "source": [
    "#### Get accuracy values for single classifier"
   ]
  },
  {
   "cell_type": "code",
   "execution_count": 168,
   "metadata": {},
   "outputs": [
    {
     "name": "stdout",
     "output_type": "stream",
     "text": [
      "Overall Training accuracy is 0.552.\n",
      "Overall Test accuracy is 0.800.\n"
     ]
    }
   ],
   "source": [
    "# get decoded arrays for Y_train and Y_test\n",
    "Y_train_labels = get_decoded_arr(Y_train, decoding_dict)\n",
    "Y_test_labels = get_decoded_arr(Y_test, decoding_dict)\n",
    "\n",
    "# get accuracy for training and test data\n",
    "train_acc = get_acc(Y_train_pred, Y_train_labels)\n",
    "test_acc = get_acc(Y_test_pred, Y_test_labels)\n",
    "print(f'Overall Training accuracy is {train_acc:.3f}.')\n",
    "print(f'Overall Test accuracy is {test_acc:.3f}.')"
   ]
  },
  {
   "cell_type": "code",
   "execution_count": 169,
   "metadata": {},
   "outputs": [
    {
     "name": "stdout",
     "output_type": "stream",
     "text": [
      "Training class accuracy is:\n",
      "Plastic: 0.935\n",
      "Metal: 0.308\n",
      "Ceramic: 0.212\n",
      "\n",
      "Test class accuracy is:\n",
      "Plastic: 1.000\n",
      "Metal: 0.714\n",
      "Ceramic: 0.000\n"
     ]
    }
   ],
   "source": [
    "train_class_acc = get_class_acc(Y_train_pred, Y_train_labels)\n",
    "test_class_acc = get_class_acc(Y_test_pred, Y_test_labels)\n",
    "\n",
    "print(f'Training class accuracy is:')\n",
    "for k, v in train_class_acc.items():\n",
    "    print(f'{k}: {v:0.3f}')\n",
    "    \n",
    "print(f'\\nTest class accuracy is:')\n",
    "for k, v in test_class_acc.items():\n",
    "    print(f'{k}: {v:0.3f}')"
   ]
  },
  {
   "cell_type": "markdown",
   "metadata": {},
   "source": [
    "### Bagging with 10, 50, 100 classifiers"
   ]
  },
  {
   "cell_type": "markdown",
   "metadata": {},
   "source": [
    "#### 10 Classifiers"
   ]
  },
  {
   "cell_type": "code",
   "execution_count": 170,
   "metadata": {},
   "outputs": [],
   "source": [
    "# create a list to store test accuracy for ensemble classifiers\n",
    "training_acc_emsembles = []\n",
    "test_acc_ensembles = []\n",
    "\n",
    "n_classifiers = 10\n",
    "\n",
    "# train classifiers\n",
    "model_params_list = train_classifiers(X_train, Y_train, n_classifiers, epochs, alpha, decoding_dict)"
   ]
  },
  {
   "cell_type": "code",
   "execution_count": 171,
   "metadata": {},
   "outputs": [],
   "source": [
    "# get ensemble accuracy for training and test data\n",
    "Y_train_pred_ensemble = get_ensemble_prediction(X_train, Y_train, model_params_list, n_classifiers, decoding_dict)\n",
    "Y_test_pred_ensemble = get_ensemble_prediction(X_test, Y_test, model_params_list, n_classifiers, decoding_dict)"
   ]
  },
  {
   "cell_type": "code",
   "execution_count": 172,
   "metadata": {},
   "outputs": [
    {
     "name": "stdout",
     "output_type": "stream",
     "text": [
      "Overall Training accuracy for ensemble classifier(n = 10) is 0.581.\n",
      "Overall Test accuracy for ensemble classifier(n = 10) is 0.600.\n"
     ]
    }
   ],
   "source": [
    "# get accuracy for training and test data\n",
    "train_acc = get_acc(Y_train_pred_ensemble, Y_train_labels)\n",
    "test_acc = get_acc(Y_test_pred_ensemble, Y_test_labels)\n",
    "\n",
    "# append to list\n",
    "training_acc_emsembles.append(train_acc)\n",
    "test_acc_ensembles.append(test_acc)\n",
    "\n",
    "print(f'Overall Training accuracy for ensemble classifier(n = {n_classifiers}) is {train_acc:.3f}uracy for ensemble classifier(n = {n_classifiers}) is {test_acc:.3f}.')"
   ]
  },
  {
   "cell_type": "code",
   "execution_count": 173,
   "metadata": {},
   "outputs": [
    {
     "name": "stdout",
     "output_type": "stream",
     "text": [
      "Training class accuracy for ensemble classifier(n = 10) is:\n",
      "Plastic: 0.957\n",
      "Metal: 0.115\n",
      "Ceramic: 0.424\n",
      "\n",
      "Test class accuracy for ensemble classifier(n = 10) is:\n",
      "Plastic: 1.000\n",
      "Metal: 0.286\n",
      "Ceramic: 0.000\n"
     ]
    }
   ],
   "source": [
    "train_class_acc = get_class_acc(Y_train_pred_ensemble, Y_train_labels)\n",
    "test_class_acc = get_class_acc(Y_test_pred_ensemble, Y_test_labels)\n",
    "\n",
    "print(f'Training class accuracy for ensemble classifier(n = {n_classifiers}) is:')\n",
    "for k, v in train_class_acc.items():\n",
    "    print(f'{k}: {v:0.3f}')\n",
    "    \n",
    "print(f'\\nTest class accuracy for ensemble classifier(n = {n_classifiers}) is:')\n",
    "for k, v in test_class_acc.items():\n",
    "    print(f'{k}: {v:0.3f}')"
   ]
  },
  {
   "cell_type": "markdown",
   "metadata": {},
   "source": [
    "#### 50 classifiers"
   ]
  },
  {
   "cell_type": "code",
   "execution_count": 174,
   "metadata": {},
   "outputs": [],
   "source": [
    "n_classifiers = 50\n",
    "\n",
    "# train classifiers\n",
    "model_params_list = train_classifiers(X_train, Y_train, n_classifiers, epochs, alpha, decoding_dict)"
   ]
  },
  {
   "cell_type": "code",
   "execution_count": 175,
   "metadata": {},
   "outputs": [],
   "source": [
    "# get ensemble accuracy for training and test data\n",
    "Y_train_pred_ensemble = get_ensemble_prediction(X_train, Y_train, model_params_list, n_classifiers, decoding_dict)\n",
    "Y_test_pred_ensemble = get_ensemble_prediction(X_test, Y_test, model_params_list, n_classifiers, decoding_dict)"
   ]
  },
  {
   "cell_type": "code",
   "execution_count": 176,
   "metadata": {},
   "outputs": [
    {
     "name": "stdout",
     "output_type": "stream",
     "text": [
      "Overall Training accuracy for ensemble classifier(n = 50) is 0.524.\n",
      "Overall Test accuracy for ensemble classifier(n = 50) is 0.667.\n"
     ]
    }
   ],
   "source": [
    "# get accuracy for training and test data\n",
    "train_acc = get_acc(Y_train_pred_ensemble, Y_train_labels)\n",
    "test_acc = get_acc(Y_test_pred_ensemble, Y_test_labels)\n",
    "\n",
    "# append to list\n",
    "training_acc_emsembles.append(train_acc)\n",
    "test_acc_ensembles.append(test_acc)\n",
    "\n",
    "print(f'Overall Training accuracy for ensemble classifier(n = {n_classifiers}) is {train_acc:.3f}.')\n",
    "print(f'Overall Test accuracy for ensemble classifier(n = {n_classifiers}) is {test_acc:.3f}.')"
   ]
  },
  {
   "cell_type": "code",
   "execution_count": 177,
   "metadata": {},
   "outputs": [
    {
     "name": "stdout",
     "output_type": "stream",
     "text": [
      "Training class accuracy for ensemble classifier(n = 50) is:\n",
      "Plastic: 0.935\n",
      "Metal: 0.154\n",
      "Ceramic: 0.242\n",
      "\n",
      "Test class accuracy for ensemble classifier(n = 50) is:\n",
      "Plastic: 1.000\n",
      "Metal: 0.429\n",
      "Ceramic: 0.000\n"
     ]
    }
   ],
   "source": [
    "train_class_acc = get_class_acc(Y_train_pred_ensemble, Y_train_labels)\n",
    "test_class_acc = get_class_acc(Y_test_pred_ensemble, Y_test_labels)\n",
    "\n",
    "print(f'Training class accuracy for ensemble classifier(n = {n_classifiers}) is:')\n",
    "for k, v in train_class_acc.items():\n",
    "    print(f'{k}: {v:0.3f}')\n",
    "    \n",
    "print(f'\\nTest class accuracy for ensemble classifier(n = {n_classifiers}) is:')\n",
    "for k, v in test_class_acc.items():\n",
    "    print(f'{k}: {v:0.3f}')"
   ]
  },
  {
   "cell_type": "markdown",
   "metadata": {},
   "source": [
    "#### 100 Classifiers"
   ]
  },
  {
   "cell_type": "code",
   "execution_count": 178,
   "metadata": {},
   "outputs": [],
   "source": [
    "n_classifiers = 100\n",
    "\n",
    "# train classifiers\n",
    "model_params_list = train_classifiers(X_train, Y_train, n_classifiers, epochs, alpha, decoding_dict)"
   ]
  },
  {
   "cell_type": "code",
   "execution_count": 179,
   "metadata": {},
   "outputs": [],
   "source": [
    "# get ensemble accuracy for training and test data\n",
    "Y_train_pred_ensemble = get_ensemble_prediction(X_train, Y_train, model_params_list, n_classifiers, decoding_dict)\n",
    "Y_test_pred_ensemble = get_ensemble_prediction(X_test, Y_test, model_params_list, n_classifiers, decoding_dict)"
   ]
  },
  {
   "cell_type": "code",
   "execution_count": 180,
   "metadata": {},
   "outputs": [
    {
     "name": "stdout",
     "output_type": "stream",
     "text": [
      "Overall Training accuracy for ensemble classifier(n = 100) is 0.514.\n",
      "Overall Test accuracy for ensemble classifier(n = 100) is 0.733.\n"
     ]
    }
   ],
   "source": [
    "# get accuracy for training and test data\n",
    "train_acc = get_acc(Y_train_pred_ensemble, Y_train_labels)\n",
    "test_acc = get_acc(Y_test_pred_ensemble, Y_test_labels)\n",
    "\n",
    "# append to list\n",
    "training_acc_emsembles.append(train_acc)\n",
    "test_acc_ensembles.append(test_acc)\n",
    "\n",
    "print(f'Overall Training accuracy for ensemble classifier(n = {n_classifiers}) is {train_acc:.3f}.')\n",
    "print(f'Overall Test accuracy for ensemble classifier(n = {n_classifiers}) is {test_acc:.3f}.')"
   ]
  },
  {
   "cell_type": "code",
   "execution_count": 181,
   "metadata": {},
   "outputs": [
    {
     "name": "stdout",
     "output_type": "stream",
     "text": [
      "Training class accuracy for ensemble classifier(n = 100) is:\n",
      "Plastic: 0.935\n",
      "Metal: 0.269\n",
      "Ceramic: 0.121\n",
      "\n",
      "Test class accuracy for ensemble classifier(n = 100) is:\n",
      "Plastic: 1.000\n",
      "Metal: 0.571\n",
      "Ceramic: 0.000\n"
     ]
    }
   ],
   "source": [
    "train_class_acc = get_class_acc(Y_train_pred_ensemble, Y_train_labels)\n",
    "test_class_acc = get_class_acc(Y_test_pred_ensemble, Y_test_labels)\n",
    "\n",
    "print(f'Training class accuracy for ensemble classifier(n = {n_classifiers}) is:')\n",
    "for k, v in train_class_acc.items():\n",
    "    print(f'{k}: {v:0.3f}')\n",
    "    \n",
    "print(f'\\nTest class accuracy for ensemble classifier(n = {n_classifiers}) is:')\n",
    "for k, v in test_class_acc.items():\n",
    "    print(f'{k}: {v:0.3f}')"
   ]
  },
  {
   "cell_type": "markdown",
   "metadata": {},
   "source": [
    "### Plot Training and Test Accuracy Values"
   ]
  },
  {
   "cell_type": "code",
   "execution_count": 182,
   "metadata": {},
   "outputs": [
    {
     "data": {
      "image/png": "[encoded data removed]",
      "text/plain": [
       "<Figure size 1000x600 with 1 Axes>"
      ]
     },
     "metadata": {},
     "output_type": "display_data"
    }
   ],
   "source": [
    "n_classifiers_list = [10, 50, 100]\n",
    "\n",
    "# plot training accuracy\n",
    "plot_train_vs_test_acc(training_acc_emsembles, test_acc_ensembles, n_classifiers_list,\n",
    "                       'Training VS Test accuracy for ensemble_classifiers', 'no. of classifiers','accuracy')\n"
   ]
  },
  {
   "cell_type": "markdown",
   "metadata": {},
   "source": [
    "### Conclusion\n",
    "\n",
    "The above graph shows that increasing the number of classifiers in bagging results in an overall increasing in test accuracy. This shows that an overall decrease in variance. Although the training accuracy does not change much for n_classifiers = 10, 50 and 100, there is an overall improvement in test accuracy as we increase the number of classifiers (even more than that of the original model trained on the entire dataset). "
   ]
  },
  {
   "cell_type": "code",
   "execution_count": null,
   "metadata": {},
   "outputs": [],
   "source": []
  }
 ],
 "metadata": {
  "kernelspec": {
   "display_name": "Python 3 (ipykernel)",
   "language": "python",
   "name": "python3"
  },
  "language_info": {
   "codemirror_mode": {
    "name": "ipython",
    "version": 3
   },
   "file_extension": ".py",
   "mimetype": "text/x-python",
   "name": "python",
   "nbconvert_exporter": "python",
   "pygments_lexer": "ipython3",
   "version": "3.10.9"
  }
 },
 "nbformat": 4,
 "nbformat_minor": 4
}
