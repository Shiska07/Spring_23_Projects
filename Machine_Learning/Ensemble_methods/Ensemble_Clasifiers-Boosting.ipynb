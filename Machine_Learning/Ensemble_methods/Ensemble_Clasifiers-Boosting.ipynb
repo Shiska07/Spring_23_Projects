{
 "cells": [
  {
   "cell_type": "code",
   "execution_count": 1,
   "metadata": {},
   "outputs": [],
   "source": [
    "import numpy as np\n",
    "import sys\n",
    "import matplotlib.pyplot as plt\n",
    "%matplotlib inline"
   ]
  },
  {
   "cell_type": "markdown",
   "metadata": {},
   "source": [
    "## Read training/evaluation data\n",
    "\n",
    "**Argument(s):** \n",
    "1) filename: name of a .txt file with each line containing training/evaluation features(x) and label(y) in the following format:\n",
    "((x1, x2, .....xn), y) <br>\n",
    "2) dtype_x : datatype of features <br>\n",
    "3) dtype_y: datatype of label <br>\n",
    "\n",
    "**Return(s):** 'X, Y' where X is a numpy array of feature vectors and Y is the target label vector.\n",
    "Note: Each column in the array(s) epresents a single datapoint."
   ]
  },
  {
   "cell_type": "code",
   "execution_count": 2,
   "metadata": {},
   "outputs": [],
   "source": [
    "def get_X_Y_arrays(filename, dtype_x, dtype_y):\n",
    "    try:\n",
    "        f = open(filename, 'r')\n",
    "    except OSError:\n",
    "        print(f'{filename} could not be opened.\\n')\n",
    "        sys.exit()\n",
    "        \n",
    "    # initialize list to store feature and labels for training data\n",
    "    features = []             \n",
    "    labels = []\n",
    "    \n",
    "    with f:\n",
    "        line = f.readline()\n",
    "        while line != '':\n",
    "            # strip newline and outer parenthesis\n",
    "            line = line.strip('\\n')\n",
    "            line = line.strip('( )')\n",
    "            \n",
    "            # extrace label and append to labels list\n",
    "            single_label = line.split('), ')[-1]\n",
    "            labels.append(single_label)\n",
    "            \n",
    "            # extrace features and append to features list\n",
    "            feat = line.split('), ')[0].split(', ')\n",
    "            features.append(feat)\n",
    "            \n",
    "            # read next line\n",
    "            line = f.readline()\n",
    "        \n",
    "        # create dataframe of features and append labels\n",
    "        X = np.array(features, dtype = dtype_x, ndmin = 2)\n",
    "        \n",
    "        # convert labels list to array\n",
    "        Y = np.array(labels, dtype = dtype_y, ndmin = 2)\n",
    "        \n",
    "        return X.transpose(), Y"
   ]
  },
  {
   "cell_type": "markdown",
   "metadata": {},
   "source": [
    "### Softmax Regression"
   ]
  },
  {
   "cell_type": "markdown",
   "metadata": {},
   "source": [
    "#### Helper Functions"
   ]
  },
  {
   "cell_type": "markdown",
   "metadata": {},
   "source": [
    "#### one_hot_encoder(arr) : return encoded_arr, label_idx_dict\n",
    "**arr:** <br>\n",
    "[['Ceramic' 'Metal' 'Metal' 'Metal' 'Ceramic' 'Plastic' 'Plastic'\n",
    "  'Plastic' 'Plastic' 'Plastic' 'Plastic' 'Ceramic']]<br>  \n",
    "**encoded_arr:** <br>\n",
    "[[0 1 1 1 0 0 0 0 0 0 0 0]<br>\n",
    " [0 0 0 0 0 1 1 1 1 1 1 0]<br>\n",
    " [1 0 0 0 1 0 0 0 0 0 0 1]] <br>\n",
    "**encoding_dict:** <br>\n",
    "{'Metal': 0, 'Plastic': 1, 'Ceramic': 2}<br>\n",
    "**decoding_dict:** <br>\n",
    "{0:'Metal', 1:'Plastic', 2:'Ceramic'}"
   ]
  },
  {
   "cell_type": "code",
   "execution_count": 3,
   "metadata": {},
   "outputs": [],
   "source": [
    "# given an array of attribute values for a categocial attribute,\n",
    "# preforms one-hot-encoding and returns resulting binary array\n",
    "def one_hot_encoder(arr):\n",
    "    \n",
    "    __, n_samples = arr.shape\n",
    "\n",
    "    # get unique labels\n",
    "    uniq_labels = set(arr[0, :].tolist())\n",
    "\n",
    "    # get number of total attribute values\n",
    "    n_labels = len(uniq_labels)\n",
    "\n",
    "    # create an array of size n_labels*n_samples to store encoded values\n",
    "    encoded_arr = np.zeros((n_labels, n_samples), dtype=int)\n",
    "\n",
    "    # create dictionary to store row indev of each attribute value\n",
    "    encoding_dict = {}\n",
    "    for i, v in enumerate(uniq_labels):\n",
    "        encoding_dict[v] = i\n",
    "\n",
    "    # fill encoded_arr using attribute index dictionary and input arr\n",
    "    for i in range(n_samples):\n",
    "        # get index to encode as 1\n",
    "        idx = encoding_dict[arr[0, i]]\n",
    "        encoded_arr[idx, i] = 1\n",
    "\n",
    "    # get inverse of the dictionary\n",
    "    decoding_dict = {v: k for k, v in encoding_dict.items()}\n",
    "\n",
    "    return encoded_arr, encoding_dict, decoding_dict\n",
    "\n",
    "\n",
    "# given a one-hot encoded array and a decoding_dict returns decoded array\n",
    "def get_decoded_arr(arr, decoding_dict):\n",
    "\n",
    "    # get number of samples\n",
    "    n_samples = arr.shape[1]\n",
    "\n",
    "    arr_decoded = np.zeros((1, n_samples), dtype = object)\n",
    "\n",
    "    for i in range(n_samples):\n",
    "        arr_decoded[:, i] = decoding_dict[np.argmax(arr[:, i])]\n",
    "\n",
    "    return arr_decoded\n",
    "\n",
    "\n",
    "# given an array of labels and encoding dict returns encoded array\n",
    "def get_encoded_arr(arr, encoding_dict):\n",
    "\n",
    "    # get number of classes and number of samples\n",
    "    n_class = len(encoding_dict.keys())\n",
    "    n_samples = arr.shape[1]\n",
    "\n",
    "    encoded_arr = np.zeros((n_class, n_samples), dtype = int)\n",
    "\n",
    "    for i in range(n_samples):\n",
    "\n",
    "        idx = encoding_dict[arr[:, i][0]]\n",
    "        encoded_arr[idx, i] = int(1)\n",
    "\n",
    "    return encoded_arr\n",
    "\n",
    "# adds bias as the first row to a dataset\n",
    "def add_bias(X):\n",
    "    \n",
    "    n_feat, n_samples = X.shape\n",
    "    X_b = np.ones((n_feat+1, n_samples), dtype = float)\n",
    "    X_b[1::,:] = X\n",
    "    \n",
    "    return X_b\n",
    "\n",
    "\n",
    "# plots a line graph \n",
    "def plot_train_vs_test_acc(train, test, x, title, xlab, ylab):\n",
    "    \n",
    "    fig = plt.figure(figsize = (10, 6))\n",
    "    plt.plot(x, train, color = 'blue')\n",
    "    plt.plot(x, test, color = 'green')\n",
    "    \n",
    "    # add title and labels\n",
    "    plt.title(title, fontdict = {'fontsize': 14})\n",
    "    plt.xlabel(xlab, fontdict = {'fontsize': 12})\n",
    "    plt.ylabel(ylab, fontdict = {'fontsize': 12})\n",
    "    plt.xlim(0, max(x) + 5)\n",
    "    plt.legend(['training acc', 'test acc'])\n",
    "    plt.grid()\n",
    "\n",
    "    \n",
    "# compares two arrays and returns class accuracy\n",
    "# Y_pred.shape == Y.shape = ndim, n_samples \n",
    "# Y_pred.dtype = Y.dtype + string object\n",
    "def get_class_acc(Y_pred, Y):\n",
    "    \n",
    "    # create a dict to store class accuracy\n",
    "    class_acc = {}\n",
    "    \n",
    "    # get all unique classes\n",
    "    classes = set(Y[0,:].tolist())\n",
    "    \n",
    "    # get number of samples\n",
    "    n_samples = Y_pred.shape[1]\n",
    "    \n",
    "    # calculate total occurence and accurate predictions for each class\n",
    "    for c in classes:\n",
    "        \n",
    "        total = 0\n",
    "        acc_vals = 0\n",
    "        \n",
    "        for i in range(n_samples):\n",
    "            if Y[:,i] == c:\n",
    "                total = total + 1\n",
    "                if Y[:,i] == Y_pred[:,i]:\n",
    "                    acc_vals = acc_vals + 1\n",
    "                \n",
    "        class_acc[c] = acc_vals/total\n",
    "        \n",
    "    return class_acc\n",
    "\n",
    "\n",
    "# compares two arrays and returns overall accuracy\n",
    "# Y_pred.shape == Y.shape = ndim, n_samples \n",
    "# Y_pred.dtype = Y.dtype + string object\n",
    "def get_acc(Y_pred, Y):\n",
    "    \n",
    "    n_samples = Y_pred.shape[1]\n",
    "    \n",
    "    # reutrn overall accuracy\n",
    "    return (np.sum(Y == Y_pred))/n_samples\n"
   ]
  },
  {
   "cell_type": "markdown",
   "metadata": {},
   "source": [
    "### Functions for Training and Prediction"
   ]
  },
  {
   "cell_type": "code",
   "execution_count": 4,
   "metadata": {},
   "outputs": [],
   "source": [
    "# given a vector of parobaility values, returns label with max probability for a single sample\n",
    "def get_sample_prediction_label(sfmax_net, decoding_dict):\n",
    "    \n",
    "    # return label with max probability value\n",
    "    return decoding_dict[int(np.argmax(sfmax_net, axis = 0))]\n",
    "\n",
    "\n",
    "# uses softmax function and parameter matrix to get probability values\n",
    "# for multiclass classification\n",
    "def get_sample_prediction_values(x_sample, model_params):\n",
    "    \n",
    "    # calculate linear net value\n",
    "    net = np.dot(model_params, x_sample)\n",
    "    \n",
    "    # calculate exponential value for rach class\n",
    "    exp_net = np.exp(net, dtype = float)\n",
    "    \n",
    "    # calculate softmax value for each class\n",
    "    sfmax_net = exp_net/np.sum(exp_net, axis = 0, dtype = float)\n",
    "    \n",
    "    return sfmax_net\n",
    "\n",
    "\n",
    "# gets predictions for an entire test dataset\n",
    "# returns predictions as labels\n",
    "def get_predictions(X_test, model_params, decoding_dict):\n",
    "\n",
    "    # initialize list to store predictions\n",
    "    Y_pred = []\n",
    "\n",
    "    # get number of test samples\n",
    "    n_feat, n_samples = X_test.shape\n",
    "\n",
    "    for i in range(n_samples):\n",
    "    \n",
    "        x_sample = X_test[:,i].reshape(n_feat, 1)\n",
    "        y_pred_values = get_sample_prediction_values(X_test[:,i], model_params)\n",
    "        y_pred_label = get_sample_prediction_label(y_pred_values, decoding_dict)\n",
    "        Y_pred.append(y_pred_label)\n",
    "\n",
    "    # convert labels list to numpy array\n",
    "    Y_pred = np.array(Y_pred, dtype = str, ndmin = 2)\n",
    "\n",
    "    return Y_pred  \n",
    "\n",
    "\n",
    "# training with batch gradient descent\n",
    "def train_softmax_regressor_batch(X_train, Y_train, weights_arr, alpha, epochs):\n",
    "    # get number of features and samples\n",
    "    n_feat, n_samples = X_train.shape\n",
    "\n",
    "    # get no of classes/labelsexit\n",
    "    n_class, __ = Y_train.shape\n",
    "\n",
    "    # get paramater matrix\n",
    "    model_params = np.random.uniform(-0.01, 0.01, size=(n_class, n_feat))\n",
    "\n",
    "    # initialize list to store net change in parameter values\n",
    "    epoch_change_model_params = []\n",
    "\n",
    "    for i in range(epochs):\n",
    "\n",
    "        # initialize gradient vector for each epoch\n",
    "        gradient_mtx = np.zeros((n_class, n_feat), dtype=float)\n",
    "\n",
    "        for j in range(n_samples):\n",
    "            # pick a sample\n",
    "            x_sample = X_train[:, j].reshape(n_feat, 1)\n",
    "            y_sample = Y_train[:, j].reshape(n_class, 1)\n",
    "\n",
    "            # get prediction value\n",
    "            y_pred = get_sample_prediction_values(x_sample, model_params)\n",
    "\n",
    "            # calculate gradient matrix\n",
    "            sample_gradient = (weights_arr[:, j][0]) * np.dot((y_sample - y_pred), x_sample.transpose())\n",
    "\n",
    "            # sample_gradient = np.dot((y_sample - y_pred), x_sample.transpose())\n",
    "            gradient_mtx = gradient_mtx + sample_gradient\n",
    "\n",
    "        # adjust parameter values using batch gradient descent\n",
    "        updated_params = model_params + (alpha * gradient_mtx)\n",
    "\n",
    "        # get the net change in parameters\n",
    "        net_change = np.sum(np.abs(model_params - updated_params))\n",
    "        epoch_change_model_params.append(net_change)\n",
    "\n",
    "        # set updated parameters as new parameters\n",
    "        model_params = updated_params.copy()\n",
    "\n",
    "    # return final parameter matrix\n",
    "    return model_params, epoch_change_model_params"
   ]
  },
  {
   "cell_type": "markdown",
   "metadata": {},
   "source": [
    "### Provide Filename:\n",
    "1) Training/evaluation file: name of a .txt file with each line containing training/evaluation features(x) and label(y) in the following format:\n",
    "((x1, x2, .....xn), y)"
   ]
  },
  {
   "cell_type": "code",
   "execution_count": 5,
   "metadata": {},
   "outputs": [],
   "source": [
    "fname = 'data.txt'\n",
    "\n",
    "X, Y = get_X_Y_arrays(fname, float, str)"
   ]
  },
  {
   "cell_type": "markdown",
   "metadata": {},
   "source": [
    "### Plot class distribution of training data provided in assignment"
   ]
  },
  {
   "cell_type": "code",
   "execution_count": 6,
   "metadata": {},
   "outputs": [
    {
     "data": {
      "image/png": "[encoded data removed]",
      "text/plain": [
       "<Figure size 600x400 with 1 Axes>"
      ]
     },
     "metadata": {},
     "output_type": "display_data"
    }
   ],
   "source": [
    "plt.figure(figsize = (6, 4))\n",
    "plt.title(f'Class label distribution for \"{fname}\"')\n",
    "plt.ylabel('No. of datapoints')\n",
    "plt.hist(Y.squeeze())\n",
    "plt.grid()"
   ]
  },
  {
   "cell_type": "code",
   "execution_count": 7,
   "metadata": {},
   "outputs": [],
   "source": [
    "# add bias to X training data\n",
    "X_b = add_bias(X)\n",
    "\n",
    "# get encoded values for Y_train\n",
    "Y_encoded, encoding_dict, decoding_dict = one_hot_encoder(Y)"
   ]
  },
  {
   "cell_type": "markdown",
   "metadata": {},
   "source": [
    "### Split data into training and test set"
   ]
  },
  {
   "cell_type": "code",
   "execution_count": 8,
   "metadata": {},
   "outputs": [],
   "source": [
    "def split_data(X, Y, n_test_samples):\n",
    "\n",
    "    X_test = X[:, 0:n_test_samples]\n",
    "    Y_test = Y[:, 0:n_test_samples]\n",
    "\n",
    "    X_train = np.delete(X, np.s_[0:n_test_samples], axis = 1)\n",
    "    Y_train = np.delete(Y, np.s_[0:n_test_samples], axis = 1)\n",
    "\n",
    "    return X_train, Y_train, X_test, Y_test"
   ]
  },
  {
   "cell_type": "code",
   "execution_count": 9,
   "metadata": {},
   "outputs": [],
   "source": [
    "# split data into training and test set\n",
    "X_train, Y_train, X_test, Y_test = split_data(X_b, Y_encoded, 15)"
   ]
  },
  {
   "cell_type": "markdown",
   "metadata": {},
   "source": [
    "### 2) a\n",
    "### Boosting"
   ]
  },
  {
   "cell_type": "code",
   "execution_count": 15,
   "metadata": {},
   "outputs": [],
   "source": [
    "# calculates new sample weights from old weight values\n",
    "# Y_pred and Y_true are ont-hot-encoded, alpha is the previous model's weight\n",
    "def get_data_weights(weights_arr, Y_pred_encoded, Y_train_encoded, alpha):\n",
    "    # get labels\n",
    "    Y_pred_labels = get_decoded_arr(Y_pred_encoded, decoding_dict)\n",
    "    Y_train_labels = get_decoded_arr(Y_train_encoded, decoding_dict)\n",
    "\n",
    "    truth_vals = (Y_pred_labels == Y_train_labels).astype(int)\n",
    "\n",
    "    for i in range(truth_vals.shape[1]):\n",
    "        # set value = -1 everywhere where predictions don't match\n",
    "        if truth_vals[:, i] == 0:\n",
    "            truth_vals[:, i] = int(-1)\n",
    "\n",
    "    new_weights = weights_arr * np.exp(-alpha * truth_vals)\n",
    "\n",
    "    return new_weights\n",
    "\n",
    "\n",
    "# calculates weight of the model acoording to accuracy\n",
    "def get_model_weight(error, n_classes):\n",
    "    # compute weight\n",
    "    model_weight = 0.5 * np.log(2*(1 - error) / error)\n",
    "\n",
    "    return model_weight\n",
    "\n",
    "\n",
    "def get_weighted_error(Y_pred_encoded, Y_train_encoded, weights_arr, decoding_dict):\n",
    "    \n",
    "    # get labels\n",
    "    Y_pred_labels = get_decoded_arr(Y_pred_encoded, decoding_dict)\n",
    "    Y_train_labels = get_decoded_arr(Y_train_encoded, decoding_dict)\n",
    "\n",
    "    error = np.sum(weights_arr * (Y_pred_labels != Y_train_labels), axis=1) / np.sum(weights_arr, axis=1)\n",
    "\n",
    "    return error[0]\n",
    "\n",
    "\n",
    "def get_null_error(Y_train, n_classes, n_samples, decoding_dict):\n",
    "    # get labels\n",
    "    Y_train_labels = get_decoded_arr(Y_train, decoding_dict)\n",
    "\n",
    "    # get count of each label\n",
    "    value, counts = np.unique(Y_train_labels, return_counts=True)\n",
    "\n",
    "    # get max count value\n",
    "    max_count = max(counts)\n",
    "\n",
    "    # percent of data belonging to biggest class\n",
    "    null_acc = max_count / n_samples\n",
    "\n",
    "    # null error = 1 - null_acc\n",
    "    return 1 - null_acc\n",
    "\n",
    "\n",
    "# applying boosting and returns final model parameters and weights for all classifiers\n",
    "def apply_boosting(X_train, Y_train, n_classifiers, epochs, alpha, decoding_dict, encoding_dict):\n",
    "    # get number of samples and classes\n",
    "    n_samples = X_train.shape[1]\n",
    "    n_classes = len(decoding_dict.keys())\n",
    "\n",
    "    # initialize array to store weights for each data item\n",
    "    weights_arr = np.ones((1, n_samples), dtype=float) * (1 / n_samples)\n",
    "\n",
    "    # initialize list to store model params and vote_weight\n",
    "    model_params_list = []\n",
    "    model_weights_list = []\n",
    "\n",
    "    # get null error value\n",
    "    null_err = get_null_error(Y_train, n_classes, n_samples, decoding_dict)\n",
    "\n",
    "    for i in range(n_classifiers):\n",
    "\n",
    "        # train model and get predictions\n",
    "        model_params, __ = train_softmax_regressor_batch(X_train, Y_train, weights_arr, alpha, epochs)\n",
    "\n",
    "        # get prediction on training data\n",
    "        Y_pred_labels = get_predictions(X_train, model_params, decoding_dict)\n",
    "        Y_train_labels = get_decoded_arr(Y_train, decoding_dict)\n",
    "\n",
    "        # get encoded predictions\n",
    "        Y_pred_encoded = get_encoded_arr(Y_pred_labels, encoding_dict)\n",
    "\n",
    "        # get weighted error\n",
    "        error = get_weighted_error(Y_pred_encoded, Y_train, weights_arr, decoding_dict)\n",
    "\n",
    "        # if the model does better than random\n",
    "        if error < null_err:\n",
    "\n",
    "            # add parameters to list\n",
    "            model_params_list.append(model_params)\n",
    "\n",
    "            # calculate and save model weight\n",
    "            model_weight = get_model_weight(error, n_classes)\n",
    "            model_weights_list.append(model_weight)\n",
    "\n",
    "            # calculate datapoint weights for next classifier\n",
    "            weights_arr = get_data_weights(weights_arr, Y_pred_encoded, Y_train, model_weight)\n",
    "\n",
    "    model_weights_arr = np.array(model_weights_list, dtype=float, ndmin=2)\n",
    "\n",
    "    return model_params_list, model_weights_arr\n",
    "\n",
    "\n",
    "# returns prediction on test data according to model weights\n",
    "def get_ensemble_prediction(X_test, model_params_list, model_weights_arr, decoding_dict, encoding_dict):\n",
    "\n",
    "    # get number of classifiers, samples and classes\n",
    "    n_classifiers = len(model_params_list)\n",
    "    n_samples = X_test.shape[1]\n",
    "    n_classes = len(decoding_dict.keys())\n",
    "\n",
    "    # create a list to store predictions for all classifiers\n",
    "    predictions_list = []\n",
    "\n",
    "    # create array to store weighted prediction from all classifiers\n",
    "    class_pred_wts = np.zeros((n_classes, n_samples), dtype=float)\n",
    "\n",
    "    # get predictions for each classifier\n",
    "    for i in range(n_classifiers):\n",
    "        \n",
    "        # get labels and convert to one-hot\n",
    "        Y_pred_labels = get_predictions(X_test, model_params_list[i], decoding_dict)\n",
    "        Y_pred_encoded = get_encoded_arr(Y_pred_labels, encoding_dict)\n",
    "\n",
    "        predictions_list.append(Y_pred_encoded)\n",
    "\n",
    "    # create array of n_samples for column sclicing\n",
    "    idx_columns = np.arange(0, n_samples)\n",
    "\n",
    "    # calculate weighted vote for each prediction\n",
    "    for i in range(n_classifiers):\n",
    "        # class indices of predicted values\n",
    "        idx_pred_class = np.argmax(predictions_list[i], axis = 0)\n",
    "\n",
    "        # add weight to label indices that were predicted\n",
    "        class_pred_wts[idx_pred_class, idx_columns] = class_pred_wts[idx_pred_class, idx_columns] \\\n",
    "                                                      + model_weights_arr[:, i]\n",
    "\n",
    "    # final predcition is index with the highest weight along rows\n",
    "    final_predictions = np.argmax(class_pred_wts, axis = 0)\n",
    "\n",
    "    # get final labels\n",
    "    final_labels = np.zeros((1, n_samples), dtype = object)\n",
    "\n",
    "    for i in range(n_samples):\n",
    "        final_labels[:, i] = decoding_dict[final_predictions[i]]\n",
    "\n",
    "    return final_labels"
   ]
  },
  {
   "cell_type": "markdown",
   "metadata": {},
   "source": [
    "### Single classifier"
   ]
  },
  {
   "cell_type": "code",
   "execution_count": 11,
   "metadata": {},
   "outputs": [],
   "source": [
    "epochs = 2500\n",
    "alpha = 0.1\n",
    "n_classifiers = 1\n",
    "\n",
    "# create a list to store test accuracy for classifiers\n",
    "train_acc_list = []\n",
    "test_acc_list = []\n",
    "\n",
    "model_params_list, __ = apply_boosting(X_train, Y_train, n_classifiers, epochs, alpha, decoding_dict, encoding_dict)\n",
    "\n",
    "Y_train_pred = get_predictions(X_train, model_params_list[0], decoding_dict)\n",
    "Y_test_pred = get_predictions(X_test, model_params_list[0], decoding_dict)"
   ]
  },
  {
   "cell_type": "markdown",
   "metadata": {},
   "source": [
    "#### Get accuracy values for single classifier"
   ]
  },
  {
   "cell_type": "code",
   "execution_count": 12,
   "metadata": {},
   "outputs": [
    {
     "name": "stdout",
     "output_type": "stream",
     "text": [
      "Overall Training accuracy for single classifier is 0.619.\n",
      "Overall Test accuracy for single classifier is 0.800.\n"
     ]
    }
   ],
   "source": [
    "# get decoded arrays for Y_train and Y_test\n",
    "Y_train_labels = get_decoded_arr(Y_train, decoding_dict)\n",
    "Y_test_labels = get_decoded_arr(Y_test, decoding_dict)\n",
    "\n",
    "# get accuracy for training and test data\n",
    "train_acc = get_acc(Y_train_pred, Y_train_labels)\n",
    "test_acc = get_acc(Y_test_pred, Y_test_labels)\n",
    "\n",
    "train_acc_list.append(train_acc)\n",
    "test_acc_list.append(test_acc)\n",
    "\n",
    "print(f'Overall Training accuracy for single classifier is {train_acc:.3f}.')\n",
    "print(f'Overall Test accuracy for single classifier is {test_acc:.3f}.')"
   ]
  },
  {
   "cell_type": "code",
   "execution_count": 13,
   "metadata": {},
   "outputs": [
    {
     "name": "stdout",
     "output_type": "stream",
     "text": [
      "Training class accuracy for single classifier(n = 1) is:\n",
      "Ceramic: 0.424\n",
      "Metal: 0.346\n",
      "Plastic: 0.913\n",
      "\n",
      "Test class accuracy for single classifier(n = 1) is:\n",
      "Ceramic: 0.000\n",
      "Metal: 0.714\n",
      "Plastic: 1.000\n"
     ]
    }
   ],
   "source": [
    "train_class_acc = get_class_acc(Y_train_pred, Y_train_labels)\n",
    "test_class_acc = get_class_acc(Y_test_pred, Y_test_labels)\n",
    "\n",
    "print(f'Training class accuracy for single classifier(n = {n_classifiers}) is:')\n",
    "for k, v in train_class_acc.items():\n",
    "    print(f'{k}: {v:0.3f}')\n",
    "    \n",
    "print(f'\\nTest class accuracy for single classifier(n = {n_classifiers}) is:')\n",
    "for k, v in test_class_acc.items():\n",
    "    print(f'{k}: {v:0.3f}')"
   ]
  },
  {
   "cell_type": "markdown",
   "metadata": {},
   "source": [
    "### Boosting with 10, 50, 100 classifiers"
   ]
  },
  {
   "cell_type": "markdown",
   "metadata": {},
   "source": [
    "#### 10 Classifiers"
   ]
  },
  {
   "cell_type": "code",
   "execution_count": 16,
   "metadata": {},
   "outputs": [],
   "source": [
    "n_classifiers = 10\n",
    "\n",
    "model_params_list, model_weights_arr = apply_boosting(X_train, Y_train, n_classifiers, epochs,\n",
    "                                                        alpha, decoding_dict, encoding_dict)\n",
    "\n",
    "Y_train_pred = get_ensemble_prediction(X_train, model_params_list, model_weights_arr, decoding_dict, encoding_dict)\n",
    "Y_test_pred = get_ensemble_prediction(X_test, model_params_list, model_weights_arr, decoding_dict, encoding_dict)"
   ]
  },
  {
   "cell_type": "code",
   "execution_count": 19,
   "metadata": {},
   "outputs": [
    {
     "name": "stdout",
     "output_type": "stream",
     "text": [
      "Overall Training accuracy for ensemble classifier(n = 10) is 0.781.\n",
      "Overall Test accuracy for ensemble classifier(n = 10) is 0.933.\n"
     ]
    }
   ],
   "source": [
    "# get accuracy for training and test data\n",
    "train_acc = get_acc(Y_train_pred, Y_train_labels)\n",
    "test_acc = get_acc(Y_test_pred, Y_test_labels)\n",
    "\n",
    "train_acc_list.append(train_acc)\n",
    "test_acc_list.append(test_acc)\n",
    "\n",
    "print(f'Overall Training accuracy for ensemble classifier(n = {n_classifiers}) is {train_acc:.3f}.')\n",
    "print(f'Overall Test accuracy for ensemble classifier(n = {n_classifiers}) is {test_acc:.3f}.')"
   ]
  },
  {
   "cell_type": "code",
   "execution_count": 20,
   "metadata": {},
   "outputs": [
    {
     "name": "stdout",
     "output_type": "stream",
     "text": [
      "Training class accuracy for ensemble classifier(n = 10) is:\n",
      "Ceramic: 0.788\n",
      "Metal: 0.654\n",
      "Plastic: 0.848\n",
      "\n",
      "Test class accuracy for ensemble classifier(n = 10) is:\n",
      "Ceramic: 1.000\n",
      "Metal: 1.000\n",
      "Plastic: 0.857\n"
     ]
    }
   ],
   "source": [
    "train_class_acc = get_class_acc(Y_train_pred, Y_train_labels)\n",
    "test_class_acc = get_class_acc(Y_test_pred, Y_test_labels)\n",
    "\n",
    "print(f'Training class accuracy for ensemble classifier(n = {n_classifiers}) is:')\n",
    "for k, v in train_class_acc.items():\n",
    "    print(f'{k}: {v:0.3f}')\n",
    "    \n",
    "print(f'\\nTest class accuracy for ensemble classifier(n = {n_classifiers}) is:')\n",
    "for k, v in test_class_acc.items():\n",
    "    print(f'{k}: {v:0.3f}')"
   ]
  },
  {
   "cell_type": "code",
   "execution_count": 22,
   "metadata": {},
   "outputs": [
    {
     "data": {
      "text/plain": [
       "array([[0.5893275 , 0.37735254, 0.27048405, 0.55740319, 0.35873308,\n",
       "        0.41012506, 0.29999476, 0.33464764, 0.22660786, 0.62305972]])"
      ]
     },
     "execution_count": 22,
     "metadata": {},
     "output_type": "execute_result"
    }
   ],
   "source": [
    "# check weights for models\n",
    "model_weights_arr"
   ]
  },
  {
   "cell_type": "markdown",
   "metadata": {},
   "source": [
    "#### 25 classifiers"
   ]
  },
  {
   "cell_type": "code",
   "execution_count": 23,
   "metadata": {},
   "outputs": [],
   "source": [
    "n_classifiers = 25\n",
    "\n",
    "model_params_list, model_weights_arr = apply_boosting(X_train, Y_train, n_classifiers, epochs,\n",
    "                                                        alpha, decoding_dict, encoding_dict)\n",
    "\n",
    "Y_train_pred = get_ensemble_prediction(X_train, model_params_list, model_weights_arr, decoding_dict, encoding_dict)\n",
    "Y_test_pred = get_ensemble_prediction(X_test, model_params_list, model_weights_arr, decoding_dict, encoding_dict)"
   ]
  },
  {
   "cell_type": "code",
   "execution_count": 24,
   "metadata": {},
   "outputs": [
    {
     "name": "stdout",
     "output_type": "stream",
     "text": [
      "Overall Training accuracy for ensemble classifier(n = 25) is 0.848.\n",
      "Overall Test accuracy for ensemble classifier(n = 25) is 0.867.\n"
     ]
    }
   ],
   "source": [
    "# get accuracy for training and test data\n",
    "train_acc = get_acc(Y_train_pred, Y_train_labels)\n",
    "test_acc = get_acc(Y_test_pred, Y_test_labels)\n",
    "\n",
    "train_acc_list.append(train_acc)\n",
    "test_acc_list.append(test_acc)\n",
    "\n",
    "print(f'Overall Training accuracy for ensemble classifier(n = {n_classifiers}) is {train_acc:.3f}.')\n",
    "print(f'Overall Test accuracy for ensemble classifier(n = {n_classifiers}) is {test_acc:.3f}.')"
   ]
  },
  {
   "cell_type": "code",
   "execution_count": 25,
   "metadata": {},
   "outputs": [
    {
     "name": "stdout",
     "output_type": "stream",
     "text": [
      "Training class accuracy for ensemble classifier(n = 25) is:\n",
      "Ceramic: 0.818\n",
      "Metal: 0.885\n",
      "Plastic: 0.848\n",
      "\n",
      "Test class accuracy for ensemble classifier(n = 25) is:\n",
      "Ceramic: 0.000\n",
      "Metal: 1.000\n",
      "Plastic: 0.857\n"
     ]
    }
   ],
   "source": [
    "train_class_acc = get_class_acc(Y_train_pred, Y_train_labels)\n",
    "test_class_acc = get_class_acc(Y_test_pred, Y_test_labels)\n",
    "\n",
    "print(f'Training class accuracy for ensemble classifier(n = {n_classifiers}) is:')\n",
    "for k, v in train_class_acc.items():\n",
    "    print(f'{k}: {v:0.3f}')\n",
    "    \n",
    "print(f'\\nTest class accuracy for ensemble classifier(n = {n_classifiers}) is:')\n",
    "for k, v in test_class_acc.items():\n",
    "    print(f'{k}: {v:0.3f}')"
   ]
  },
  {
   "cell_type": "code",
   "execution_count": 27,
   "metadata": {},
   "outputs": [
    {
     "data": {
      "text/plain": [
       "array([[0.5893275 , 0.37735254, 0.27048405, 0.55740319, 0.35873308,\n",
       "        0.41012506, 0.29999476, 0.33464764, 0.22660786, 0.62305972,\n",
       "        0.47599997, 0.46782146, 0.29407581, 0.71354652, 0.69314718,\n",
       "        0.69314718, 0.69314718, 0.69314718, 0.69314718, 0.69314718,\n",
       "        0.69314718, 0.69314718, 0.71550637, 0.58022241, 0.52287953]])"
      ]
     },
     "execution_count": 27,
     "metadata": {},
     "output_type": "execute_result"
    }
   ],
   "source": [
    "# check weights for models\n",
    "model_weights_arr"
   ]
  },
  {
   "cell_type": "markdown",
   "metadata": {},
   "source": [
    "#### 100 Classifiers"
   ]
  },
  {
   "cell_type": "code",
   "execution_count": 28,
   "metadata": {},
   "outputs": [],
   "source": [
    "n_classifiers = 100\n",
    "\n",
    "model_params_list, model_weights_arr = apply_boosting(X_train, Y_train, n_classifiers, epochs,\n",
    "                                                        alpha, decoding_dict, encoding_dict)\n",
    "\n",
    "Y_train_pred = get_ensemble_prediction(X_train, model_params_list, model_weights_arr, decoding_dict, encoding_dict)\n",
    "Y_test_pred = get_ensemble_prediction(X_test, model_params_list, model_weights_arr, decoding_dict, encoding_dict)"
   ]
  },
  {
   "cell_type": "code",
   "execution_count": 29,
   "metadata": {},
   "outputs": [
    {
     "name": "stdout",
     "output_type": "stream",
     "text": [
      "Overall Training accuracy for ensemble classifier(n = 100) is 0.857.\n",
      "Overall Test accuracy for ensemble classifier(n = 100) is 1.000.\n"
     ]
    }
   ],
   "source": [
    "# get accuracy for training and test data\n",
    "train_acc = get_acc(Y_train_pred, Y_train_labels)\n",
    "test_acc = get_acc(Y_test_pred, Y_test_labels)\n",
    "\n",
    "train_acc_list.append(train_acc)\n",
    "test_acc_list.append(test_acc)\n",
    "\n",
    "print(f'Overall Training accuracy for ensemble classifier(n = {n_classifiers}) is {train_acc:.3f}.')\n",
    "print(f'Overall Test accuracy for ensemble classifier(n = {n_classifiers}) is {test_acc:.3f}.')"
   ]
  },
  {
   "cell_type": "code",
   "execution_count": 30,
   "metadata": {},
   "outputs": [
    {
     "name": "stdout",
     "output_type": "stream",
     "text": [
      "Training class accuracy for ensemble classifier(n = 100) is:\n",
      "Ceramic: 0.758\n",
      "Metal: 0.808\n",
      "Plastic: 0.957\n",
      "\n",
      "Test class accuracy for ensemble classifier(n = 100) is:\n",
      "Ceramic: 1.000\n",
      "Metal: 1.000\n",
      "Plastic: 1.000\n"
     ]
    }
   ],
   "source": [
    "train_class_acc = get_class_acc(Y_train_pred, Y_train_labels)\n",
    "test_class_acc = get_class_acc(Y_test_pred, Y_test_labels)\n",
    "\n",
    "print(f'Training class accuracy for ensemble classifier(n = {n_classifiers}) is:')\n",
    "for k, v in train_class_acc.items():\n",
    "    print(f'{k}: {v:0.3f}')\n",
    "    \n",
    "print(f'\\nTest class accuracy for ensemble classifier(n = {n_classifiers}) is:')\n",
    "for k, v in test_class_acc.items():\n",
    "    print(f'{k}: {v:0.3f}')"
   ]
  },
  {
   "cell_type": "code",
   "execution_count": 31,
   "metadata": {},
   "outputs": [
    {
     "data": {
      "text/plain": [
       "20"
      ]
     },
     "execution_count": 31,
     "metadata": {},
     "output_type": "execute_result"
    }
   ],
   "source": [
    "len(model_params_list)"
   ]
  },
  {
   "cell_type": "code",
   "execution_count": 32,
   "metadata": {},
   "outputs": [
    {
     "data": {
      "text/plain": [
       "array([[0.5893275 , 0.37735254, 0.27048405, 0.55740319, 0.35873308,\n",
       "        0.41012506, 0.29999476, 0.33464764, 0.22660786, 0.62305972,\n",
       "        0.46587404, 0.47327543, 0.30376595, 0.62584264, 0.64560494,\n",
       "        0.78870468, 0.65125511, 0.42818586, 0.55442119, 0.30399447]])"
      ]
     },
     "execution_count": 32,
     "metadata": {},
     "output_type": "execute_result"
    }
   ],
   "source": [
    "# check weights for models\n",
    "model_weights_arr"
   ]
  },
  {
   "cell_type": "markdown",
   "metadata": {},
   "source": [
    "### Plot Training and Test Accuracy Values"
   ]
  },
  {
   "cell_type": "code",
   "execution_count": 33,
   "metadata": {},
   "outputs": [
    {
     "data": {
      "image/png": "[encoded data removed]",
      "text/plain": [
       "<Figure size 1000x600 with 1 Axes>"
      ]
     },
     "metadata": {},
     "output_type": "display_data"
    }
   ],
   "source": [
    "n_classifiers_list = [1, 10, 25, 100]\n",
    "\n",
    "# plot training accuracy\n",
    "plot_train_vs_test_acc(train_acc_list, test_acc_list, n_classifiers_list,\n",
    "                       'Training VS Test accuracy for ensemble boosting', 'no. of classifiers','accuracy')\n"
   ]
  },
  {
   "cell_type": "markdown",
   "metadata": {},
   "source": [
    "### Conclusion\n"
   ]
  },
  {
   "cell_type": "markdown",
   "metadata": {},
   "source": [
    "Overall Training accuracy for single classifier is 0.619.<br>\n",
    "Overall Test accuracy for single classifier is 0.800.<br>\n",
    "\n",
    "Overall Training accuracy for ensemble classifier(n = 10) is 0.781.<br>\n",
    "Overall Test accuracy for ensemble classifier(n = 10) is 0.933.<br>\n",
    "\n",
    "Overall Training accuracy for ensemble classifier(n = 25) is 0.848.<br>\n",
    "Overall Test accuracy for ensemble classifier(n = 25) is 0.867.<br>\n",
    "\n",
    "Overall Training accuracy for ensemble classifier(n = 100) is 0.857.<br>\n",
    "Overall Test accuracy for ensemble classifier(n = 100) is 1.000.<br>\n",
    "\n",
    "The above plot shows that test accuracy for ensemble models is greater than that of a single classifier. Athough ensemble models with more number of classifiers are expected to have a lower bias, that may not always be the case for a small dataset like the one used in the project.<br>\n",
    "\n",
    "In addition, displaying the model weights for different ensemble classifiers showed that only 20 models were actually obtained for n = 100 classifiers. This means that the error for the 21st classifier was greater than the null error for the dataset and the algorithm did not proceed with generating additional classifiers. This could also be a result of the dataset being too small.<br>\n",
    "\n",
    "Although boosting primarily focuses on lowering bias, the improvement on training as well as test accuracy for ensemble models  shows a possible improvement in both bias and variance. Although softmax regression is only capable of achieving a good classification performace on data that is linearly separable, boosting results in an overall increase in class accuracy which suggests change in the final hypothesis space resulting in a lower bias."
   ]
  },
  {
   "cell_type": "code",
   "execution_count": null,
   "metadata": {},
   "outputs": [],
   "source": []
  }
 ],
 "metadata": {
  "kernelspec": {
   "display_name": "Python 3 (ipykernel)",
   "language": "python",
   "name": "python3"
  },
  "language_info": {
   "codemirror_mode": {
    "name": "ipython",
    "version": 3
   },
   "file_extension": ".py",
   "mimetype": "text/x-python",
   "name": "python",
   "nbconvert_exporter": "python",
   "pygments_lexer": "ipython3",
   "version": "3.10.9"
  }
 },
 "nbformat": 4,
 "nbformat_minor": 4
}
