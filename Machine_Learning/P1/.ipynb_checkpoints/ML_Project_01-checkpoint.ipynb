{
 "cells": [
  {
   "cell_type": "markdown",
   "metadata": {},
   "source": [
    "Name: Shiska Raut <br>\n",
    "ID: 1001526329"
   ]
  },
  {
   "cell_type": "code",
   "execution_count": 23,
   "metadata": {},
   "outputs": [],
   "source": [
    "import numpy as np\n",
    "import sys\n",
    "import matplotlib.pyplot as plt\n",
    "%matplotlib inline"
   ]
  },
  {
   "cell_type": "markdown",
   "metadata": {},
   "source": [
    "## Read training/evaluation data\n",
    "\n",
    "**Argument(s):** \n",
    "1) filename: name of a .txt file with each line containing training/evaluation features(x) and label(y) in the following format:\n",
    "((x1, x2, .....xn), y) <br>\n",
    "2) dtype_x : datatype of features <br>\n",
    "3) dtype_y: datatype of label <br>\n",
    "\n",
    "**Return(s):** 'X, Y' where X is a numpy array of feature vectors and Y is the target label vector.\n",
    "Note: Each column in the array(s) epresents a single datapoint."
   ]
  },
  {
   "cell_type": "code",
   "execution_count": 24,
   "metadata": {},
   "outputs": [],
   "source": [
    "def get_X_Y_arrays(filename, dtype_x, dtype_y):\n",
    "    try:\n",
    "        f = open(filename, 'r')\n",
    "    except OSError:\n",
    "        print(f'{filename} could not be opened.\\n')\n",
    "        sys.exit()\n",
    "        \n",
    "    # initialize list to store feature and labels for training data\n",
    "    features = []             \n",
    "    labels = []\n",
    "    \n",
    "    with f:\n",
    "        line = f.readline()\n",
    "        while line != '':\n",
    "            # strip newline and outer parenthesis\n",
    "            line = line.strip('\\n')\n",
    "            line = line.strip('( )')\n",
    "            \n",
    "            # extrace label and append to labels list\n",
    "            single_label = line.split('), ')[-1]\n",
    "            labels.append(single_label)\n",
    "            \n",
    "            # extrace features and append to features list\n",
    "            feat = line.split('), ')[0].split(', ')\n",
    "            features.append(feat)\n",
    "            \n",
    "            # read next line\n",
    "            line = f.readline()\n",
    "        \n",
    "        # create dataframe of features and append labels\n",
    "        X = np.array(features, dtype = dtype_x, ndmin = 2)\n",
    "        \n",
    "        # convert labels list to array\n",
    "        Y = np.array(labels, dtype = dtype_y, ndmin = 2)\n",
    "        \n",
    "        return X.transpose(), Y"
   ]
  },
  {
   "cell_type": "markdown",
   "metadata": {},
   "source": [
    "## Read test data\n",
    "\n",
    "**Argument(s):** \n",
    "1) name of a .txt file with each line containing test features(x) in the following format:\n",
    "(x1, x2, .....xn) <br>\n",
    "2) dtype_x: datatype of features\n",
    "\n",
    "**Return(s):** 'X' where X is a numpy array of feature vectors.\n",
    "Note: Each column in the array(s) epresents a single datapoint."
   ]
  },
  {
   "cell_type": "code",
   "execution_count": 25,
   "metadata": {},
   "outputs": [],
   "source": [
    "def get_X_array(filename, dtype_x):\n",
    "    try:\n",
    "        f = open(filename, 'r')\n",
    "    except OSError:\n",
    "        print(f'{filename} could not be opened.\\n')\n",
    "        sys.exit()\n",
    "        \n",
    "    # initialize list to store feature and labels for training data\n",
    "    features = []             \n",
    "    \n",
    "    with f:\n",
    "        line = f.readline()\n",
    "        while line != '':\n",
    "            \n",
    "            # get feature values\n",
    "            line = line.strip('\\n')\n",
    "            line = line.strip('( )')\n",
    "            feat = line.split(', ')\n",
    "            features.append(feat)\n",
    "            \n",
    "            # read next line\n",
    "            line = f.readline()\n",
    "        \n",
    "        # create dataframe of features and append labels\n",
    "        X = np.array(features, dtype = dtype_x, ndmin = 2)\n",
    "        \n",
    "        return X.transpose()"
   ]
  },
  {
   "cell_type": "markdown",
   "metadata": {},
   "source": [
    "# 1) Linear Regression "
   ]
  },
  {
   "cell_type": "markdown",
   "metadata": {},
   "source": [
    "### Helper Functions "
   ]
  },
  {
   "cell_type": "code",
   "execution_count": 26,
   "metadata": {},
   "outputs": [],
   "source": [
    "# k = frequency increment\n",
    "# d = function depth\n",
    "# given input datapoint 'x_sample', \n",
    "# returns transformed version of the intput datapoint as a numpy array\n",
    "def get_feature_vector(x_sample, k, d):\n",
    "    \n",
    "    # stored transformed values in a list\n",
    "    trans_feat_list = []\n",
    "    \n",
    "    # append 1 and value of 'x_sample' to the list\n",
    "    trans_feat_list.append(float(1))\n",
    "    trans_feat_list.append(float(x_sample))\n",
    "    \n",
    "    # remaining transformations will be based on 'k' and 'd'\n",
    "    for i in range(1, d+1):\n",
    "        val1 = (np.sin(i*k*x_sample, dtype = float)**(i*k))*np.cos(x_sample, dtype = float)\n",
    "        trans_feat_list.append(val1)\n",
    "        val2 = (np.cos(i*k*x_sample, dtype = float)**(i*k))*np.sin(x_sample, dtype = float)\n",
    "        trans_feat_list.append(val2)\n",
    "    \n",
    "    # convert list into array\n",
    "    x_sample_trans = np.array(trans_feat_list, dtype = float, ndmin = 2).transpose()\n",
    "\n",
    "    # return transformed features\n",
    "    return x_sample_trans\n",
    "\n",
    "\n",
    "# calculates sample squared error\n",
    "def get_sample_squared_error(y_sample, y_pred):\n",
    "    \n",
    "    # calculate and return squared error\n",
    "    return np.square(y_sample - y_pred)\n",
    "\n",
    "\n",
    "# get sum of squared error for an entire test dataset\n",
    "def get_sum_of_squared_error(Y_pred, Y_test):\n",
    "\n",
    "    sum_of_sq_err = np.sum((Y_pred - Y_test)**2, axis = 1)\n",
    "\n",
    "    return sum_of_sq_err\n",
    "\n",
    "\n",
    "# get's prediction value for a sample\n",
    "def get_prediction_value(x_sample, model_params, k, d):\n",
    "    \n",
    "    y_pred = np.dot(model_params, get_feature_vector(x_sample, k, d))\n",
    "\n",
    "    # return prediction value as a scalar\n",
    "    return y_pred[0, 0]\n",
    "    "
   ]
  },
  {
   "cell_type": "markdown",
   "metadata": {},
   "source": [
    "## 1 a)\n",
    "## Model Training & Prediction"
   ]
  },
  {
   "cell_type": "code",
   "execution_count": 169,
   "metadata": {},
   "outputs": [],
   "source": [
    "# returns predicted values for a given test data\n",
    "def get_prediction(X_test, model_params, k, d):\n",
    "    \n",
    "    # save number of test samples\n",
    "    n_feat, n_test_samples = X_test.shape\n",
    "    \n",
    "    # initialize list to store prediction values\n",
    "    predictions = []\n",
    "    \n",
    "    for i in range(n_test_samples):\n",
    "        y_pred = get_prediction_value(X_test[:,i][0], model_params, k, d)\n",
    "        predictions.append(y_pred)\n",
    "\n",
    "    Y_pred = np.array(predictions, dtype = float, ndmin = 2)\n",
    "        \n",
    "    return Y_pred\n",
    "\n",
    "\n",
    "# trains a linear regression model \n",
    "def train_model(X_train, Y_train, epochs, alpha, k, d):\n",
    "    \n",
    "    # get number of training samples\n",
    "    n_feat, n_samples = X_train.shape\n",
    "    \n",
    "    # get output dimension\n",
    "    n_out, __ = Y_train.shape\n",
    "    \n",
    "    # initialize parameter vector\n",
    "    model_params = np.random.rand(n_out, (2*d)+2)\n",
    "    gradient_vec = np.zeros((n_out, (2*d)+2), dtype = float)\n",
    "\n",
    "    # do this per epoch\n",
    "    for i in range(epochs):    \n",
    "        for j in range(n_samples):\n",
    "            \n",
    "            # pick a sample randomly\n",
    "            idx = np.random.randint(0, n_samples)\n",
    "            x_sample = X_train[:,idx]\n",
    "            y_sample = Y_train[:,idx]\n",
    "            \n",
    "            # get prediction value and adjust weights\n",
    "            y_pred = get_prediction_value(x_sample[0], model_params, k, d)\n",
    "            gradient_vec = gradient_vec + (y_pred - y_sample[0])*(get_feature_vector(x_sample[0], k, d).transpose())\n",
    "            \n",
    "        # adjust parameter values using batch gradient descent   \n",
    "        model_params = model_params - (alpha*gradient_vec)\n",
    "    # return final parameter vector\n",
    "    return model_params"
   ]
  },
  {
   "cell_type": "markdown",
   "metadata": {},
   "source": [
    "### Plot resulting function"
   ]
  },
  {
   "cell_type": "code",
   "execution_count": 132,
   "metadata": {},
   "outputs": [],
   "source": [
    "def plot_function(model_params, X_test, Y_test, k, d, n_values = 120):\n",
    "    \n",
    "    X_range = np.linspace(np.amin(X_test), np.amax(X_test) + 0.5, n_values)\n",
    "    X_test = X_test.squeeze()\n",
    "    Y_test = Y_test.squeeze()\n",
    "    Y_pred = get_prediction(X_range.reshape(1, n_values), model_params, k, d).squeeze()\n",
    "    \n",
    "    plt.figure(figsize = (10, 6))\n",
    "    plt.plot(X_range, Y_pred, color = 'blue', linestyle = 'dashed')\n",
    "    plt.scatter(X_test, Y_test, color = 'orange')\n",
    "    \n",
    "    plt.legend(['Y_pred', 'Y_actual'], loc = 2)\n",
    "    title_str = f'Predicted vs actual value for d = {d} and k = {k}'\n",
    "    plt.title(title_str, fontdict = {'fontsize': 15})\n",
    "    plt.xlabel('x', fontdict = {'fontsize': 12})\n",
    "    plt.ylabel('y', fontdict = {'fontsize': 12})\n",
    "    "
   ]
  },
  {
   "cell_type": "code",
   "execution_count": 170,
   "metadata": {},
   "outputs": [
    {
     "data": {
      "image/png": "[encoded data removed]",
      "text/plain": [
       "<Figure size 720x432 with 1 Axes>"
      ]
     },
     "metadata": {
      "needs_background": "light"
     },
     "output_type": "display_data"
    }
   ],
   "source": [
    "'''\n",
    "fname_train = str(input('Enter file containing training data: '))\n",
    "fname_test = str(input('Enter file containing test data: '))\n",
    "alpha = float(input('Provide a learning rate(alpha): '))\n",
    "epochs = int(input('Provide number of epochs: '))\n",
    "d = int(input('Provide functional depth(d) value: '))\n",
    "\n",
    "X_train, Y_train = get_X_Y_arrays(fname_train, float, float)\n",
    "X_test, Y_test = get_X_Y_arrays(fname_test, float, float)\n",
    "k = 8\n",
    "\n",
    "# train model and print test data squared error and prediction\n",
    "model_params = train_model(X_train, Y_train, epochs, alpha, k, d)\n",
    "Y_pred = get_prediction(X_test, model_params, k, d)\n",
    "squared_error = get_sum_of_squared_error(Y_pred, Y_test)\n",
    "Print(f'The squared error is {squared_error}.\\n')\n",
    "\n",
    "# plot prediction and actual value\n",
    "n_values = X_test.shape[1]\n",
    "plot_function(model_params, X_test, Y_test, k, d, n_values)\n",
    "'''"
   ]
  },
  {
   "cell_type": "code",
   "execution_count": null,
   "metadata": {},
   "outputs": [],
   "source": [
    "fname_train = \"1_b_c_2_train.txt\"\n",
    "fname_test = \"1_c_test.txt\"\n",
    "alpha = 0.0001\n",
    "\n",
    "d = 6\n",
    "epochs = 6"
   ]
  },
  {
   "cell_type": "code",
   "execution_count": 139,
   "metadata": {},
   "outputs": [
    {
     "data": {
      "text/plain": [
       "array([-0.08151109, -2.87269205, -4.63401634, -1.18808415, -2.33985105,\n",
       "        3.50145002,  5.51739311,  7.88245247, -1.54666721, -4.17116577])"
      ]
     },
     "execution_count": 139,
     "metadata": {},
     "output_type": "execute_result"
    }
   ],
   "source": [
    "Y_test.squeeze()"
   ]
  },
  {
   "cell_type": "markdown",
   "metadata": {},
   "source": [
    "# Locally Weighted Linear Regression"
   ]
  },
  {
   "cell_type": "code",
   "execution_count": null,
   "metadata": {},
   "outputs": [],
   "source": []
  },
  {
   "cell_type": "markdown",
   "metadata": {},
   "source": [
    "# 3) Softmax Regression"
   ]
  },
  {
   "cell_type": "markdown",
   "metadata": {},
   "source": [
    "### Helper Functions"
   ]
  },
  {
   "cell_type": "markdown",
   "metadata": {},
   "source": [
    "#### one_hot_encoder(arr) : return encoded_arr, label_idx_dict\n",
    "**arr:** <br>\n",
    "[['Ceramic' 'Metal' 'Metal' 'Metal' 'Ceramic' 'Plastic' 'Plastic'\n",
    "  'Plastic' 'Plastic' 'Plastic' 'Plastic' 'Ceramic']]<br>  \n",
    "**encoded_arr:** <br>\n",
    "[[0 1 1 1 0 0 0 0 0 0 0 0]<br>\n",
    " [0 0 0 0 0 1 1 1 1 1 1 0]<br>\n",
    " [1 0 0 0 1 0 0 0 0 0 0 1]] <br>\n",
    "**label_idx_dict:** <br>\n",
    "{'Metal': 0, 'Plastic': 1, 'Ceramic': 2}"
   ]
  },
  {
   "cell_type": "code",
   "execution_count": 143,
   "metadata": {},
   "outputs": [],
   "source": [
    "# given an array of attribute values for a categocial attribute,\n",
    "# preforms one-hot-encoding and returns resulting binary array\n",
    "def one_hot_encoder(arr):\n",
    "    \n",
    "    __, n_samples = arr.shape\n",
    "    \n",
    "    # get unique labels\n",
    "    uniq_labels = set(arr[0,:].tolist())\n",
    "    \n",
    "    # get number of total attribute values\n",
    "    n_labels = len(uniq_labels)\n",
    "    \n",
    "    # create an array of size n_labels*n_samples to store encoded values\n",
    "    encoded_arr = np.zeros((n_labels, n_samples), dtype = int)\n",
    "    \n",
    "    # create dictionary to store row indev of each attribute value\n",
    "    label_idx_dict = {}\n",
    "    for i, v in enumerate(uniq_labels):\n",
    "        label_idx_dict[v] = i\n",
    "        \n",
    "    # fill encoded_arr using attribute index dictionary and input arr\n",
    "    for i in range(n_samples):\n",
    "        # get index to encode as 1\n",
    "        idx = label_idx_dict[arr[0,i]]\n",
    "        encoded_arr[idx, i] = 1\n",
    "        \n",
    "    return encoded_arr, label_idx_dict\n"
   ]
  },
  {
   "cell_type": "markdown",
   "metadata": {},
   "source": [
    "### Functions for Training and Prediction"
   ]
  },
  {
   "cell_type": "code",
   "execution_count": 177,
   "metadata": {},
   "outputs": [],
   "source": [
    "# given a vector of parobaility values, returns label with max probability for a single sample\n",
    "def get_sample_prediction_label(sfmax_net, label_idx_dict):\n",
    "    \n",
    "    # get inverse of the dictionary\n",
    "    inv_label_idx_dict = {v: k for k, v in label_idx_dict.items()}\n",
    "    \n",
    "    # return label with max probability value\n",
    "    return inv_label_idx_dict[int(np.argmax(sfmax_net, axis = 0))]\n",
    "\n",
    "\n",
    "# uses softmax function and parameter matrix to get probability values\n",
    "# for multiclass classification\n",
    "def get_sample_prediction_values(x, model_params):\n",
    "    \n",
    "    # initialize column vector of ones to add bias\n",
    "    x_sample = np.ones((x.shape[0]+1, 1), dtype = float)\n",
    "    x_sample[1::] = x.reshape(x.shape[0], 1)\n",
    "    \n",
    "    # calculate linear net value\n",
    "    net = np.dot(model_params, x_sample)\n",
    "    \n",
    "    # calculate exponential value for rach class\n",
    "    exp_net = np.exp(net)\n",
    "    \n",
    "    # calculate softmax value for each class\n",
    "    sfmax_net = exp_net/np.sum(exp_net, axis = 0)\n",
    "    \n",
    "    return sfmax_net\n",
    "\n",
    "# gets predictions for an entire test dataset\n",
    "def get_predictions(X_test, model_params, label_idx_dict):\n",
    "\n",
    "    # initialize list to store predictions\n",
    "    Y_pred = []\n",
    "\n",
    "    # get number of test samples\n",
    "    __, n_samples = X_test.shape\n",
    "\n",
    "\n",
    "    for i in range(n_samples):\n",
    "\n",
    "        y_pred_values = get_sample_prediction_values(X_test[:,i], model_params)\n",
    "        y_pred_label = get_sample_prediction_label(y_pred_values, label_idx_dict)\n",
    "        Y_pred.append(y_pred_label)\n",
    "\n",
    "    # convert labels list to numpy array\n",
    "    Y_pred = np.array(Y_pred, dtype = str, ndmin = 2)\n",
    "\n",
    "    return Y_pred  \n",
    "\n",
    "\n",
    "# trains a softmax regression model given training data, alpha and number of epochs\n",
    "def train_softmax_regressor(X_train, Y_train, alpha, epochs):\n",
    "    \n",
    "    # get number of features and samples\n",
    "    n_feat, n_samples = X_train.shape\n",
    "    \n",
    "    # get encoded array for y\n",
    "    Y_train_encoded, label_idx_dict = one_hot_encoder(Y_train)\n",
    "    \n",
    "    # get no of classes/labels\n",
    "    n_class, __ = Y_train_encoded.shape\n",
    "    \n",
    "    # get paramater matrix\n",
    "    model_params = np.random.randn(n_class, n_feat+1)\n",
    "    \n",
    "    for i in range(epochs):\n",
    "        for j in range(n_samples):\n",
    "            \n",
    "            # pick a sample randomly\n",
    "            idx = np.random.randint(0, n_samples)\n",
    "            x_sample = X_train[:,idx]\n",
    "            y_sample = Y_train_encoded[:,idx].reshape(Y_train_encoded.shape[0], 1)\n",
    "            \n",
    "            # get prediction value and adjust weights\n",
    "            y_pred = get_sample_prediction_values(x_sample, model_params)\n",
    "\n",
    "            # add bias to x_sample before calculating gradient\n",
    "            x_sample_b = np.ones((x_sample.shape[0]+1, 1), dtype = float)\n",
    "            x_sample_b[1::] = x_sample.reshape(x_sample.shape[0], 1)\n",
    "\n",
    "            # calculate gradient matrix\n",
    "            gradient_mtx = np.dot((y_sample - y_pred), x_sample_b.transpose())\n",
    "            \n",
    "            # adjust parameter values using stochastic gradient ascent\n",
    "            model_params = model_params + alpha*gradient_mtx\n",
    "            \n",
    "    # return final parameter matrix\n",
    "    return model_params, label_idx_dict"
   ]
  },
  {
   "cell_type": "markdown",
   "metadata": {},
   "source": [
    "### Function for leave-one-out evaluation"
   ]
  },
  {
   "cell_type": "code",
   "execution_count": 161,
   "metadata": {},
   "outputs": [],
   "source": [
    "def leave_one_out_evaluation(X_eval, Y_eval, alpha, epochs):\n",
    "    \n",
    "    # get number of features and samples\n",
    "    n_feat, n_samples = X_eval.shape\n",
    "    \n",
    "    # prediction labels generated by 'predict_class_with_knn' will be stored in this list\n",
    "    Y_pred = []\n",
    "    \n",
    "    for i in range(n_samples):\n",
    "        \n",
    "        # pick test datapoint in order of the index\n",
    "        x_test = X_eval[:,i]\n",
    "        y_test = Y_eval[:,i]\n",
    "        \n",
    "        # create traiing set by deleting test datapoint\n",
    "        X_train = np.delete(X_eval, i, axis = 1)\n",
    "        Y_train = np.delete(Y_eval, i, axis = 1)\n",
    "        \n",
    "        # train model\n",
    "        model_params, label_idx_dict = train_softmax_regressor(X_train, Y_train, alpha, epochs)\n",
    "        \n",
    "        # get test data prediction\n",
    "        y_pred_values = get_sample_prediction_values(x_test, model_params)\n",
    "        y_pred_label = get_sample_prediction_label(y_pred_values, label_idx_dict)\n",
    "        Y_pred.append(y_pred_label)\n",
    "    \n",
    "    # convert prediction list to numpy array\n",
    "    Y_pred = np.array(Y_pred, dtype = str, ndmin = 2)\n",
    "    acc = (np.sum(Y_eval == Y_pred))/n_samples\n",
    "    \n",
    "    # return predictions and accuracy\n",
    "    return Y_pred, acc\n"
   ]
  },
  {
   "cell_type": "markdown",
   "metadata": {},
   "source": [
    "### Provide Filenames:\n",
    "1) Training/evaluation file: name of a .txt file with each line containing training/evaluation features(x) and label(y) in the following format:\n",
    "((x1, x2, .....xn), y)\n",
    "\n",
    "2) Test file: name of a .txt file with each line containing test features(x) in the following format:\n",
    "(x1, x2, .....xn)"
   ]
  },
  {
   "cell_type": "code",
   "execution_count": 150,
   "metadata": {},
   "outputs": [],
   "source": [
    "'''\n",
    "fname_train = str(input('Enter file containing training data: '))\n",
    "fname_test = str(input('Enter file containing test data: '))\n",
    "fname_eval = str(input('Enter file containing leave_one_out evaluation data: '))\n",
    "alpha = float(input('Provide a learning rate(alpha): '))\n",
    "epochs = int(input('Provide number of epochs: '))\n",
    "'''\n",
    "fname_train = '3_train.txt'\n",
    "fname_test = '3_test.txt'\n",
    "fname_eval = '3_eval.txt'\n",
    "epochs = 3\n",
    "\n",
    "X_train, Y_train = get_X_Y_arrays(fname_train)\n",
    "X_test = get_X_array(fname_test)\n",
    "X_eval, Y_eval = get_X_Y_arrays(fname_eval)"
   ]
  },
  {
   "cell_type": "markdown",
   "metadata": {},
   "source": [
    "### b) Model Evaluation\n",
    "\n",
    "**alpha = 0.00001, 0.00001, 0.0001 and 0.001**"
   ]
  },
  {
   "cell_type": "code",
   "execution_count": 156,
   "metadata": {},
   "outputs": [],
   "source": [
    "Y_pred, acc = leave_one_out_evaluation(X_eval, Y_eval, 0.00001, 1)    "
   ]
  },
  {
   "cell_type": "code",
   "execution_count": 157,
   "metadata": {},
   "outputs": [
    {
     "data": {
      "text/plain": [
       "0.325"
      ]
     },
     "execution_count": 157,
     "metadata": {},
     "output_type": "execute_result"
    }
   ],
   "source": [
    "acc"
   ]
  },
  {
   "cell_type": "markdown",
   "metadata": {},
   "source": [
    "### c) Evaluation after removing 4th attribute"
   ]
  },
  {
   "cell_type": "code",
   "execution_count": 158,
   "metadata": {},
   "outputs": [],
   "source": [
    "X_eval_3 = np.delete(X_eval, 3, axis = 0)"
   ]
  },
  {
   "cell_type": "code",
   "execution_count": 168,
   "metadata": {},
   "outputs": [
    {
     "data": {
      "text/plain": [
       "array([0.10333502, 0.07922548, 0.18783852])"
      ]
     },
     "execution_count": 168,
     "metadata": {},
     "output_type": "execute_result"
    }
   ],
   "source": [
    "X_eval_3[:,0]"
   ]
  },
  {
   "cell_type": "code",
   "execution_count": 178,
   "metadata": {},
   "outputs": [],
   "source": [
    "Y_pred, acc = leave_one_out_evaluation(X_eval_3, Y_eval, 0.00001, 5)    "
   ]
  },
  {
   "cell_type": "code",
   "execution_count": 179,
   "metadata": {},
   "outputs": [
    {
     "data": {
      "text/plain": [
       "0.24166666666666667"
      ]
     },
     "execution_count": 179,
     "metadata": {},
     "output_type": "execute_result"
    }
   ],
   "source": [
    "acc"
   ]
  },
  {
   "cell_type": "code",
   "execution_count": 8,
   "metadata": {},
   "outputs": [
    {
     "data": {
      "text/plain": [
       "array([[1, 2, 3],\n",
       "       [4, 5, 6]])"
      ]
     },
     "execution_count": 8,
     "metadata": {},
     "output_type": "execute_result"
    }
   ],
   "source": [
    "x = np.array([[1, 2, 3], [4, 5, 6]])\n",
    "x"
   ]
  },
  {
   "cell_type": "code",
   "execution_count": 10,
   "metadata": {},
   "outputs": [
    {
     "data": {
      "text/plain": [
       "1"
      ]
     },
     "execution_count": 10,
     "metadata": {},
     "output_type": "execute_result"
    }
   ],
   "source": [
    "x1 = x[0,0]\n",
    "x1"
   ]
  },
  {
   "cell_type": "code",
   "execution_count": 11,
   "metadata": {},
   "outputs": [],
   "source": [
    "x1 = 9"
   ]
  },
  {
   "cell_type": "code",
   "execution_count": 12,
   "metadata": {},
   "outputs": [
    {
     "data": {
      "text/plain": [
       "array([[1, 2, 3],\n",
       "       [4, 5, 6]])"
      ]
     },
     "execution_count": 12,
     "metadata": {},
     "output_type": "execute_result"
    }
   ],
   "source": [
    "x"
   ]
  },
  {
   "cell_type": "code",
   "execution_count": 15,
   "metadata": {},
   "outputs": [
    {
     "data": {
      "text/plain": [
       "array([[1., 1., 1., 1.],\n",
       "       [1., 1., 1., 1.],\n",
       "       [1., 1., 1., 1.]])"
      ]
     },
     "execution_count": 15,
     "metadata": {},
     "output_type": "execute_result"
    }
   ],
   "source": [
    "model_params = np.ones((3, 3+1))\n",
    "model_params"
   ]
  },
  {
   "cell_type": "code",
   "execution_count": 20,
   "metadata": {},
   "outputs": [
    {
     "data": {
      "text/plain": [
       "array([[ 1.        , -1.24045061, -1.52528838, -0.20853192],\n",
       "       [ 1.        , -0.65145782,  1.44423166,  0.52975214],\n",
       "       [ 1.        , -0.22391998,  0.75867958, -0.05067363]])"
      ]
     },
     "execution_count": 20,
     "metadata": {},
     "output_type": "execute_result"
    }
   ],
   "source": [
    "model_params[:,1::] = np.random.randn(3, 3)\n",
    "model_params"
   ]
  },
  {
   "cell_type": "code",
   "execution_count": 22,
   "metadata": {},
   "outputs": [
    {
     "name": "stdout",
     "output_type": "stream",
     "text": [
      "0\n",
      "1\n",
      "2\n",
      "3\n",
      "4\n",
      "5\n",
      "6\n"
     ]
    }
   ],
   "source": [
    "for d in range(0, 7):\n",
    "    print(d)"
   ]
  },
  {
   "cell_type": "code",
   "execution_count": null,
   "metadata": {},
   "outputs": [],
   "source": []
  }
 ],
 "metadata": {
  "kernelspec": {
   "display_name": "Python 3",
   "language": "python",
   "name": "python3"
  },
  "language_info": {
   "codemirror_mode": {
    "name": "ipython",
    "version": 3
   },
   "file_extension": ".py",
   "mimetype": "text/x-python",
   "name": "python",
   "nbconvert_exporter": "python",
   "pygments_lexer": "ipython3",
   "version": "3.7.9"
  }
 },
 "nbformat": 4,
 "nbformat_minor": 4
}
