{
 "cells": [
  {
   "cell_type": "markdown",
   "metadata": {},
   "source": [
    "Name: Shiska Raut <br>\n",
    "ID: 1001526329"
   ]
  },
  {
   "cell_type": "code",
   "execution_count": 32,
   "metadata": {},
   "outputs": [],
   "source": [
    "import numpy as np\n",
    "import matplotlib.pyplot as plt\n",
    "%matplotlib inline"
   ]
  },
  {
   "cell_type": "markdown",
   "metadata": {},
   "source": [
    "## Read training/evaluation data\n",
    "\n",
    "**Argument(s):** name of a .txt file with each line containing training/evaluation features and label in the following format:\n",
    "((x1, x2, .....xn), y)  \n",
    "\n",
    "**Return(s):** 'X, Y' where X is a numpy array of feature vectors and Y is the target label vector.\n",
    "Note: Each column in the array(s) epresents a single datapoint."
   ]
  },
  {
   "cell_type": "code",
   "execution_count": null,
   "metadata": {},
   "outputs": [],
   "source": [
    "# given a file\n",
    "def get_X_Y_arrays(filename):\n",
    "    try:\n",
    "        f = open(filename, 'r')\n",
    "    except OSError:\n",
    "        print(f'{filename} could not be opened.\\n')\n",
    "        sys.exit()\n",
    "        \n",
    "    # initialize list to store feature and labels for training data\n",
    "    features = []             \n",
    "    labels = []\n",
    "    \n",
    "    with f:\n",
    "        line = f.readline()\n",
    "        while line != '':\n",
    "            # strip newline and outer parenthesis\n",
    "            line = line.strip('\\n')\n",
    "            line = line.strip('( )')\n",
    "            \n",
    "            # extrace label and append to labels list\n",
    "            single_label = line.split('), ')[-1]\n",
    "            labels.append(single_label)\n",
    "            \n",
    "            # extrace features and append to features list\n",
    "            feat = line.split('), ')[0].split(', ')\n",
    "            features.append(feat)\n",
    "            \n",
    "            # read next line\n",
    "            line = f.readline()\n",
    "        \n",
    "        # create dataframe of features and append labels\n",
    "        X = np.array(features, dtype = float, ndmin = 2)\n",
    "        \n",
    "        # convert labels list to array\n",
    "        Y = np.array(labels, dtype = str, ndmin = 2)\n",
    "        \n",
    "        return X, Y.transpose()\n",
    "    "
   ]
  },
  {
   "cell_type": "markdown",
   "metadata": {},
   "source": [
    "## Read test data\n",
    "\n",
    "**Argument(s):** name of a .txt file with each line containing test featuresin the following format:\n",
    "(x1, x2, .....xn)\n",
    "\n",
    "**Return(s):** 'X' where X is a numpy array of feature vectors.\n",
    "Note: Each column in the array(s) epresents a single datapoint."
   ]
  },
  {
   "cell_type": "code",
   "execution_count": null,
   "metadata": {},
   "outputs": [],
   "source": [
    "def get_X_array(filename):\n",
    "    try:\n",
    "        f = open(filename, 'r')\n",
    "    except OSError:\n",
    "        print(f'{filename} could not be opened.\\n')\n",
    "        sys.exit()\n",
    "        \n",
    "    # initialize list to store feature and labels for training data\n",
    "    features = []             \n",
    "    \n",
    "    with f:\n",
    "        line = f.readline()\n",
    "        while line != '':\n",
    "            \n",
    "            # get feature values\n",
    "            line = line.strip('\\n')\n",
    "            line = line.strip('( )')\n",
    "            feat = line.split(', ')\n",
    "            features.append(feat)\n",
    "            \n",
    "            # read next line\n",
    "            line = f.readline()\n",
    "        \n",
    "        # create dataframe of features and append labels\n",
    "        X = np.array(features, dtype = float, ndmin = 2)\n",
    "        \n",
    "        return X"
   ]
  },
  {
   "cell_type": "markdown",
   "metadata": {},
   "source": [
    "# Linear Regression "
   ]
  },
  {
   "cell_type": "markdown",
   "metadata": {},
   "source": [
    "## Helper Functions "
   ]
  },
  {
   "cell_type": "code",
   "execution_count": 33,
   "metadata": {},
   "outputs": [],
   "source": [
    "# k = frequency increment\n",
    "# d = function depth\n",
    "# given input datapoint 'x_sample', \n",
    "# returns transformed version of the intput datapoint as a numpy array\n",
    "def get_feature_vector(x_sample, k, d):\n",
    "    \n",
    "    # stored transformed values in a list\n",
    "    trans_feat_list = []\n",
    "    \n",
    "    # append 1 and value of 'x_sample' to the list\n",
    "    trans_feat_list.append(float(1))\n",
    "    trans_feat_list.append(float(x_sample))\n",
    "    \n",
    "    # remaining transformations will be based on 'k' and 'd'\n",
    "    for i in range(1, d+1):\n",
    "        val1 = (np.sin(i*k*x_sample, dtype = float)**(i*k))*np.cos(x_sample, dtype = float)\n",
    "        trans_feat_list.append(val1)\n",
    "        val2 = (np.cos(i*k*x_sample, dtype = float)**(i*k))*np.sin(x_sample, dtype = float)\n",
    "        trans_feat_list.append(val2)\n",
    "    \n",
    "    return np.array(trans_feat_list, dtype = float, ndmin = 2).transpose()\n",
    "\n",
    "\n",
    "# calculates sample squared error\n",
    "def get_sample_squared_error(y_sample, y_pred):\n",
    "    \n",
    "    # calculate and return squared error\n",
    "    return np.square(y_sample - y_pred)\n",
    "\n",
    "\n",
    "# get's prediction value for a sample\n",
    "def get_prediction_value(x_sample, param_vec, k, d):\n",
    "    \n",
    "    # return prediction value\n",
    "    return np.dot(param_vec, get_feature_vector(x_sample, k, d))\n",
    "\n",
    "\n",
    "# adjusts paramteter weights\n",
    "def adjust_weights(x_sample, y_sample, y_pred, param_vec, alpha, k, d):\n",
    "    feature_vec = get_feature_vector(x_sample, k, g)\n",
    "    gradient_vec = (y_pred - y_sample)*feature_vec\n",
    "    \n",
    "    # return adjusted parameters: theta = theta - alpha*gradient\n",
    "    return param_vec - (alpha*gradient_vec)\n",
    "    "
   ]
  },
  {
   "cell_type": "markdown",
   "metadata": {},
   "source": [
    "## Model Training & Prediction"
   ]
  },
  {
   "cell_type": "code",
   "execution_count": 30,
   "metadata": {},
   "outputs": [
    {
     "data": {
      "text/plain": [
       "1"
      ]
     },
     "execution_count": 30,
     "metadata": {},
     "output_type": "execute_result"
    }
   ],
   "source": [
    "# trains a linear regression model \n",
    "def train_model(X_train, Y_train, epochs, alpha, k, d):\n",
    "    \n",
    "    # get number of training samples\n",
    "    __, n_samples = X_train.shape\n",
    "    \n",
    "    # initialize parameter vector\n",
    "    param_vec = np.random.randn(d+2, 1)\n",
    "    \n",
    "    # do this per epoch\n",
    "    for i in range(epochs):    \n",
    "        for j in range(n_samples):\n",
    "            \n",
    "            # pick a sample randomly\n",
    "            idx = np.random.rand(0, n_samples)\n",
    "            x_sample = X_train[idx]\n",
    "            y_sample = Y_train[idx]\n",
    "            \n",
    "            # get prediction value and adjust weights\n",
    "            y_pred = get_prediction_value(x_sample, param_vec, k, d)\n",
    "            \n",
    "            # adjust parameter values\n",
    "            param_vec = adjust_weights(x_sample, y_sample, y_pred, param_vec, alpha, k, d)\n",
    "    \n",
    "    # return final parameter vector\n",
    "    return param_vec\n",
    "\n",
    "# returns predicted values and squared error given test data\n",
    "def get_prediction(X_test, Y_test, param_vec, k, d):\n",
    "    \n",
    "    # save number of test samples\n",
    "    __, n_test_samples = X_test.shape\n",
    "    \n",
    "    # initialize list to store squared error and predictions\n",
    "    test_se = []\n",
    "    predictions = []\n",
    "    \n",
    "    for i in range(n_test_samples):\n",
    "        y_pred = get_prediction_value(X_test[i], params_vec, k, d)\n",
    "        predictions.append(y_pred)\n",
    "        sample_se = get_sample_squared_error(Y_test[i], y_pred)\n",
    "        test_se.append(sample_se)\n",
    "        \n",
    "    return predictions, test_se"
   ]
  },
  {
   "cell_type": "code",
   "execution_count": null,
   "metadata": {},
   "outputs": [],
   "source": []
  },
  {
   "cell_type": "markdown",
   "metadata": {},
   "source": [
    "# Locally Weighted Linear Regression"
   ]
  },
  {
   "cell_type": "code",
   "execution_count": null,
   "metadata": {},
   "outputs": [],
   "source": []
  },
  {
   "cell_type": "markdown",
   "metadata": {},
   "source": [
    "# 3) Softmax Regression"
   ]
  },
  {
   "cell_type": "code",
   "execution_count": null,
   "metadata": {},
   "outputs": [],
   "source": []
  }
 ],
 "metadata": {
  "kernelspec": {
   "display_name": "Python 3",
   "language": "python",
   "name": "python3"
  },
  "language_info": {
   "codemirror_mode": {
    "name": "ipython",
    "version": 3
   },
   "file_extension": ".py",
   "mimetype": "text/x-python",
   "name": "python",
   "nbconvert_exporter": "python",
   "pygments_lexer": "ipython3",
   "version": "3.7.9"
  }
 },
 "nbformat": 4,
 "nbformat_minor": 4
}
