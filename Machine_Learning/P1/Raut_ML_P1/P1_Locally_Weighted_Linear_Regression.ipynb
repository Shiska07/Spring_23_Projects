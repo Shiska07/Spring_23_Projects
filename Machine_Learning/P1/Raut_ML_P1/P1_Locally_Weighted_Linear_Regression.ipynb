{
 "cells": [
  {
   "cell_type": "markdown",
   "metadata": {},
   "source": [
    "Name: Shiska Raut <br>\n",
    "ID: 1001526329"
   ]
  },
  {
   "cell_type": "code",
   "execution_count": 1,
   "metadata": {},
   "outputs": [],
   "source": [
    "import numpy as np\n",
    "import sys\n",
    "import matplotlib.pyplot as plt\n",
    "%matplotlib inline"
   ]
  },
  {
   "cell_type": "markdown",
   "metadata": {},
   "source": [
    "## Read training/evaluation data\n",
    "\n",
    "**Argument(s):** \n",
    "1) filename: name of a .txt file with each line containing training/evaluation features(x) and label(y) in the following format:\n",
    "((x1, x2, .....xn), y) <br>\n",
    "2) dtype_x : datatype of features <br>\n",
    "3) dtype_y: datatype of label <br>\n",
    "\n",
    "**Return(s):** 'X, Y' where X is a numpy array of feature vectors and Y is the target label vector.\n",
    "Note: Each column in the array(s) epresents a single datapoint."
   ]
  },
  {
   "cell_type": "code",
   "execution_count": 2,
   "metadata": {},
   "outputs": [],
   "source": [
    "def get_X_Y_arrays(filename, dtype_x, dtype_y):\n",
    "    try:\n",
    "        f = open(filename, 'r')\n",
    "    except OSError:\n",
    "        print(f'{filename} could not be opened.\\n')\n",
    "        sys.exit()\n",
    "        \n",
    "    # initialize list to store feature and labels for training data\n",
    "    features = []             \n",
    "    labels = []\n",
    "    \n",
    "    with f:\n",
    "        line = f.readline()\n",
    "        while line != '':\n",
    "            # strip newline and outer parenthesis\n",
    "            line = line.strip('\\n')\n",
    "            line = line.strip('( )')\n",
    "            \n",
    "            # extrace label and append to labels list\n",
    "            single_label = line.split('), ')[-1]\n",
    "            labels.append(single_label)\n",
    "            \n",
    "            # extrace features and append to features list\n",
    "            feat = line.split('), ')[0].split(', ')\n",
    "            features.append(feat)\n",
    "            \n",
    "            # read next line\n",
    "            line = f.readline()\n",
    "        \n",
    "        # create dataframe of features and append labels\n",
    "        X = np.array(features, dtype = dtype_x, ndmin = 2)\n",
    "        \n",
    "        # convert labels list to array\n",
    "        Y = np.array(labels, dtype = dtype_y, ndmin = 2)\n",
    "        \n",
    "        return X.transpose(), Y"
   ]
  },
  {
   "cell_type": "markdown",
   "metadata": {},
   "source": [
    "## Read test data\n",
    "\n",
    "**Argument(s):** \n",
    "1) name of a .txt file with each line containing test features(x) in the following format:\n",
    "(x1, x2, .....xn) <br>\n",
    "2) dtype_x: datatype of features\n",
    "\n",
    "**Return(s):** 'X' where X is a numpy array of feature vectors.\n",
    "Note: Each column in the array(s) epresents a single datapoint."
   ]
  },
  {
   "cell_type": "code",
   "execution_count": 3,
   "metadata": {},
   "outputs": [],
   "source": [
    "def get_X_array(filename, dtype_x):\n",
    "    try:\n",
    "        f = open(filename, 'r')\n",
    "    except OSError:\n",
    "        print(f'{filename} could not be opened.\\n')\n",
    "        sys.exit()\n",
    "        \n",
    "    # initialize list to store feature and labels for training data\n",
    "    features = []             \n",
    "    \n",
    "    with f:\n",
    "        line = f.readline()\n",
    "        while line != '':\n",
    "            \n",
    "            # get feature values\n",
    "            line = line.strip('\\n')\n",
    "            line = line.strip('( )')\n",
    "            feat = line.split(', ')\n",
    "            features.append(feat)\n",
    "            \n",
    "            # read next line\n",
    "            line = f.readline()\n",
    "        \n",
    "        # create dataframe of features and append labels\n",
    "        X = np.array(features, dtype = dtype_x, ndmin = 2)\n",
    "        \n",
    "        return X.transpose()"
   ]
  },
  {
   "cell_type": "markdown",
   "metadata": {},
   "source": [
    "# 1) Locally Weighted Linear Regression "
   ]
  },
  {
   "cell_type": "markdown",
   "metadata": {},
   "source": [
    "### Helper Functions "
   ]
  },
  {
   "cell_type": "code",
   "execution_count": 4,
   "metadata": {},
   "outputs": [],
   "source": [
    "# gets sample squared error\n",
    "def get_sample_squared_error(y_sample, y_pred):\n",
    "    \n",
    "    # calculate and return squared error\n",
    "    return np.square(y_sample - y_pred)\n",
    "\n",
    "\n",
    "# gets average squared error for an entire test dataset\n",
    "def get_avg_squared_error(Y_pred, Y_test):\n",
    "    \n",
    "    n_samples = Y_pred.shape[1]\n",
    "    sum_of_sq_err = np.sum((np.square(Y_pred - Y_test)), axis = 1)\n",
    "    \n",
    "    # return average over number of samples\n",
    "    return sum_of_sq_err[0]/n_samples\n",
    "\n",
    "\n",
    "# gets prediction value for a sample\n",
    "def get_y_pred_value_lolr(x_sample, model_params):\n",
    "    \n",
    "    y_pred = np.dot(model_params, x_sample)\n",
    "\n",
    "    # return prediction value as a scalar\n",
    "    return y_pred[0, 0]\n",
    "\n",
    "# transform training data given gaussian weights\n",
    "def transform_data(X_train, Y_train, x_point, gamma):\n",
    "\n",
    "    # # get number of training samples\n",
    "    n_dim, n_train_samples = X_train.shape\n",
    "\n",
    "    #initialize array to store weights\n",
    "    weights = np.zeros((1, n_train_samples), dtype = float)\n",
    "    \n",
    "    d = float(-2*gamma*gamma)\n",
    "    for i in range(n_train_samples):\n",
    "        weights[:,i] = np.exp(np.dot((X_train[:,i].reshape(n_dim,1) - x_point).transpose(),\n",
    "                                     (X_train[:,i].reshape(n_dim,1) - x_point))/d)\n",
    "\n",
    "    # transform data\n",
    "    X_trans = weights*X_train\n",
    "    Y_trans = weights*Y_train\n",
    "\n",
    "    return X_trans, Y_trans   "
   ]
  },
  {
   "cell_type": "markdown",
   "metadata": {},
   "source": [
    "## 2 a) Implementation of Model Training & Prediction"
   ]
  },
  {
   "cell_type": "code",
   "execution_count": 5,
   "metadata": {},
   "outputs": [],
   "source": [
    "def train_model_lolr(X_train, Y_train, x_point, epochs, alpha, gamma):\n",
    "    \n",
    "    # use datapoint 'x_point' datapoint to transform data\n",
    "    X_trans, Y_trans = transform_data(X_train, Y_train, x_point, gamma)\n",
    "    \n",
    "    # get number of training samples\n",
    "    n_dim, n_train_samples = X_trans.shape\n",
    "\n",
    "    # get output dimension\n",
    "    n_out, __ = Y_train.shape\n",
    "    \n",
    "    # initialize model parameters\n",
    "    model_params = np.random.uniform(0, 0.01, size = (n_out, n_dim))\n",
    "    \n",
    "    # do this per epoch\n",
    "    for i in range(epochs): \n",
    "        \n",
    "        # initialize gradient vector for each epoch\n",
    "        gradient_vec = np.zeros((n_out, n_dim), dtype = float)\n",
    "        \n",
    "        # for every training sample\n",
    "        for j in range(n_train_samples):\n",
    "             \n",
    "            x_sample = X_trans[:,j].reshape(n_dim, 1)\n",
    "            y_sample = Y_trans[:,j][0]\n",
    "            \n",
    "            # get prediction value and adjust weights\n",
    "            y_pred = get_y_pred_value_lolr(x_sample, model_params)\n",
    "            \n",
    "            # sum gradients over all training samples\n",
    "            gradient_vec = gradient_vec + ((y_pred - y_sample)*x_sample.transpose())\n",
    "            \n",
    "        # adjust parameter values using batch gradient descent \n",
    "        model_params = model_params - (alpha*gradient_vec)\n",
    "        \n",
    "    # return final parameter vector\n",
    "    return model_params\n",
    "\n",
    "\n",
    "# returns predicted values for an entire test dataset\n",
    "def get_predictions_lolr(X_train, Y_train, X_test, epochs, alpha, gamma):\n",
    "    \n",
    "    # save number of test samples\n",
    "    n_feat, n_train_samples = X_train.shape\n",
    "    __, n_test_samples = X_test.shape\n",
    "\n",
    "    # add bias to X data\n",
    "    X_train_b = np.ones((n_feat+1, n_train_samples))\n",
    "    X_train_b[1,:] = X_train\n",
    "    X_test_b = np.ones((n_feat+1, n_test_samples))\n",
    "    X_test_b[1,:] = X_test\n",
    "    \n",
    "    # store prediction values\n",
    "    predictions = []\n",
    "\n",
    "    # for every test sample\n",
    "    for i in range(n_test_samples):\n",
    "\n",
    "        # get test sample to train model om\n",
    "        x_test_sample = X_test_b[:, i].reshape(n_feat+1, 1)\n",
    "        \n",
    "        # train model for local parameters\n",
    "        model_params = train_model_lolr(X_train_b, Y_train, x_test_sample, epochs, alpha, gamma)\n",
    "        y_sample_pred = get_y_pred_value_lolr(x_test_sample, model_params)\n",
    "        predictions.append(y_sample_pred)\n",
    "    \n",
    "    # convert list to array\n",
    "    Y_pred = np.array(predictions, dtype = float, ndmin = 2)\n",
    "    \n",
    "    return Y_pred"
   ]
  },
  {
   "cell_type": "markdown",
   "metadata": {},
   "source": [
    "## 2 b) Model Training and Plotting\n",
    "\n",
    "To plot the function, a range of x_values is created using the max and min value in the training data and prediction for each datapoint is obtained using locally weighted linear regression and the training data."
   ]
  },
  {
   "cell_type": "code",
   "execution_count": 6,
   "metadata": {},
   "outputs": [],
   "source": [
    "# get training data\n",
    "fname_train = \"reg_train.txt\"\n",
    "X_train, Y_train = get_X_Y_arrays(fname_train, float, float)\n",
    "\n",
    "# set paramters\n",
    "gamma = 0.13\n",
    "alpha = 0.001\n",
    "epochs = 2000\n",
    "n_train_samples = X_train.shape[1]\n",
    "\n",
    "# create range for plotting\n",
    "X_range = (np.linspace(np.amin(X_train), np.amax(X_train), n_train_samples)).reshape(1, n_train_samples)\n",
    "\n",
    "# get predictions for x_range\n",
    "Y_range_pred = get_predictions_lolr(X_train, Y_train, X_range, epochs, alpha, gamma)"
   ]
  },
  {
   "cell_type": "markdown",
   "metadata": {},
   "source": [
    "#### Plot predictions against training data"
   ]
  },
  {
   "cell_type": "code",
   "execution_count": 7,
   "metadata": {},
   "outputs": [
    {
     "data": {
      "image/png": "[encoded data removed]",
      "text/plain": [
       "<Figure size 720x432 with 1 Axes>"
      ]
     },
     "metadata": {
      "needs_background": "light"
     },
     "output_type": "display_data"
    }
   ],
   "source": [
    "# convert arrays to 1D\n",
    "X_train_1D = X_train.squeeze()\n",
    "Y_train_1D = Y_train.squeeze()\n",
    "Y_range_pred_1D = Y_range_pred.squeeze()\n",
    "\n",
    "# plot function values VS actual values for training data\n",
    "fig = plt.figure(figsize = (10, 6))\n",
    "plt.scatter(X_range, Y_range_pred_1D, color = 'blue')\n",
    "plt.scatter(X_train_1D, Y_train_1D, color = 'orange')\n",
    "\n",
    "# add title, labels and legend\n",
    "plt.legend(['Prediction Value', 'Training Data'], loc = 2)\n",
    "title_str = f'Predictions for a range of x values'\n",
    "plt.title(title_str, fontdict = {'fontsize': 15})\n",
    "plt.xlabel('x', fontdict = {'fontsize': 12})\n",
    "plt.ylabel('y', fontdict = {'fontsize': 12})\n",
    "plt.grid()"
   ]
  },
  {
   "cell_type": "markdown",
   "metadata": {},
   "source": [
    "## 2 c) Evaluation on training and test data"
   ]
  },
  {
   "cell_type": "code",
   "execution_count": 9,
   "metadata": {},
   "outputs": [
    {
     "name": "stdout",
     "output_type": "stream",
     "text": [
      "The average sqaured error for training for 2000 epochs is 0.1551.\n",
      "\n"
     ]
    }
   ],
   "source": [
    "# get predictions on training data\n",
    "Y_train_pred = get_predictions_lolr(X_train, Y_train, X_train, epochs, alpha, gamma)\n",
    "\n",
    "# get error\n",
    "average_train_error = get_avg_squared_error(Y_train_pred, Y_train)\n",
    "\n",
    "print(f'The average sqaured error for training for {epochs} epochs is {average_train_error:.4f}.\\n')"
   ]
  },
  {
   "cell_type": "code",
   "execution_count": 10,
   "metadata": {},
   "outputs": [],
   "source": [
    "# get test data\n",
    "fname_test = \"reg_test.txt\"\n",
    "X_test, Y_test = get_X_Y_arrays(fname_test, float, float)\n",
    "\n",
    "# get predictions on test data\n",
    "Y_test_pred = get_predictions_lolr(X_train, Y_train, X_test, epochs, alpha, gamma)\n",
    "\n",
    "# get error\n",
    "average_test_error = get_avg_squared_error(Y_test_pred, Y_test)"
   ]
  },
  {
   "cell_type": "code",
   "execution_count": 11,
   "metadata": {},
   "outputs": [
    {
     "name": "stdout",
     "output_type": "stream",
     "text": [
      "The average sqaured error for test data is 0.1837.\n",
      "\n"
     ]
    }
   ],
   "source": [
    "print(f'The average sqaured error for test data is {average_test_error:.4f}.\\n')"
   ]
  },
  {
   "cell_type": "markdown",
   "metadata": {},
   "source": [
    "### Plot Y_pred vs Y_test "
   ]
  },
  {
   "cell_type": "code",
   "execution_count": 12,
   "metadata": {
    "scrolled": false
   },
   "outputs": [
    {
     "data": {
      "image/png": "[encoded data removed]",
      "text/plain": [
       "<Figure size 720x432 with 1 Axes>"
      ]
     },
     "metadata": {
      "needs_background": "light"
     },
     "output_type": "display_data"
    }
   ],
   "source": [
    "# convert arrays to 1D\n",
    "X_test_p = X_test.squeeze()\n",
    "Y_test_p = Y_test.squeeze()\n",
    "Y_test_pred_p = Y_test_pred.squeeze()\n",
    "\n",
    "# plot function values VS actual values for training data\n",
    "fig = plt.figure(figsize = (10, 6))\n",
    "plt.scatter(X_test_p, Y_test_pred_p, color = 'blue')\n",
    "plt.scatter(X_test_p, Y_test_p, color = 'orange')\n",
    "\n",
    "# add title, labels and legend\n",
    "plt.legend(['Prediction Value', 'Actual Value'], loc = 2)\n",
    "title_str = f'Model Predictions for Test Data'\n",
    "plt.title(title_str, fontdict = {'fontsize': 15})\n",
    "plt.xlabel('x', fontdict = {'fontsize': 12})\n",
    "plt.ylabel('y', fontdict = {'fontsize': 12})\n",
    "plt.grid()"
   ]
  },
  {
   "cell_type": "markdown",
   "metadata": {},
   "source": [
    "### 1 c) Conclusion:\n",
    "\n",
    "Training error:<br>\n",
    "Linear regression: ~ 0.1996 (for d = 6)<br>\n",
    "Locally weighted linear regression: ~ 0.1551<br>\n",
    "\n",
    "Test error:<br>\n",
    "Linear regression: ~ 0.1812 (for d = 6)<br>\n",
    "Locally weighted linear regression: ~ 0.1837<br>\n",
    "\n",
    "The performance in terms of test error is similar to that of linear regression. However, the training error for locally weighted linear regression is higher than that of linear regression."
   ]
  },
  {
   "cell_type": "markdown",
   "metadata": {},
   "source": [
    "## 2 d) Training and Prediction using first 20 datapoints"
   ]
  },
  {
   "cell_type": "code",
   "execution_count": 14,
   "metadata": {},
   "outputs": [],
   "source": [
    "# get only first 20 data points fro training\n",
    "X_train_20 = X_train[:,0:19].reshape(1, 19)\n",
    "Y_train_20 = Y_train[:,0:19].reshape(1, 19)\n",
    "\n",
    "# create range for plotting\n",
    "X_range_20 = np.linspace(np.amin(X_train_20), np.amax(X_train_20)+0.1, n_train_samples)\n",
    "\n",
    "# get predictions for x_range\n",
    "Y_range_pred_20 = get_predictions_lolr(X_train_20, Y_train_20, X_range_20.reshape(1, n_train_samples), epochs, alpha, gamma)"
   ]
  },
  {
   "cell_type": "markdown",
   "metadata": {},
   "source": [
    "### Plot function against training data"
   ]
  },
  {
   "cell_type": "code",
   "execution_count": 15,
   "metadata": {},
   "outputs": [
    {
     "data": {
      "image/png": "[encoded data removed]",
      "text/plain": [
       "<Figure size 720x432 with 1 Axes>"
      ]
     },
     "metadata": {
      "needs_background": "light"
     },
     "output_type": "display_data"
    }
   ],
   "source": [
    "# convert arrays to 1D\n",
    "X_train_20_p = X_train_20.squeeze()\n",
    "Y_train_20_p = Y_train_20.squeeze()\n",
    "Y_range_pred_20_p = Y_range_pred_20.squeeze()\n",
    "\n",
    "# plot function values VS actual values for training data\n",
    "fig = plt.figure(figsize = (10, 6))\n",
    "plt.scatter(X_range_20, Y_range_pred_20_p, color = 'blue')\n",
    "plt.scatter(X_train_20_p, Y_train_20_p, color = 'orange')\n",
    "\n",
    "# add title, labels and legend\n",
    "plt.legend(['Prediction Value', 'Training Data'], loc = 2)\n",
    "title_str = f'Predictions for a range of x values |D| = 20'\n",
    "plt.title(title_str, fontdict = {'fontsize': 15})\n",
    "plt.xlabel('x', fontdict = {'fontsize': 12})\n",
    "plt.ylabel('y', fontdict = {'fontsize': 12})\n",
    "plt.grid()"
   ]
  },
  {
   "cell_type": "markdown",
   "metadata": {},
   "source": [
    "### Get prediction and error on training data "
   ]
  },
  {
   "cell_type": "code",
   "execution_count": 19,
   "metadata": {},
   "outputs": [
    {
     "name": "stdout",
     "output_type": "stream",
     "text": [
      "The average sqaured error for training data is 0.0325 after using only 20 training datapoints.\n",
      "\n"
     ]
    }
   ],
   "source": [
    "# get predictions for x_range\n",
    "Y_pred_20 = get_predictions_lolr(X_train_20, Y_train_20, X_train_20, epochs, alpha, gamma)\n",
    "\n",
    "# get error\n",
    "average_train_error_20 = get_avg_squared_error(Y_pred_20, Y_train_20)\n",
    "\n",
    "print(f'The average sqaured error for training data is {average_train_error_20:.4f} after using only 20 training datapoints.\\n')"
   ]
  },
  {
   "cell_type": "markdown",
   "metadata": {},
   "source": [
    "### Get error on test data "
   ]
  },
  {
   "cell_type": "code",
   "execution_count": 21,
   "metadata": {},
   "outputs": [
    {
     "name": "stdout",
     "output_type": "stream",
     "text": [
      "The average sqaured error on test data is 1.0873 after using only 20 training datapoints.\n",
      "\n"
     ]
    }
   ],
   "source": [
    "# get predictions on test data by only using 20 training data points\n",
    "Y_test_pred_20 = get_predictions_lolr(X_train_20, Y_train_20, X_test, epochs, alpha, gamma)\n",
    "\n",
    "# get error\n",
    "average_test_error_20 = get_avg_squared_error(Y_test_pred_20, Y_test)\n",
    "\n",
    "print(f'The average sqaured error on test data is {average_test_error_20:.4f} after using only 20 training datapoints.\\n')"
   ]
  },
  {
   "cell_type": "markdown",
   "metadata": {},
   "source": [
    "### Plot Y_pred vs Y_test "
   ]
  },
  {
   "cell_type": "code",
   "execution_count": 18,
   "metadata": {},
   "outputs": [
    {
     "data": {
      "image/png": "[encoded data removed]",
      "text/plain": [
       "<Figure size 720x432 with 1 Axes>"
      ]
     },
     "metadata": {
      "needs_background": "light"
     },
     "output_type": "display_data"
    }
   ],
   "source": [
    "# convert arrays to 1D\n",
    "X_test_p = X_test.squeeze()\n",
    "Y_test_p = Y_test.squeeze()\n",
    "Y_test_pred_20_p = Y_test_pred_20.squeeze()\n",
    "\n",
    "# plot function values VS actual values for training data\n",
    "fig = plt.figure(figsize = (10, 6))\n",
    "plt.scatter(X_test_p, Y_test_pred_20_p, color = 'blue')\n",
    "plt.scatter(X_test_p, Y_test_p, color = 'orange')\n",
    "\n",
    "# add title, labels and legend\n",
    "plt.legend(['Prediction Value', 'Actual Value'], loc = 2)\n",
    "title_str = f'Model Predictions for Test Data with 20 Training Datapoints'\n",
    "plt.title(title_str, fontdict = {'fontsize': 15})\n",
    "plt.xlabel('x', fontdict = {'fontsize': 12})\n",
    "plt.ylabel('y', fontdict = {'fontsize': 12})\n",
    "plt.grid()"
   ]
  },
  {
   "cell_type": "markdown",
   "metadata": {},
   "source": [
    "### 2 d) Conclusion (after only using 20 training datapoints):\n",
    "\n",
    "Training error: ~ 0.0325 <br>\n",
    "Test error: ~ 1.0837 <br>\n",
    "\n",
    "As shown by the above figure and the error values, locally weighted linear regression performs poorly if the dataset is too sparse/small. Although it has low error for the training data it has high error for the test data. This means that locally weighted linear regression was not able to preoprly represent the entire dataset with fewer datapoints. <br>\n",
    "\n",
    "This is because during training and prediction, only datapoints that are in the surrourding neighborhood described by the gaussia(which is dependent on the gamma value) are taken into account. If very less datapoints in a certain neighborhood, the model performs poorly in that area. If the total number of training data points are very low, the model may also perform poorly overall."
   ]
  },
  {
   "cell_type": "markdown",
   "metadata": {},
   "source": [
    "### 2 e) Final Conclusion:\n",
    "\n",
    "Training error:<br>\n",
    "Linear regression: ~ 0.1996 (for d = 6)<br>\n",
    "Locally weighted linear regression: ~ 0.1551<br>\n",
    "\n",
    "Test error:<br>\n",
    "Linear regression: ~ 0.1812 (for d = 6)<br>\n",
    "Locally weighted linear regression: ~ 0.1837<br>\n",
    "\n",
    "Although the error values for both implementations are pretty similar, since the training error for locally weighted linear regression is lower than that of linear regression, but the test error is actually higher, it is possible that the dataset was derived from a function consistent with the function format in question 1 (therefore test error was lower for linear regression). The test error for linear regresion being lower than that of locally weighted regression could mean that the linear regression model was better at explaining the given data than locally weighted linear regression. Therefore, the datapoints could have been derived from a function consistent with the function format in question 1."
   ]
  },
  {
   "cell_type": "code",
   "execution_count": null,
   "metadata": {},
   "outputs": [],
   "source": []
  }
 ],
 "metadata": {
  "kernelspec": {
   "display_name": "Python 3",
   "language": "python",
   "name": "python3"
  },
  "language_info": {
   "codemirror_mode": {
    "name": "ipython",
    "version": 3
   },
   "file_extension": ".py",
   "mimetype": "text/x-python",
   "name": "python",
   "nbconvert_exporter": "python",
   "pygments_lexer": "ipython3",
   "version": "3.7.9"
  }
 },
 "nbformat": 4,
 "nbformat_minor": 4
}
