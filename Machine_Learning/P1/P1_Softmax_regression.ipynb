{
 "cells": [
  {
   "cell_type": "markdown",
   "metadata": {},
   "source": [
    "Name: Shiska Raut <br>\n",
    "ID: 1001526329"
   ]
  },
  {
   "cell_type": "code",
   "execution_count": 5,
   "metadata": {},
   "outputs": [],
   "source": [
    "import numpy as np\n",
    "import sys\n",
    "import matplotlib.pyplot as plt\n",
    "%matplotlib inline"
   ]
  },
  {
   "cell_type": "markdown",
   "metadata": {},
   "source": [
    "## Read training/evaluation data\n",
    "\n",
    "**Argument(s):** \n",
    "1) filename: name of a .txt file with each line containing training/evaluation features(x) and label(y) in the following format:\n",
    "((x1, x2, .....xn), y) <br>\n",
    "2) dtype_x : datatype of features <br>\n",
    "3) dtype_y: datatype of label <br>\n",
    "\n",
    "**Return(s):** 'X, Y' where X is a numpy array of feature vectors and Y is the target label vector.\n",
    "Note: Each column in the array(s) epresents a single datapoint."
   ]
  },
  {
   "cell_type": "code",
   "execution_count": 6,
   "metadata": {},
   "outputs": [],
   "source": [
    "def get_X_Y_arrays(filename, dtype_x, dtype_y):\n",
    "    try:\n",
    "        f = open(filename, 'r')\n",
    "    except OSError:\n",
    "        print(f'{filename} could not be opened.\\n')\n",
    "        sys.exit()\n",
    "        \n",
    "    # initialize list to store feature and labels for training data\n",
    "    features = []             \n",
    "    labels = []\n",
    "    \n",
    "    with f:\n",
    "        line = f.readline()\n",
    "        while line != '':\n",
    "            # strip newline and outer parenthesis\n",
    "            line = line.strip('\\n')\n",
    "            line = line.strip('( )')\n",
    "            \n",
    "            # extrace label and append to labels list\n",
    "            single_label = line.split('), ')[-1]\n",
    "            labels.append(single_label)\n",
    "            \n",
    "            # extrace features and append to features list\n",
    "            feat = line.split('), ')[0].split(', ')\n",
    "            features.append(feat)\n",
    "            \n",
    "            # read next line\n",
    "            line = f.readline()\n",
    "        \n",
    "        # create dataframe of features and append labels\n",
    "        X = np.array(features, dtype = dtype_x, ndmin = 2)\n",
    "        \n",
    "        # convert labels list to array\n",
    "        Y = np.array(labels, dtype = dtype_y, ndmin = 2)\n",
    "        \n",
    "        return X.transpose(), Y"
   ]
  },
  {
   "cell_type": "markdown",
   "metadata": {},
   "source": [
    "## Read test data\n",
    "\n",
    "**Argument(s):** \n",
    "1) name of a .txt file with each line containing test features(x) in the following format:\n",
    "(x1, x2, .....xn) <br>\n",
    "2) dtype_x: datatype of features\n",
    "\n",
    "**Return(s):** 'X' where X is a numpy array of feature vectors.\n",
    "Note: Each column in the array(s) epresents a single datapoint."
   ]
  },
  {
   "cell_type": "code",
   "execution_count": 7,
   "metadata": {},
   "outputs": [],
   "source": [
    "def get_X_array(filename, dtype_x):\n",
    "    try:\n",
    "        f = open(filename, 'r')\n",
    "    except OSError:\n",
    "        print(f'{filename} could not be opened.\\n')\n",
    "        sys.exit()\n",
    "        \n",
    "    # initialize list to store feature and labels for training data\n",
    "    features = []             \n",
    "    \n",
    "    with f:\n",
    "        line = f.readline()\n",
    "        while line != '':\n",
    "            \n",
    "            # get feature values\n",
    "            line = line.strip('\\n')\n",
    "            line = line.strip('( )')\n",
    "            feat = line.split(', ')\n",
    "            features.append(feat)\n",
    "            \n",
    "            # read next line\n",
    "            line = f.readline()\n",
    "        \n",
    "        # create dataframe of features and append labels\n",
    "        X = np.array(features, dtype = dtype_x, ndmin = 2)\n",
    "        \n",
    "        return X.transpose()"
   ]
  },
  {
   "cell_type": "markdown",
   "metadata": {},
   "source": [
    "# 3) Softmax Regression"
   ]
  },
  {
   "cell_type": "markdown",
   "metadata": {},
   "source": [
    "### Helper Functions"
   ]
  },
  {
   "cell_type": "markdown",
   "metadata": {},
   "source": [
    "#### one_hot_encoder(arr) : return encoded_arr, label_idx_dict\n",
    "**arr:** <br>\n",
    "[['Ceramic' 'Metal' 'Metal' 'Metal' 'Ceramic' 'Plastic' 'Plastic'\n",
    "  'Plastic' 'Plastic' 'Plastic' 'Plastic' 'Ceramic']]<br>  \n",
    "**encoded_arr:** <br>\n",
    "[[0 1 1 1 0 0 0 0 0 0 0 0]<br>\n",
    " [0 0 0 0 0 1 1 1 1 1 1 0]<br>\n",
    " [1 0 0 0 1 0 0 0 0 0 0 1]] <br>\n",
    "**label_idx_dict:** <br>\n",
    "{'Metal': 0, 'Plastic': 1, 'Ceramic': 2}"
   ]
  },
  {
   "cell_type": "code",
   "execution_count": 8,
   "metadata": {},
   "outputs": [],
   "source": [
    "# given an array of attribute values for a categocial attribute,\n",
    "# preforms one-hot-encoding and returns resulting binary array\n",
    "def one_hot_encoder(arr):\n",
    "    \n",
    "    __, n_samples = arr.shape\n",
    "    \n",
    "    # get unique labels\n",
    "    uniq_labels = set(arr[0,:].tolist())\n",
    "    \n",
    "    # get number of total attribute values\n",
    "    n_labels = len(uniq_labels)\n",
    "    \n",
    "    # create an array of size n_labels*n_samples to store encoded values\n",
    "    encoded_arr = np.zeros((n_labels, n_samples), dtype = int)\n",
    "    \n",
    "    # create dictionary to store row indev of each attribute value\n",
    "    label_idx_dict = {}\n",
    "    for i, v in enumerate(uniq_labels):\n",
    "        label_idx_dict[v] = i\n",
    "        \n",
    "    # fill encoded_arr using attribute index dictionary and input arr\n",
    "    for i in range(n_samples):\n",
    "        # get index to encode as 1\n",
    "        idx = label_idx_dict[arr[0,i]]\n",
    "        encoded_arr[idx, i] = 1\n",
    "        \n",
    "    return encoded_arr, label_idx_dict\n",
    "\n",
    "\n",
    "# adds bias as the first row to a dataset\n",
    "def add_bias(X):\n",
    "    \n",
    "    n_feat, n_samples = X.shape\n",
    "    X_b = np.ones((n_feat+1, n_samples), dtype = float)\n",
    "    X_b[1::,:] = X\n",
    "    \n",
    "    return X_b\n",
    "\n",
    "\n",
    "# plots a line graph \n",
    "def plot_change(X, title, xlab, ylab):\n",
    "    \n",
    "    fig = plt.figure(figsize = (10, 6))\n",
    "    plt.plot(X, color = 'red')\n",
    "    \n",
    "    # add title and labels\n",
    "    plt.title(title, fontdict = {'fontsize': 15})\n",
    "    plt.xlabel(xlab, fontdict = {'fontsize': 12})\n",
    "    plt.ylabel(ylab, fontdict = {'fontsize': 12})\n",
    "    plt.grid()\n",
    "\n",
    "    \n",
    "# compares two arrays and returns class accuracy\n",
    "def get_class_acc(Y_pred, Y):\n",
    "    \n",
    "    # create a dict to store class accuracy\n",
    "    class_acc = {}\n",
    "    \n",
    "    # get all unique classes\n",
    "    classes = set(Y[0,:].tolist())\n",
    "    \n",
    "    # get number of samples\n",
    "    n_samples = Y_pred.shape[1]\n",
    "    \n",
    "    # calculate total occurence and accurate predictions for each class\n",
    "    for c in classes:\n",
    "        \n",
    "        total = 0\n",
    "        acc_vals = 0\n",
    "        \n",
    "        for i in range(n_samples):\n",
    "            if Y[:,i] == c:\n",
    "                total = total + 1\n",
    "                if Y[:,i] == Y_pred[:,i]:\n",
    "                    acc_vals = acc_vals + 1\n",
    "                \n",
    "        class_acc[c] = acc_vals/total\n",
    "        \n",
    "    return class_acc\n",
    "\n",
    "# compares two arrays and returns overall accuracy\n",
    "def get_acc(Y_pred, Y):\n",
    "    \n",
    "    n_samples = Y_pred.shape[1]\n",
    "    \n",
    "    # reutrn overall accuracy\n",
    "    return (np.sum(Y == Y_pred))/n_samples\n"
   ]
  },
  {
   "cell_type": "markdown",
   "metadata": {},
   "source": [
    "### 3 a) Functions for Training and Prediction"
   ]
  },
  {
   "cell_type": "code",
   "execution_count": 9,
   "metadata": {},
   "outputs": [],
   "source": [
    "# given a vector of parobaility values, returns label with max probability for a single sample\n",
    "def get_sample_prediction_label(sfmax_net, label_idx_dict):\n",
    "    \n",
    "    # get inverse of the dictionary\n",
    "    inv_label_idx_dict = {v: k for k, v in label_idx_dict.items()}\n",
    "    \n",
    "    # return label with max probability value\n",
    "    return inv_label_idx_dict[int(np.argmax(sfmax_net, axis = 0))]\n",
    "\n",
    "\n",
    "# uses softmax function and parameter matrix to get probability values\n",
    "# for multiclass classification\n",
    "def get_sample_prediction_values(x_sample, model_params):\n",
    "    \n",
    "    # calculate linear net value\n",
    "    net = np.dot(model_params, x_sample)\n",
    "    \n",
    "    # calculate exponential value for rach class\n",
    "    exp_net = np.exp(net, dtype = float)\n",
    "    \n",
    "    # calculate softmax value for each class\n",
    "    sfmax_net = exp_net/np.sum(exp_net, axis = 0, dtype = float)\n",
    "    \n",
    "    return sfmax_net\n",
    "\n",
    "\n",
    "# gets predictions for an entire test dataset\n",
    "def get_predictions(X_test, model_params, label_idx_dict):\n",
    "\n",
    "    # initialize list to store predictions\n",
    "    Y_pred = []\n",
    "\n",
    "    # get number of test samples\n",
    "    n_feat, n_samples = X_test.shape\n",
    "\n",
    "    for i in range(n_samples):\n",
    "    \n",
    "        x_sample = X_test[:,i].reshape(n_feat, 1)\n",
    "        y_pred_values = get_sample_prediction_values(X_test[:,i], model_params)\n",
    "        y_pred_label = get_sample_prediction_label(y_pred_values, label_idx_dict)\n",
    "        Y_pred.append(y_pred_label)\n",
    "\n",
    "    # convert labels list to numpy array\n",
    "    Y_pred = np.array(Y_pred, dtype = str, ndmin = 2)\n",
    "\n",
    "    return Y_pred  \n",
    "\n",
    "\n",
    "# training with batch gradient descent\n",
    "def train_softmax_regressor_batch(X_train, Y_train, alpha, epochs):\n",
    "    \n",
    "    # get number of features and samples\n",
    "    n_feat, n_samples = X_train.shape\n",
    "    \n",
    "    # get no of classes/labels\n",
    "    n_class, __ = Y_train.shape\n",
    "\n",
    "    # get paramater matrix\n",
    "    model_params = np.random.uniform(-0.01, 0.01, size = (n_class, n_feat))\n",
    "\n",
    "    # initialize list to store net change in parameter values\n",
    "    epoch_change_model_params = []\n",
    "    \n",
    "    for i in range(epochs):\n",
    "\n",
    "        # initialize gradient vector for each epoch\n",
    "        gradient_mtx = np.zeros((n_class, n_feat), dtype = float)\n",
    "\n",
    "        for j in range(n_samples):\n",
    "            \n",
    "            # pick a sample \n",
    "            x_sample = X_train[:,j].reshape(n_feat,1)\n",
    "            y_sample = Y_train[:,j].reshape(n_class, 1)\n",
    "            \n",
    "            # get prediction value\n",
    "            y_pred = get_sample_prediction_values(x_sample, model_params)\n",
    "\n",
    "            # calculate gradient matrix\n",
    "            sample_gradient = np.dot((y_sample - y_pred), x_sample.transpose())\n",
    "            gradient_mtx = gradient_mtx + sample_gradient\n",
    "            \n",
    "        # adjust parameter values using batch gradient descent \n",
    "        updated_params = model_params + (alpha*gradient_mtx)\n",
    "        \n",
    "        # get the net change in parameters\n",
    "        net_change = np.sum(np.abs(model_params - updated_params))\n",
    "        epoch_change_model_params.append(net_change)\n",
    "            \n",
    "        # set updated parameters as new parameters  \n",
    "        model_params = updated_params.copy()\n",
    "        \n",
    "    # return final parameter matrix\n",
    "    return model_params, epoch_change_model_params\n",
    "\n",
    "\n",
    "# training with stochastic gradient descent\n",
    "def train_softmax_regressor_stochastic(X_train, Y_train, alpha, epochs):\n",
    "    \n",
    "    # get number of features and samples\n",
    "    n_feat, n_samples = X_train.shape\n",
    "    \n",
    "    # get no of classes/labels\n",
    "    n_class, __ = Y_train.shape\n",
    "\n",
    "    # get paramater matrix\n",
    "    model_params = np.random.uniform(0, 0.01, size = (n_class, n_feat))\n",
    "    model_params_init = model_params.copy()\n",
    "\n",
    "    # initialize list to store net change in parameter values\n",
    "    epoch_change_model_params = []\n",
    "    \n",
    "    for i in range(epochs):\n",
    "\n",
    "        for j in range(n_samples):\n",
    "            \n",
    "            # pick a sample randomly\n",
    "            idx = np.random.randint(0, n_samples)\n",
    "            x_sample = X_train[:,idx].reshape(n_feat,1)\n",
    "            y_sample = Y_train[:,idx].reshape(n_class, 1)\n",
    "            \n",
    "            # get prediction value\n",
    "            y_pred = get_sample_prediction_values(x_sample, model_params)\n",
    "\n",
    "            # calculate gradient matrix\n",
    "            sample_gradient = np.dot((y_sample - y_pred), x_sample.transpose())\n",
    "            \n",
    "            # adjust parameter values using stochastic gradient descent \n",
    "            model_params = model_params + (alpha*sample_gradient)\n",
    "\n",
    "        # get the net change in parameters\n",
    "        net_change = np.sum(np.abs(model_params_init - model_params))\n",
    "        epoch_change_model_params.append(net_change)\n",
    "\n",
    "        # set updated parameters as new parameters  \n",
    "        model_params_init = model_params.copy()\n",
    "        \n",
    "    # return final parameter matrix\n",
    "    return model_params, epoch_change_model_params"
   ]
  },
  {
   "cell_type": "markdown",
   "metadata": {},
   "source": [
    "### Training and Test files:\n",
    "1) Training/evaluation file: name of a .txt file with each line containing training/evaluation features(x) and label(y) in the following format:\n",
    "((x1, x2, .....xn), y)\n",
    "\n",
    "2) Test file: name of a .txt file with each line containing test features(x) in the following format:\n",
    "(x1, x2, .....xn)"
   ]
  },
  {
   "cell_type": "code",
   "execution_count": 10,
   "metadata": {},
   "outputs": [],
   "source": [
    "fname_train = '3_train.txt'\n",
    "fname_test = '3_test.txt'\n",
    "\n",
    "X_train, Y_train = get_X_Y_arrays(fname_train, float, str)\n",
    "X_test = get_X_array(fname_test, float)"
   ]
  },
  {
   "cell_type": "markdown",
   "metadata": {},
   "source": [
    "### Plot class distribution of training data provided in assignment"
   ]
  },
  {
   "cell_type": "code",
   "execution_count": 11,
   "metadata": {},
   "outputs": [
    {
     "data": {
      "image/png": "[encoded data removed]",
      "text/plain": [
       "<Figure size 720x432 with 1 Axes>"
      ]
     },
     "metadata": {
      "needs_background": "light"
     },
     "output_type": "display_data"
    }
   ],
   "source": [
    "plt.figure(figsize = (10, 6))\n",
    "plt.title(f'Class label distribution for \"{fname_train}\"')\n",
    "plt.ylabel('No. of datapoints')\n",
    "plt.hist(Y_train.squeeze())\n",
    "plt.grid()"
   ]
  },
  {
   "cell_type": "code",
   "execution_count": 12,
   "metadata": {},
   "outputs": [
    {
     "name": "stdout",
     "output_type": "stream",
     "text": [
      "Training accuracy is 0.667.\n",
      "\n",
      "Predictions for test data: \n",
      " [['Plastic' 'Metal' 'Plastic' 'Plastic']]\n",
      "\n"
     ]
    },
    {
     "data": {
      "image/png": "[encoded data removed]",
      "text/plain": [
       "<Figure size 720x432 with 1 Axes>"
      ]
     },
     "metadata": {
      "needs_background": "light"
     },
     "output_type": "display_data"
    }
   ],
   "source": [
    "# set epochs and alpha\n",
    "epochs = 500\n",
    "alpha = 0.01\n",
    "\n",
    "# add bias to X training and test data\n",
    "X_train_b = add_bias(X_train)\n",
    "X_test_b = add_bias(X_test)\n",
    "\n",
    "# get encoded array for y\n",
    "Y_train_encoded, label_idx_dict = one_hot_encoder(Y_train)\n",
    "\n",
    "# train model and get predictions\n",
    "model_params, epoch_change_model_params = train_softmax_regressor_batch(X_train_b, Y_train_encoded, alpha, epochs)\n",
    "Y_train_pred = get_predictions(X_train_b, model_params, label_idx_dict)\n",
    "Y_test_pred = get_predictions(X_test_b, model_params, label_idx_dict)\n",
    "\n",
    "# get accuracy for training and test data\n",
    "train_acc = get_acc(Y_train_pred, Y_train)\n",
    "print(f'Training accuracy is {train_acc:.3f}.\\n')\n",
    "print(f'Predictions for test data: \\n {Y_test_pred}\\n')\n",
    "\n",
    "#plot change net in parameter values\n",
    "title = str( f'Net change in model parameters over {epochs} epochs.\\n')\n",
    "plot_change(epoch_change_model_params, title, 'Epochs', 'Net Change')"
   ]
  },
  {
   "cell_type": "markdown",
   "metadata": {},
   "source": [
    "### 3 b) Function for leave-one-out evaluation"
   ]
  },
  {
   "cell_type": "code",
   "execution_count": 13,
   "metadata": {},
   "outputs": [],
   "source": [
    "def leave_one_out_evaluation(X_eval, Y_eval, alpha, epochs, training_type):\n",
    "    \n",
    "    # add bias to X\n",
    "    X_train_b = add_bias(X_eval)\n",
    "\n",
    "    # get number of features and samples\n",
    "    n_feat, n_samples = X_train_b.shape\n",
    "\n",
    "    # prediction labels generated by 'predict_class_with_knn' will be stored in this list\n",
    "    Y_pred = []\n",
    "\n",
    "    # get encoded array for y\n",
    "    Y_train_encoded, label_idx_dict = one_hot_encoder(Y_eval)\n",
    "    n_class, __ = Y_train_encoded.shape\n",
    "    \n",
    "    # trains a new model to predict each sample\n",
    "    for i in range(n_samples):\n",
    "        \n",
    "        # pick test datapoint\n",
    "        x_test = X_train_b[:,i].reshape(n_feat, 1)\n",
    "        y_test = Y_train_encoded[:,i].reshape(n_class, 1)\n",
    "        \n",
    "        # create traiing set by deleting test datapoint\n",
    "        X_train = np.delete(X_train_b, i, axis = 1)\n",
    "        Y_train = np.delete(Y_train_encoded, i, axis = 1)\n",
    "        \n",
    "        if training_type == 'batch':\n",
    "            # train model\n",
    "            model_params, epoch_change_model_params = train_softmax_regressor_batch(X_train, Y_train, alpha, epochs)\n",
    "        else:\n",
    "            # train model\n",
    "            model_params, epoch_change_model_params = train_softmax_regressor_stochastic(X_train, Y_train, alpha, epochs)\n",
    "        \n",
    "        # get test data prediction\n",
    "        y_pred_values = get_sample_prediction_values(x_test, model_params)\n",
    "        y_pred_label = get_sample_prediction_label(y_pred_values, label_idx_dict)\n",
    "        Y_pred.append(y_pred_label)\n",
    "    \n",
    "    # convert prediction list to numpy array\n",
    "    Y_pred = np.array(Y_pred, dtype = str, ndmin = 2)\n",
    "    acc = get_acc(Y_pred, Y_eval)\n",
    "    \n",
    "    # return predictions and accuracy\n",
    "    return Y_pred, acc, epoch_change_model_params\n"
   ]
  },
  {
   "cell_type": "markdown",
   "metadata": {},
   "source": [
    "### Provide evaluation file name\n",
    "fname_eval: name of a .txt file with each line containing training/evaluation features(x) and label(y) in the following format:\n",
    "((x1, x2, .....xn), y) <br>"
   ]
  },
  {
   "cell_type": "code",
   "execution_count": 14,
   "metadata": {},
   "outputs": [],
   "source": [
    "fname_eval = '3_eval.txt'\n",
    "\n",
    "# get data as arrays\n",
    "X_eval, Y_eval = get_X_Y_arrays(fname_eval, float, str)\n",
    "n_eval_samples = X_eval.shape[1]"
   ]
  },
  {
   "cell_type": "markdown",
   "metadata": {},
   "source": [
    "### Plot class distribution of evaluation data"
   ]
  },
  {
   "cell_type": "code",
   "execution_count": 15,
   "metadata": {},
   "outputs": [
    {
     "data": {
      "image/png": "[encoded data removed]",
      "text/plain": [
       "<Figure size 720x432 with 1 Axes>"
      ]
     },
     "metadata": {
      "needs_background": "light"
     },
     "output_type": "display_data"
    }
   ],
   "source": [
    "plt.figure(figsize = (10, 6))\n",
    "plt.title(f'Class label distribution for \"{fname_eval}\"')\n",
    "plt.ylabel('No. of datapoints')\n",
    "plt.hist(Y_eval.squeeze())\n",
    "plt.grid()"
   ]
  },
  {
   "cell_type": "code",
   "execution_count": 16,
   "metadata": {},
   "outputs": [],
   "source": [
    "# set epochs and alpha\n",
    "epochs = 2000\n",
    "alpha = 0.001\n",
    "\n",
    "# get predictions, test accuracy and change in model parameters over epochs for final evaluation datapoint\n",
    "Y_eval_pred, test_acc, epoch_change_model_params = leave_one_out_evaluation(X_eval, Y_eval, alpha, epochs, 'batch')"
   ]
  },
  {
   "cell_type": "markdown",
   "metadata": {},
   "source": [
    "### Get accuracy values"
   ]
  },
  {
   "cell_type": "code",
   "execution_count": 17,
   "metadata": {},
   "outputs": [
    {
     "name": "stdout",
     "output_type": "stream",
     "text": [
      "Test total accuracy for leave-one-out evaluation is 0.533.\n",
      "\n",
      "Class Accuracy\n",
      "Metal : 0.4242\n",
      "Ceramic : 0.0588\n",
      "Plastic : 0.9057\n"
     ]
    }
   ],
   "source": [
    "print(f\"Test total accuracy for leave-one-out evaluation is {test_acc:.3f}.\\n\")\n",
    "\n",
    "class_acc = get_class_acc(Y_eval_pred, Y_eval)\n",
    "print('Class Accuracy')\n",
    "for k, v in class_acc.items():\n",
    "    print(f'{k} : {v:.4f}')"
   ]
  },
  {
   "cell_type": "code",
   "execution_count": 18,
   "metadata": {},
   "outputs": [
    {
     "data": {
      "image/png": "[encoded data removed]",
      "text/plain": [
       "<Figure size 720x432 with 1 Axes>"
      ]
     },
     "metadata": {
      "needs_background": "light"
     },
     "output_type": "display_data"
    }
   ],
   "source": [
    "title = str(f'Net change in model parameters over {epochs} epochs.\\n')\n",
    "plot_change(epoch_change_model_params, title, 'Epochs', 'Net change')"
   ]
  },
  {
   "cell_type": "markdown",
   "metadata": {},
   "source": [
    "### 3 b) Conclusion:\n",
    "\n",
    "KNN best accuracy : ~0.517 (k = 3)<br>\n",
    "Softmax Regression accuracy: ~0.533 (epochs = 2000 & alpha = 0.001)<br>\n",
    "\n",
    "For the same classification problem, the best accuracy value for KNN was ~0.517 with manhattan distance as a distance measure, and with k = 5. In case of logistic regression, the overall test accuracy is ~0.533 after training the model for 2000 epochs (alpha = 0.001) with batch gradient descent. Upon analyzing the class accuracy, class 'Plastic' was found to have the highest accuracy with a value of ~0.90. This could be the result of the uneven class distribution in the training data. As the majority of training samples belonged to class \"Plastic\", the model learned that labeling datapoints as \"Plastic\" results in maximum probability.<br>\n",
    "\n",
    "Softmax regression slighly outperforms KNN in this case and might perform better than KNN if uncorrelated attributes are present and the classes can be separated using a linear hyperplane. This is because softmax uses a parametric representation and can assign a low parameter value(like 0) to an uncorrelated feature through weight adjustments."
   ]
  },
  {
   "cell_type": "markdown",
   "metadata": {},
   "source": [
    "## 3 c) Evaluation after removing 4th attribute "
   ]
  },
  {
   "cell_type": "code",
   "execution_count": 19,
   "metadata": {},
   "outputs": [],
   "source": [
    "# remove fourth attribute\n",
    "X_eval_3 = np.delete(X_eval, 3, axis = 0)"
   ]
  },
  {
   "cell_type": "code",
   "execution_count": 20,
   "metadata": {},
   "outputs": [],
   "source": [
    "# set epochs and alpha\n",
    "epochs = 2000\n",
    "alpha = 0.001\n",
    "\n",
    "# get predictions, test accuracy and change in model parameters over epochs for final evaluation datapoint\n",
    "Y_eval_pred_3, test_acc_3, epoch_change_model_params_3 = leave_one_out_evaluation(X_eval_3, Y_eval, alpha, epochs, 'batch')"
   ]
  },
  {
   "cell_type": "markdown",
   "metadata": {},
   "source": [
    "### Get accuracy values"
   ]
  },
  {
   "cell_type": "code",
   "execution_count": 21,
   "metadata": {},
   "outputs": [
    {
     "name": "stdout",
     "output_type": "stream",
     "text": [
      "Test total accuracy for leave-one-out evaluation after removing 4th attribute is 0.517.\n",
      "\n",
      "Class Accuracy\n",
      "\n",
      "Metal : 0.424\n",
      "Ceramic : 0.029\n",
      "Plastic : 0.887\n"
     ]
    }
   ],
   "source": [
    "print(f\"Test total accuracy for leave-one-out evaluation after removing 4th attribute is {test_acc_3:.3f}.\\n\")\n",
    "\n",
    "class_acc_3 = get_class_acc(Y_eval_pred_3, Y_eval)\n",
    "print('Class Accuracy\\n')\n",
    "for k, v in class_acc_3.items():\n",
    "    print(f'{k} : {v:.3f}')"
   ]
  },
  {
   "cell_type": "code",
   "execution_count": 22,
   "metadata": {},
   "outputs": [
    {
     "data": {
      "image/png": "[encoded data removed]",
      "text/plain": [
       "<Figure size 720x432 with 1 Axes>"
      ]
     },
     "metadata": {
      "needs_background": "light"
     },
     "output_type": "display_data"
    }
   ],
   "source": [
    "title = str(f'Net change in model parameters over {epochs} epochs.\\n')\n",
    "plot_change(epoch_change_model_params_3, title, 'Epochs', 'Net change')"
   ]
  },
  {
   "cell_type": "markdown",
   "metadata": {},
   "source": [
    "### 3 c) Conclusion after removing 4th attribute:\n",
    "\n",
    "KNN best accuracy: ~0.833 (k = 3)<br>\n",
    "Softmax regression accuracy: ~0.517 (epochs = 2000 & alpha = 0.001)<br>\n",
    "\n",
    "Removing the 4th attribute in KNN had resulted in an increase in accuracy from 0.517 to 0.833 for k = 3 which suggested that the 4th attribute(hue) could have been hightly uncorrelated. As KNN uses a non-paramteric representation, using a highly uncorrelated feature without normalizaton resulted in a low accuracy value. However, since softmax regression uses a parametric representation, it can learn to give a low weight to an uncorrelated feature. This explains why accuracy did not change much for logistic regression even after removing the 4th attribute.<br>\n",
    "\n",
    "The fact that KNN greatly outperfomed softmax regression after the 4th attribute was removed could mean that the datasets in the feature space could not be effectively separated using a linear hyperplane. Therefore, KNN might perform better than softmax regression for datasets that can not be searated using a linear hyperplane as long as all uncorrelated features have been removed or normalized."
   ]
  },
  {
   "cell_type": "code",
   "execution_count": null,
   "metadata": {},
   "outputs": [],
   "source": []
  }
 ],
 "metadata": {
  "kernelspec": {
   "display_name": "Python 3",
   "language": "python",
   "name": "python3"
  },
  "language_info": {
   "codemirror_mode": {
    "name": "ipython",
    "version": 3
   },
   "file_extension": ".py",
   "mimetype": "text/x-python",
   "name": "python",
   "nbconvert_exporter": "python",
   "pygments_lexer": "ipython3",
   "version": "3.7.9"
  }
 },
 "nbformat": 4,
 "nbformat_minor": 4
}
