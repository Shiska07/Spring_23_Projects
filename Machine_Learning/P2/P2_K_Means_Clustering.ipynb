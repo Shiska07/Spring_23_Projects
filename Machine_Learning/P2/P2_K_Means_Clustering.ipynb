{
 "cells": [
  {
   "cell_type": "markdown",
   "metadata": {},
   "source": [
    "Name: Shiska Raut <br>\n",
    "ID: 1001526329"
   ]
  },
  {
   "cell_type": "code",
   "execution_count": 1,
   "metadata": {},
   "outputs": [],
   "source": [
    "import numpy as np\n",
    "import sys\n",
    "import matplotlib.pyplot as plt\n",
    "%matplotlib inline"
   ]
  },
  {
   "cell_type": "markdown",
   "metadata": {},
   "source": [
    "## Read training/evaluation data\n",
    "\n",
    "**Argument(s):** \n",
    "1) filename: name of a .txt file with each line containing training/evaluation features(x) and label(y) in the following format:\n",
    "((x1, x2, .....xn), y) <br>\n",
    "2) dtype_x : datatype of features <br>\n",
    "3) dtype_y: datatype of label <br>\n",
    "\n",
    "**Return(s):** 'X, Y' where X is a numpy array of feature vectors and Y is the target label vector.\n",
    "Note: Each column in the array(s) epresents a single datapoint."
   ]
  },
  {
   "cell_type": "code",
   "execution_count": 2,
   "metadata": {},
   "outputs": [],
   "source": [
    "def get_X_Y_arrays(filename, dtype_x, dtype_y):\n",
    "    try:\n",
    "        f = open(filename, 'r')\n",
    "    except OSError:\n",
    "        print(f'{filename} could not be opened.\\n')\n",
    "        sys.exit()\n",
    "        \n",
    "    # initialize list to store feature and labels for training data\n",
    "    features = []             \n",
    "    labels = []\n",
    "    \n",
    "    with f:\n",
    "        line = f.readline()\n",
    "        while line != '':\n",
    "            # strip newline and outer parenthesis\n",
    "            line = line.strip('\\n')\n",
    "            line = line.strip('( )')\n",
    "            \n",
    "            # extrace label and append to labels list\n",
    "            single_label = line.split('), ')[-1]\n",
    "            labels.append(single_label)\n",
    "            \n",
    "            # extrace features and append to features list\n",
    "            feat = line.split('), ')[0].split(', ')\n",
    "            features.append(feat)\n",
    "            \n",
    "            # read next line\n",
    "            line = f.readline()\n",
    "        \n",
    "        # create dataframe of features and append labels\n",
    "        X = np.array(features, dtype = dtype_x, ndmin = 2)\n",
    "        \n",
    "        # convert labels list to array\n",
    "        Y = np.array(labels, dtype = dtype_y)\n",
    "        \n",
    "        return X, Y"
   ]
  },
  {
   "cell_type": "markdown",
   "metadata": {},
   "source": [
    "### Provide Filename:\n",
    "1) Training/evaluation file: name of a .txt file with each line containing training/evaluation features(x) and label(y) in the following format:\n",
    "((x1, x2, .....xn), y)"
   ]
  },
  {
   "cell_type": "code",
   "execution_count": 3,
   "metadata": {},
   "outputs": [],
   "source": [
    "fname_train = 'data.txt'\n",
    "\n",
    "X_train, Y_train = get_X_Y_arrays(fname_train, float, str)"
   ]
  },
  {
   "cell_type": "markdown",
   "metadata": {},
   "source": [
    "### Plot class distribution of training data provided in assignment"
   ]
  },
  {
   "cell_type": "code",
   "execution_count": 4,
   "metadata": {},
   "outputs": [
    {
     "data": {
      "image/png": "[encoded data removed]",
      "text/plain": [
       "<Figure size 600x400 with 1 Axes>"
      ]
     },
     "metadata": {},
     "output_type": "display_data"
    }
   ],
   "source": [
    "plt.figure(figsize = (6, 4))\n",
    "plt.title(f'Class label distribution for \"{fname_train}\"')\n",
    "plt.ylabel('No. of datapoints')\n",
    "plt.hist(Y_train.squeeze())\n",
    "plt.grid()"
   ]
  },
  {
   "cell_type": "code",
   "execution_count": 5,
   "metadata": {},
   "outputs": [
    {
     "data": {
      "text/plain": [
       "(120, 4)"
      ]
     },
     "execution_count": 5,
     "metadata": {},
     "output_type": "execute_result"
    }
   ],
   "source": [
    "X_train.shape"
   ]
  },
  {
   "cell_type": "code",
   "execution_count": 6,
   "metadata": {},
   "outputs": [
    {
     "data": {
      "text/plain": [
       "array(['Plastic', 'Plastic', 'Metal', 'Plastic', 'Metal', 'Plastic',\n",
       "       'Metal', 'Metal', 'Metal', 'Metal', 'Ceramic', 'Plastic', 'Metal',\n",
       "       'Plastic', 'Plastic', 'Metal', 'Plastic', 'Ceramic', 'Ceramic',\n",
       "       'Metal', 'Plastic', 'Metal', 'Plastic', 'Ceramic', 'Metal',\n",
       "       'Metal', 'Plastic', 'Ceramic', 'Ceramic', 'Plastic', 'Metal',\n",
       "       'Plastic', 'Metal', 'Plastic', 'Metal', 'Ceramic', 'Plastic',\n",
       "       'Plastic', 'Plastic', 'Plastic', 'Metal', 'Plastic', 'Metal',\n",
       "       'Plastic', 'Ceramic', 'Metal', 'Plastic', 'Metal', 'Plastic',\n",
       "       'Ceramic', 'Metal', 'Plastic', 'Ceramic', 'Metal', 'Ceramic',\n",
       "       'Plastic', 'Metal', 'Ceramic', 'Plastic', 'Plastic', 'Plastic',\n",
       "       'Plastic', 'Ceramic', 'Metal', 'Metal', 'Ceramic', 'Metal',\n",
       "       'Plastic', 'Ceramic', 'Metal', 'Metal', 'Ceramic', 'Ceramic',\n",
       "       'Plastic', 'Plastic', 'Plastic', 'Ceramic', 'Plastic', 'Plastic',\n",
       "       'Ceramic', 'Ceramic', 'Metal', 'Ceramic', 'Ceramic', 'Ceramic',\n",
       "       'Ceramic', 'Ceramic', 'Ceramic', 'Metal', 'Metal', 'Metal',\n",
       "       'Plastic', 'Metal', 'Ceramic', 'Metal', 'Plastic', 'Plastic',\n",
       "       'Ceramic', 'Ceramic', 'Ceramic', 'Plastic', 'Ceramic', 'Ceramic',\n",
       "       'Ceramic', 'Ceramic', 'Plastic', 'Plastic', 'Plastic', 'Plastic',\n",
       "       'Plastic', 'Plastic', 'Plastic', 'Plastic', 'Plastic', 'Plastic',\n",
       "       'Plastic', 'Plastic', 'Plastic', 'Plastic', 'Plastic'], dtype='<U7')"
      ]
     },
     "execution_count": 6,
     "metadata": {},
     "output_type": "execute_result"
    }
   ],
   "source": [
    "Y_train"
   ]
  },
  {
   "cell_type": "markdown",
   "metadata": {},
   "source": [
    "### 1 a) KNN"
   ]
  },
  {
   "cell_type": "markdown",
   "metadata": {},
   "source": [
    "#### Helper functions"
   ]
  },
  {
   "cell_type": "code",
   "execution_count": 7,
   "metadata": {},
   "outputs": [],
   "source": [
    "# randomly initializes 'k' distinct centroids given data 'X'\n",
    "# centroids lie within the range of datapoints\n",
    "def initialize_cluster_centroids(X, k):\n",
    "\n",
    "    # get number of features\n",
    "    n_feat = X.shape[1]\n",
    "\n",
    "    # create dictionary to be able to number centroids\n",
    "    centroids_dict = {}\n",
    "\n",
    "    for i in range(k):\n",
    "\n",
    "        # pick a random point\n",
    "        random_idx = np.random.randint(0, X.shape[0])\n",
    "\n",
    "        centroids_dict[i] = X[random_idx].reshape(1, n_feat)\n",
    "\n",
    "    return centroids_dict\n",
    "\n",
    "\n",
    "# given datapoints and cluster centroids, returns array with key\n",
    "# of the closest cluster\n",
    "def get_cluster_assignments(X, centroids_dict):\n",
    "\n",
    "    # get number of centroids\n",
    "    n_c = len(centroids_dict.keys())\n",
    "    n_feat = X.shape[1]\n",
    "\n",
    "    # get number of samples\n",
    "    n_samp = X.shape[0]\n",
    "\n",
    "    # initialize arr to store distance from each centroid\n",
    "    dist_arr = np.zeros((n_samp, n_c))\n",
    "\n",
    "    # calculate distance from each centroid\n",
    "    for i in range(n_c):\n",
    "        \n",
    "        # get distance from each centroid\n",
    "        dist_arr[:, i] = np.sqrt(np.sum((X - centroids_dict[i]) ** 2, axis=1))\n",
    "\n",
    "    # get index of the lowest distance over rows(diff clusters)\n",
    "    # the indx corresponds to the cluster key\n",
    "    cluster_assignments = np.argmin(dist_arr, axis=1)\n",
    "\n",
    "    return cluster_assignments\n",
    "\n",
    "\n",
    "# given datapoints and number of the closeast cluster,\n",
    "# computes new centroids\n",
    "def compute_cluster_centroids(X, cluster_assignments):\n",
    "\n",
    "    # initalize dict to store centroids\n",
    "    centroids_dict = {}\n",
    "\n",
    "    n_samp, n_feat = X.shape\n",
    "\n",
    "    # get number of clusters\n",
    "    n_c = np.max(cluster_assignments) + 1\n",
    "\n",
    "    for i in range(n_c):\n",
    "\n",
    "        # datapoints belonging to cluster i\n",
    "        x_i = X[cluster_assignments == i]\n",
    "        \n",
    "        # if there are no datapoints assignd to the cluster\n",
    "        if x_i.shape[0] != 0:\n",
    "            centroids_dict[i] = np.sum(x_i, axis = 0) / x_i.shape[0]\n",
    "        else:\n",
    "            centroids_dict[i] = np.sum(x_i, axis=0)\n",
    "\n",
    "    return centroids_dict\n",
    "\n",
    "\n",
    "# given datapoints, assigned_cluster and centroids, computes the\n",
    "# average squared distance of the clusters\n",
    "def get_average_squared_distance(X, cluster_assignments, centroids_dict):\n",
    "\n",
    "    n_samp, n_feat = X.shape\n",
    "\n",
    "    # get number of clusters\n",
    "    n_c = np.max(cluster_assignments) + 1\n",
    "\n",
    "    # stores average squared distance\n",
    "    sum_sq_dist = 0\n",
    "\n",
    "    # for each cluster\n",
    "    for i in range(n_c):\n",
    "        # calculate distance between datapoints belonging to cluster i\n",
    "        # with centroid of cluster i\n",
    "        dist_arr = np.sum((X[cluster_assignments == i] - centroids_dict[i]) ** 2, axis=1)\n",
    "\n",
    "        # calculate sum of squared distances\n",
    "        sum_sq_dist = sum_sq_dist + np.sum(dist_arr)\n",
    "\n",
    "    return sum_sq_dist / n_c\n",
    "\n",
    "\n",
    "def get_predictions(X_train, Y_train, cluster_assignments):\n",
    "\n",
    "    n_samp, n_feat = X_train.shape\n",
    "\n",
    "    # get number of clusters\n",
    "    n_c_list = np.unique(cluster_assignments).tolist()\n",
    "\n",
    "    # create array to store predictions\n",
    "    Y_pred = np.zeros(n_samp, dtype = object)\n",
    "\n",
    "    # create dict to store majority label for the cluster\n",
    "    cluster_labels = {}\n",
    "\n",
    "    # concatenate X with cluster assignments and actual labels\n",
    "    # to assign predicted labels\n",
    "    X = np.concatenate((X_train, Y_train.reshape(n_samp,1)), axis = 1)\n",
    "\n",
    "    for n in n_c_list:\n",
    "\n",
    "        # get actual labels for all datapoints assigned to cluster number i\n",
    "        labels = X[cluster_assignments == n][:, -1]\n",
    "\n",
    "        # get count of each label\n",
    "        values, counts = np.unique(labels, return_counts = True)\n",
    "\n",
    "        # index of label with the highest count\n",
    "        mode_idx = np.argmax(counts)\n",
    "\n",
    "        # label with the highest count\n",
    "        mode = values[mode_idx]\n",
    "\n",
    "        # save label of the given cluster\n",
    "        cluster_labels[n] = mode\n",
    "\n",
    "    for i in range(n_samp):\n",
    "\n",
    "        # get predicted labels from each sampple according to the\n",
    "        # cluster it belongs to\n",
    "        Y_pred[i] = cluster_labels[cluster_assignments[i]]\n",
    "\n",
    "    return Y_pred\n",
    "\n",
    "\n",
    "# returns weighted accuracy\n",
    "def get_weighted_acc(Y_pred, Y_train, cluster_assignments):\n",
    "\n",
    "    # get number of samples and clusters\n",
    "    n_samp = Y_pred.shape[0]\n",
    "    n_c_list = np.unique(cluster_assignments).tolist()\n",
    "\n",
    "    # concat values for easy computation\n",
    "    Y = np.concatenate((Y_train.reshape(n_samp, 1), Y_pred.reshape(n_samp, 1),\n",
    "                        cluster_assignments.reshape(n_samp, 1)), axis=1)\n",
    "\n",
    "    # initalize array to store weights and accuracy\n",
    "    weights = np.zeros((1, len(n_c_list)))\n",
    "    acc = np.zeros((1, len(n_c_list)))\n",
    "\n",
    "    for i, n in enumerate(n_c_list):\n",
    "        # all prediction values belonging to cluster i\n",
    "        y_i = Y[cluster_assignments == n]\n",
    "\n",
    "        # weight for cluster i\n",
    "        weights[0, i] = y_i.shape[0] / n_samp\n",
    "\n",
    "        # accuracy for cluster i\n",
    "        acc[0, i] = np.sum((y_i[:, 0] == y_i[:, 1])) / y_i.shape[0]\n",
    "\n",
    "    # caluclate the weighted sum\n",
    "    weighted_acc = np.sum(weights * acc)\n",
    "\n",
    "    return weighted_acc\n",
    "\n",
    "# compares two arrays and returns class accuracy\n",
    "def get_class_acc(Y_pred, Y):\n",
    "    \n",
    "    # create a dict to store class accuracy\n",
    "    class_acc = {}\n",
    "    \n",
    "    # get all unique classes\n",
    "    classes = set(Y.tolist())\n",
    "    \n",
    "    # get number of samples\n",
    "    n_samples = Y_pred.shape[0]\n",
    "    \n",
    "    # calculate total occurence and accurate predictions for each class\n",
    "    for c in classes:\n",
    "        \n",
    "        total = 0\n",
    "        acc_vals = 0\n",
    "        \n",
    "        for i in range(n_samples):\n",
    "            if Y[i] == c:\n",
    "                total = total + 1\n",
    "                if Y[i] == Y_pred[i]:\n",
    "                    acc_vals = acc_vals + 1\n",
    "                \n",
    "        class_acc[c] = acc_vals/total\n",
    "        \n",
    "    return class_acc"
   ]
  },
  {
   "cell_type": "markdown",
   "metadata": {},
   "source": [
    "#### Clustering Algorithm"
   ]
  },
  {
   "cell_type": "code",
   "execution_count": 8,
   "metadata": {},
   "outputs": [],
   "source": [
    "# given an unlabeled data, returns k number of clusters\n",
    "def get_kmeans_clusters(X, k):\n",
    "\n",
    "    # initalize cluster centroids\n",
    "    cluster_centroids_dict = initialize_cluster_centroids(X, k)\n",
    "\n",
    "    # initialize list to store average squared distance\n",
    "    avg_sq_dist_list = []\n",
    "\n",
    "    # get new cluster assignments\n",
    "    prev_cluster_assignments = get_cluster_assignments(X, cluster_centroids_dict)\n",
    "\n",
    "    while True:\n",
    "\n",
    "        # compute centroids\n",
    "        cluster_centroids_dict = compute_cluster_centroids(X, prev_cluster_assignments)\n",
    "\n",
    "        # add average squared distance\n",
    "        avg_sq_dist_list.append(get_average_squared_distance(X, prev_cluster_assignments, cluster_centroids_dict))\n",
    "\n",
    "        # get new cluster assignments\n",
    "        cluster_assignments = get_cluster_assignments(X, cluster_centroids_dict)\n",
    "\n",
    "        # if new assignments is same as the old assignments, stop\n",
    "        if (prev_cluster_assignments == cluster_assignments).all():\n",
    "            break\n",
    "\n",
    "        # save new assignments\n",
    "        prev_cluster_assignments = cluster_assignments\n",
    "\n",
    "    return cluster_assignments, avg_sq_dist_list[-1]"
   ]
  },
  {
   "cell_type": "markdown",
   "metadata": {},
   "source": [
    "### 1 b) k = 3, 6 and 9"
   ]
  },
  {
   "cell_type": "code",
   "execution_count": 9,
   "metadata": {},
   "outputs": [],
   "source": [
    "## initialize list to store weighted accuracy values\n",
    "acc_vals = []\n",
    "class_acc_vals = []\n",
    "avg_sq_dist_list = []\n",
    "k_list = [3, 6, 9]\n",
    "\n",
    "for k in k_list:\n",
    "    final_cluster_assignments, avg_sq_dist = get_kmeans_clusters(X_train, k)\n",
    "    Y_pred = get_predictions(X_train, Y_train, final_cluster_assignments)\n",
    "    acc_vals.append(get_weighted_acc(Y_pred, Y_train, final_cluster_assignments))\n",
    "    class_acc_vals.append(get_class_acc(Y_pred, Y_train))\n",
    "    avg_sq_dist_list.append(avg_sq_dist)"
   ]
  },
  {
   "cell_type": "markdown",
   "metadata": {},
   "source": [
    "#### Print Accuracy Values"
   ]
  },
  {
   "cell_type": "code",
   "execution_count": 10,
   "metadata": {},
   "outputs": [
    {
     "name": "stdout",
     "output_type": "stream",
     "text": [
      "The weighted accuracy for k = 3 is 0.442.\n",
      "The weighted accuracy for k = 6 is 0.458.\n",
      "The weighted accuracy for k = 9 is 0.508.\n"
     ]
    }
   ],
   "source": [
    "for i, k in enumerate(k_list):\n",
    "    print(f'The weighted accuracy for k = {k} is {acc_vals[i]:0.3f}.')"
   ]
  },
  {
   "cell_type": "code",
   "execution_count": 17,
   "metadata": {},
   "outputs": [
    {
     "name": "stdout",
     "output_type": "stream",
     "text": [
      "\n",
      "The class accuracy for k = 3 is:\n",
      "Plastic: 1.000\n",
      "Ceramic: 0.000\n",
      "Metal: 0.000\n",
      "\n",
      "The class accuracy for k = 6 is:\n",
      "Plastic: 0.906\n",
      "Ceramic: 0.000\n",
      "Metal: 0.212\n",
      "\n",
      "The class accuracy for k = 9 is:\n",
      "Plastic: 0.755\n",
      "Ceramic: 0.176\n",
      "Metal: 0.455\n"
     ]
    }
   ],
   "source": [
    "for i in range(len(class_acc_vals)):\n",
    "    print(f'\\nThe class accuracy for k = {k_list[i]} is:')\n",
    "    for k, v in class_acc_vals[i].items():\n",
    "        print(f'{k}: {v:0.3f}')"
   ]
  },
  {
   "cell_type": "markdown",
   "metadata": {},
   "source": [
    "### Plot Average squared distance error"
   ]
  },
  {
   "cell_type": "code",
   "execution_count": 19,
   "metadata": {},
   "outputs": [
    {
     "data": {
      "image/png": "[encoded data removed]",
      "text/plain": [
       "<Figure size 600x400 with 1 Axes>"
      ]
     },
     "metadata": {},
     "output_type": "display_data"
    }
   ],
   "source": [
    "plt.figure(figsize = (6, 4))\n",
    "plt.plot(k_list, avg_sq_dist_list, color = 'blue')\n",
    "\n",
    "# add title and labels\n",
    "plt.title('Average squared distance for different number of clusters', fontdict = {'fontsize': 14})\n",
    "plt.xlabel('Number of clusters(k)', fontdict = {'fontsize': 12})\n",
    "plt.ylabel('Average squared distance', fontdict = {'fontsize': 12})\n",
    "plt.grid()"
   ]
  },
  {
   "cell_type": "code",
   "execution_count": null,
   "metadata": {},
   "outputs": [],
   "source": []
  }
 ],
 "metadata": {
  "kernelspec": {
   "display_name": "Python 3 (ipykernel)",
   "language": "python",
   "name": "python3"
  },
  "language_info": {
   "codemirror_mode": {
    "name": "ipython",
    "version": 3
   },
   "file_extension": ".py",
   "mimetype": "text/x-python",
   "name": "python",
   "nbconvert_exporter": "python",
   "pygments_lexer": "ipython3",
   "version": "3.10.9"
  }
 },
 "nbformat": 4,
 "nbformat_minor": 4
}
